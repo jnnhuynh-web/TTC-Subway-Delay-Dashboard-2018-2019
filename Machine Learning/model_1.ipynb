{
 "cells": [
  {
   "cell_type": "code",
   "execution_count": 1,
   "metadata": {},
   "outputs": [],
   "source": [
    "# Update sklearn to prevent version mismatches\n",
    "# !pip install sklearn --upgrade"
   ]
  },
  {
   "cell_type": "code",
   "execution_count": 2,
   "metadata": {},
   "outputs": [],
   "source": [
    "# install joblib. This will be used to save your model. \n",
    "# Restart your kernel after installing \n",
    "# !pip install joblib"
   ]
  },
  {
   "cell_type": "code",
   "execution_count": 86,
   "metadata": {},
   "outputs": [],
   "source": [
    "import pandas as pd"
   ]
  },
  {
   "cell_type": "markdown",
   "metadata": {},
   "source": [
    "# Read the CSV and Perform Basic Data Cleaning"
   ]
  },
  {
   "cell_type": "code",
   "execution_count": 94,
   "metadata": {},
   "outputs": [
    {
     "data": {
      "text/html": [
       "<div>\n",
       "<style scoped>\n",
       "    .dataframe tbody tr th:only-of-type {\n",
       "        vertical-align: middle;\n",
       "    }\n",
       "\n",
       "    .dataframe tbody tr th {\n",
       "        vertical-align: top;\n",
       "    }\n",
       "\n",
       "    .dataframe thead th {\n",
       "        text-align: right;\n",
       "    }\n",
       "</style>\n",
       "<table border=\"1\" class=\"dataframe\">\n",
       "  <thead>\n",
       "    <tr style=\"text-align: right;\">\n",
       "      <th></th>\n",
       "      <th>id</th>\n",
       "      <th>date</th>\n",
       "      <th>time</th>\n",
       "      <th>day</th>\n",
       "      <th>station</th>\n",
       "      <th>code</th>\n",
       "      <th>min_delay</th>\n",
       "      <th>min_gap</th>\n",
       "      <th>bound</th>\n",
       "      <th>line</th>\n",
       "      <th>vehicle</th>\n",
       "      <th>code_info</th>\n",
       "      <th>latitude</th>\n",
       "      <th>longitude</th>\n",
       "      <th>line_name</th>\n",
       "      <th>month</th>\n",
       "      <th>time_range</th>\n",
       "      <th>month_number</th>\n",
       "      <th>hour</th>\n",
       "      <th>year</th>\n",
       "    </tr>\n",
       "  </thead>\n",
       "  <tbody>\n",
       "    <tr>\n",
       "      <th>0</th>\n",
       "      <td>20</td>\n",
       "      <td>2019-01-01</td>\n",
       "      <td>18:49</td>\n",
       "      <td>Tuesday</td>\n",
       "      <td>BATHURST STATION</td>\n",
       "      <td>MUI</td>\n",
       "      <td>5</td>\n",
       "      <td>9</td>\n",
       "      <td>W</td>\n",
       "      <td>BD</td>\n",
       "      <td>5126</td>\n",
       "      <td>Injured or ill Customer (On Train) - Transported</td>\n",
       "      <td>43.3958</td>\n",
       "      <td>-79.244</td>\n",
       "      <td>Bloor Danforth</td>\n",
       "      <td>January</td>\n",
       "      <td>6-9PM</td>\n",
       "      <td>1</td>\n",
       "      <td>18</td>\n",
       "      <td>2019</td>\n",
       "    </tr>\n",
       "    <tr>\n",
       "      <th>1</th>\n",
       "      <td>74</td>\n",
       "      <td>2019-01-04</td>\n",
       "      <td>17:46</td>\n",
       "      <td>Friday</td>\n",
       "      <td>BATHURST STATION</td>\n",
       "      <td>MUI</td>\n",
       "      <td>6</td>\n",
       "      <td>9</td>\n",
       "      <td>E</td>\n",
       "      <td>BD</td>\n",
       "      <td>5193</td>\n",
       "      <td>Injured or ill Customer (On Train) - Transported</td>\n",
       "      <td>43.3958</td>\n",
       "      <td>-79.244</td>\n",
       "      <td>Bloor Danforth</td>\n",
       "      <td>January</td>\n",
       "      <td>3-6PM</td>\n",
       "      <td>1</td>\n",
       "      <td>17</td>\n",
       "      <td>2019</td>\n",
       "    </tr>\n",
       "    <tr>\n",
       "      <th>2</th>\n",
       "      <td>147</td>\n",
       "      <td>2019-01-09</td>\n",
       "      <td>20:04</td>\n",
       "      <td>Wednesday</td>\n",
       "      <td>BATHURST STATION</td>\n",
       "      <td>EUDO</td>\n",
       "      <td>4</td>\n",
       "      <td>7</td>\n",
       "      <td>W</td>\n",
       "      <td>BD</td>\n",
       "      <td>5025</td>\n",
       "      <td>Door Problems - Faulty Equipment</td>\n",
       "      <td>43.3958</td>\n",
       "      <td>-79.244</td>\n",
       "      <td>Bloor Danforth</td>\n",
       "      <td>January</td>\n",
       "      <td>6-9PM</td>\n",
       "      <td>1</td>\n",
       "      <td>20</td>\n",
       "      <td>2019</td>\n",
       "    </tr>\n",
       "    <tr>\n",
       "      <th>3</th>\n",
       "      <td>417</td>\n",
       "      <td>2019-01-22</td>\n",
       "      <td>20:05</td>\n",
       "      <td>Tuesday</td>\n",
       "      <td>BATHURST STATION</td>\n",
       "      <td>EUNT</td>\n",
       "      <td>6</td>\n",
       "      <td>9</td>\n",
       "      <td>W</td>\n",
       "      <td>BD</td>\n",
       "      <td>5322</td>\n",
       "      <td>Equipment - No Trouble Found</td>\n",
       "      <td>43.3958</td>\n",
       "      <td>-79.244</td>\n",
       "      <td>Bloor Danforth</td>\n",
       "      <td>January</td>\n",
       "      <td>6-9PM</td>\n",
       "      <td>1</td>\n",
       "      <td>20</td>\n",
       "      <td>2019</td>\n",
       "    </tr>\n",
       "    <tr>\n",
       "      <th>4</th>\n",
       "      <td>736</td>\n",
       "      <td>2019-02-04</td>\n",
       "      <td>7:50</td>\n",
       "      <td>Monday</td>\n",
       "      <td>BATHURST STATION</td>\n",
       "      <td>MUIR</td>\n",
       "      <td>3</td>\n",
       "      <td>5</td>\n",
       "      <td>E</td>\n",
       "      <td>BD</td>\n",
       "      <td>5358</td>\n",
       "      <td>Injured or ill Customer (On Train) - Medical A...</td>\n",
       "      <td>43.3958</td>\n",
       "      <td>-79.244</td>\n",
       "      <td>Bloor Danforth</td>\n",
       "      <td>February</td>\n",
       "      <td>5-9AM</td>\n",
       "      <td>2</td>\n",
       "      <td>7</td>\n",
       "      <td>2019</td>\n",
       "    </tr>\n",
       "  </tbody>\n",
       "</table>\n",
       "</div>"
      ],
      "text/plain": [
       "    id        date   time        day           station  code  min_delay  \\\n",
       "0   20  2019-01-01  18:49    Tuesday  BATHURST STATION   MUI          5   \n",
       "1   74  2019-01-04  17:46     Friday  BATHURST STATION   MUI          6   \n",
       "2  147  2019-01-09  20:04  Wednesday  BATHURST STATION  EUDO          4   \n",
       "3  417  2019-01-22  20:05    Tuesday  BATHURST STATION  EUNT          6   \n",
       "4  736  2019-02-04   7:50     Monday  BATHURST STATION  MUIR          3   \n",
       "\n",
       "   min_gap bound line  vehicle  \\\n",
       "0        9     W   BD     5126   \n",
       "1        9     E   BD     5193   \n",
       "2        7     W   BD     5025   \n",
       "3        9     W   BD     5322   \n",
       "4        5     E   BD     5358   \n",
       "\n",
       "                                           code_info  latitude  longitude  \\\n",
       "0   Injured or ill Customer (On Train) - Transported   43.3958    -79.244   \n",
       "1   Injured or ill Customer (On Train) - Transported   43.3958    -79.244   \n",
       "2                   Door Problems - Faulty Equipment   43.3958    -79.244   \n",
       "3                       Equipment - No Trouble Found   43.3958    -79.244   \n",
       "4  Injured or ill Customer (On Train) - Medical A...   43.3958    -79.244   \n",
       "\n",
       "        line_name     month time_range  month_number  hour  year  \n",
       "0  Bloor Danforth   January      6-9PM             1    18  2019  \n",
       "1  Bloor Danforth   January      3-6PM             1    17  2019  \n",
       "2  Bloor Danforth   January      6-9PM             1    20  2019  \n",
       "3  Bloor Danforth   January      6-9PM             1    20  2019  \n",
       "4  Bloor Danforth  February      5-9AM             2     7  2019  "
      ]
     },
     "execution_count": 94,
     "metadata": {},
     "output_type": "execute_result"
    }
   ],
   "source": [
    "df = pd.read_csv(\"../Data/ttc_subway_delay_2018_2019.csv\", encoding='unicode_escape')\n",
    "# Drop the null columns where all values are null\n",
    "df = df.dropna(axis='columns', how='all')\n",
    "df.head()"
   ]
  },
  {
   "cell_type": "markdown",
   "metadata": {},
   "source": [
    "# Select your features (columns)"
   ]
  },
  {
   "cell_type": "code",
   "execution_count": 95,
   "metadata": {},
   "outputs": [
    {
     "data": {
      "text/html": [
       "<div>\n",
       "<style scoped>\n",
       "    .dataframe tbody tr th:only-of-type {\n",
       "        vertical-align: middle;\n",
       "    }\n",
       "\n",
       "    .dataframe tbody tr th {\n",
       "        vertical-align: top;\n",
       "    }\n",
       "\n",
       "    .dataframe thead th {\n",
       "        text-align: right;\n",
       "    }\n",
       "</style>\n",
       "<table border=\"1\" class=\"dataframe\">\n",
       "  <thead>\n",
       "    <tr style=\"text-align: right;\">\n",
       "      <th></th>\n",
       "      <th>id</th>\n",
       "      <th>station</th>\n",
       "      <th>min_delay</th>\n",
       "      <th>min_gap</th>\n",
       "      <th>vehicle</th>\n",
       "      <th>latitude</th>\n",
       "      <th>longitude</th>\n",
       "      <th>month_number</th>\n",
       "      <th>hour</th>\n",
       "      <th>year</th>\n",
       "    </tr>\n",
       "  </thead>\n",
       "  <tbody>\n",
       "    <tr>\n",
       "      <th>0</th>\n",
       "      <td>20</td>\n",
       "      <td>BATHURST STATION</td>\n",
       "      <td>5</td>\n",
       "      <td>9</td>\n",
       "      <td>5126</td>\n",
       "      <td>43.3958</td>\n",
       "      <td>-79.244</td>\n",
       "      <td>1</td>\n",
       "      <td>18</td>\n",
       "      <td>2019</td>\n",
       "    </tr>\n",
       "    <tr>\n",
       "      <th>1</th>\n",
       "      <td>74</td>\n",
       "      <td>BATHURST STATION</td>\n",
       "      <td>6</td>\n",
       "      <td>9</td>\n",
       "      <td>5193</td>\n",
       "      <td>43.3958</td>\n",
       "      <td>-79.244</td>\n",
       "      <td>1</td>\n",
       "      <td>17</td>\n",
       "      <td>2019</td>\n",
       "    </tr>\n",
       "    <tr>\n",
       "      <th>2</th>\n",
       "      <td>147</td>\n",
       "      <td>BATHURST STATION</td>\n",
       "      <td>4</td>\n",
       "      <td>7</td>\n",
       "      <td>5025</td>\n",
       "      <td>43.3958</td>\n",
       "      <td>-79.244</td>\n",
       "      <td>1</td>\n",
       "      <td>20</td>\n",
       "      <td>2019</td>\n",
       "    </tr>\n",
       "    <tr>\n",
       "      <th>3</th>\n",
       "      <td>417</td>\n",
       "      <td>BATHURST STATION</td>\n",
       "      <td>6</td>\n",
       "      <td>9</td>\n",
       "      <td>5322</td>\n",
       "      <td>43.3958</td>\n",
       "      <td>-79.244</td>\n",
       "      <td>1</td>\n",
       "      <td>20</td>\n",
       "      <td>2019</td>\n",
       "    </tr>\n",
       "    <tr>\n",
       "      <th>4</th>\n",
       "      <td>736</td>\n",
       "      <td>BATHURST STATION</td>\n",
       "      <td>3</td>\n",
       "      <td>5</td>\n",
       "      <td>5358</td>\n",
       "      <td>43.3958</td>\n",
       "      <td>-79.244</td>\n",
       "      <td>2</td>\n",
       "      <td>7</td>\n",
       "      <td>2019</td>\n",
       "    </tr>\n",
       "  </tbody>\n",
       "</table>\n",
       "</div>"
      ],
      "text/plain": [
       "    id           station  min_delay  min_gap  vehicle  latitude  longitude  \\\n",
       "0   20  BATHURST STATION          5        9     5126   43.3958    -79.244   \n",
       "1   74  BATHURST STATION          6        9     5193   43.3958    -79.244   \n",
       "2  147  BATHURST STATION          4        7     5025   43.3958    -79.244   \n",
       "3  417  BATHURST STATION          6        9     5322   43.3958    -79.244   \n",
       "4  736  BATHURST STATION          3        5     5358   43.3958    -79.244   \n",
       "\n",
       "   month_number  hour  year  \n",
       "0             1    18  2019  \n",
       "1             1    17  2019  \n",
       "2             1    20  2019  \n",
       "3             1    20  2019  \n",
       "4             2     7  2019  "
      ]
     },
     "execution_count": 95,
     "metadata": {},
     "output_type": "execute_result"
    }
   ],
   "source": [
    "# Drop the null rows, and everything that is not a float except station\n",
    "df = df.dropna().drop(['date','time','day','code','bound','line','code_info','line_name','month','time_range'], axis=1)\n",
    "df.head()"
   ]
  },
  {
   "cell_type": "markdown",
   "metadata": {},
   "source": [
    "# Create a Train Test Split\n",
    "\n"
   ]
  },
  {
   "cell_type": "code",
   "execution_count": 96,
   "metadata": {},
   "outputs": [
    {
     "name": "stdout",
     "output_type": "stream",
     "text": [
      "(13517, 9) (13517,)\n"
     ]
    }
   ],
   "source": [
    "from sklearn.model_selection import train_test_split\n",
    "from sklearn.preprocessing import LabelEncoder, MinMaxScaler\n",
    "from tensorflow.keras.utils import to_categorical\n",
    "X = df.drop(\"station\", axis=1)\n",
    "y = df[\"min_delay\"]\n",
    "print(X.shape, y.shape)"
   ]
  },
  {
   "cell_type": "code",
   "execution_count": 97,
   "metadata": {},
   "outputs": [],
   "source": [
    "X_train, X_test, y_train, y_test = train_test_split(X,y,test_size=0.33, random_state=42)"
   ]
  },
  {
   "cell_type": "code",
   "execution_count": 98,
   "metadata": {},
   "outputs": [
    {
     "data": {
      "text/html": [
       "<div>\n",
       "<style scoped>\n",
       "    .dataframe tbody tr th:only-of-type {\n",
       "        vertical-align: middle;\n",
       "    }\n",
       "\n",
       "    .dataframe tbody tr th {\n",
       "        vertical-align: top;\n",
       "    }\n",
       "\n",
       "    .dataframe thead th {\n",
       "        text-align: right;\n",
       "    }\n",
       "</style>\n",
       "<table border=\"1\" class=\"dataframe\">\n",
       "  <thead>\n",
       "    <tr style=\"text-align: right;\">\n",
       "      <th></th>\n",
       "      <th>id</th>\n",
       "      <th>min_delay</th>\n",
       "      <th>min_gap</th>\n",
       "      <th>vehicle</th>\n",
       "      <th>latitude</th>\n",
       "      <th>longitude</th>\n",
       "      <th>month_number</th>\n",
       "      <th>hour</th>\n",
       "      <th>year</th>\n",
       "    </tr>\n",
       "  </thead>\n",
       "  <tbody>\n",
       "    <tr>\n",
       "      <th>3959</th>\n",
       "      <td>9267</td>\n",
       "      <td>4</td>\n",
       "      <td>7</td>\n",
       "      <td>5566</td>\n",
       "      <td>43.4232</td>\n",
       "      <td>79.2627</td>\n",
       "      <td>5</td>\n",
       "      <td>6</td>\n",
       "      <td>2018</td>\n",
       "    </tr>\n",
       "    <tr>\n",
       "      <th>9730</th>\n",
       "      <td>867</td>\n",
       "      <td>4</td>\n",
       "      <td>6</td>\n",
       "      <td>6666</td>\n",
       "      <td>43.4002</td>\n",
       "      <td>-79.2414</td>\n",
       "      <td>2</td>\n",
       "      <td>7</td>\n",
       "      <td>2019</td>\n",
       "    </tr>\n",
       "    <tr>\n",
       "      <th>1367</th>\n",
       "      <td>9178</td>\n",
       "      <td>4</td>\n",
       "      <td>8</td>\n",
       "      <td>5151</td>\n",
       "      <td>43.4103</td>\n",
       "      <td>-79.1923</td>\n",
       "      <td>5</td>\n",
       "      <td>19</td>\n",
       "      <td>2018</td>\n",
       "    </tr>\n",
       "    <tr>\n",
       "      <th>4843</th>\n",
       "      <td>13649</td>\n",
       "      <td>3</td>\n",
       "      <td>5</td>\n",
       "      <td>5137</td>\n",
       "      <td>43.3920</td>\n",
       "      <td>-79.2735</td>\n",
       "      <td>12</td>\n",
       "      <td>7</td>\n",
       "      <td>2018</td>\n",
       "    </tr>\n",
       "    <tr>\n",
       "      <th>6028</th>\n",
       "      <td>8237</td>\n",
       "      <td>10</td>\n",
       "      <td>12</td>\n",
       "      <td>5305</td>\n",
       "      <td>43.3814</td>\n",
       "      <td>-79.3210</td>\n",
       "      <td>3</td>\n",
       "      <td>16</td>\n",
       "      <td>2018</td>\n",
       "    </tr>\n",
       "  </tbody>\n",
       "</table>\n",
       "</div>"
      ],
      "text/plain": [
       "         id  min_delay  min_gap  vehicle  latitude  longitude  month_number  \\\n",
       "3959   9267          4        7     5566   43.4232    79.2627             5   \n",
       "9730    867          4        6     6666   43.4002   -79.2414             2   \n",
       "1367   9178          4        8     5151   43.4103   -79.1923             5   \n",
       "4843  13649          3        5     5137   43.3920   -79.2735            12   \n",
       "6028   8237         10       12     5305   43.3814   -79.3210             3   \n",
       "\n",
       "      hour  year  \n",
       "3959     6  2018  \n",
       "9730     7  2019  \n",
       "1367    19  2018  \n",
       "4843     7  2018  \n",
       "6028    16  2018  "
      ]
     },
     "execution_count": 98,
     "metadata": {},
     "output_type": "execute_result"
    }
   ],
   "source": [
    "X_train.head()"
   ]
  },
  {
   "cell_type": "markdown",
   "metadata": {},
   "source": [
    "# Pre-processing\n",
    "\n",
    "Scale the data using the MinMaxScaler and perform some feature selection"
   ]
  },
  {
   "cell_type": "code",
   "execution_count": 99,
   "metadata": {},
   "outputs": [],
   "source": [
    "# Scale data\n",
    "X_scaler = MinMaxScaler().fit(X_train)\n",
    "X_train_scaled = X_scaler.transform(X_train)\n",
    "X_test_scaled = X_scaler.transform(X_test)"
   ]
  },
  {
   "cell_type": "code",
   "execution_count": 100,
   "metadata": {},
   "outputs": [
    {
     "ename": "ValueError",
     "evalue": "y contains previously unseen labels: [62, 79, 87, 107]",
     "output_type": "error",
     "traceback": [
      "\u001b[1;31m---------------------------------------------------------------------------\u001b[0m",
      "\u001b[1;31mValueError\u001b[0m                                Traceback (most recent call last)",
      "\u001b[1;32m<ipython-input-100-3fe8f2a9d8e4>\u001b[0m in \u001b[0;36m<module>\u001b[1;34m\u001b[0m\n\u001b[0;32m      3\u001b[0m \u001b[0mlabel_encoder\u001b[0m\u001b[1;33m.\u001b[0m\u001b[0mfit\u001b[0m\u001b[1;33m(\u001b[0m\u001b[0my_train\u001b[0m\u001b[1;33m)\u001b[0m\u001b[1;33m\u001b[0m\u001b[1;33m\u001b[0m\u001b[0m\n\u001b[0;32m      4\u001b[0m \u001b[0mencoded_y_train\u001b[0m \u001b[1;33m=\u001b[0m \u001b[0mlabel_encoder\u001b[0m\u001b[1;33m.\u001b[0m\u001b[0mtransform\u001b[0m\u001b[1;33m(\u001b[0m\u001b[0my_train\u001b[0m\u001b[1;33m)\u001b[0m\u001b[1;33m\u001b[0m\u001b[1;33m\u001b[0m\u001b[0m\n\u001b[1;32m----> 5\u001b[1;33m \u001b[0mencoded_y_test\u001b[0m \u001b[1;33m=\u001b[0m \u001b[0mlabel_encoder\u001b[0m\u001b[1;33m.\u001b[0m\u001b[0mtransform\u001b[0m\u001b[1;33m(\u001b[0m\u001b[0my_test\u001b[0m\u001b[1;33m)\u001b[0m\u001b[1;33m\u001b[0m\u001b[1;33m\u001b[0m\u001b[0m\n\u001b[0m",
      "\u001b[1;32m~\\Anaconda3\\lib\\site-packages\\sklearn\\preprocessing\\_label.py\u001b[0m in \u001b[0;36mtransform\u001b[1;34m(self, y)\u001b[0m\n\u001b[0;32m    271\u001b[0m             \u001b[1;32mreturn\u001b[0m \u001b[0mnp\u001b[0m\u001b[1;33m.\u001b[0m\u001b[0marray\u001b[0m\u001b[1;33m(\u001b[0m\u001b[1;33m[\u001b[0m\u001b[1;33m]\u001b[0m\u001b[1;33m)\u001b[0m\u001b[1;33m\u001b[0m\u001b[1;33m\u001b[0m\u001b[0m\n\u001b[0;32m    272\u001b[0m \u001b[1;33m\u001b[0m\u001b[0m\n\u001b[1;32m--> 273\u001b[1;33m         \u001b[0m_\u001b[0m\u001b[1;33m,\u001b[0m \u001b[0my\u001b[0m \u001b[1;33m=\u001b[0m \u001b[0m_encode\u001b[0m\u001b[1;33m(\u001b[0m\u001b[0my\u001b[0m\u001b[1;33m,\u001b[0m \u001b[0muniques\u001b[0m\u001b[1;33m=\u001b[0m\u001b[0mself\u001b[0m\u001b[1;33m.\u001b[0m\u001b[0mclasses_\u001b[0m\u001b[1;33m,\u001b[0m \u001b[0mencode\u001b[0m\u001b[1;33m=\u001b[0m\u001b[1;32mTrue\u001b[0m\u001b[1;33m)\u001b[0m\u001b[1;33m\u001b[0m\u001b[1;33m\u001b[0m\u001b[0m\n\u001b[0m\u001b[0;32m    274\u001b[0m         \u001b[1;32mreturn\u001b[0m \u001b[0my\u001b[0m\u001b[1;33m\u001b[0m\u001b[1;33m\u001b[0m\u001b[0m\n\u001b[0;32m    275\u001b[0m \u001b[1;33m\u001b[0m\u001b[0m\n",
      "\u001b[1;32m~\\Anaconda3\\lib\\site-packages\\sklearn\\preprocessing\\_label.py\u001b[0m in \u001b[0;36m_encode\u001b[1;34m(values, uniques, encode, check_unknown)\u001b[0m\n\u001b[0;32m    116\u001b[0m     \u001b[1;32melse\u001b[0m\u001b[1;33m:\u001b[0m\u001b[1;33m\u001b[0m\u001b[1;33m\u001b[0m\u001b[0m\n\u001b[0;32m    117\u001b[0m         return _encode_numpy(values, uniques, encode,\n\u001b[1;32m--> 118\u001b[1;33m                              check_unknown=check_unknown)\n\u001b[0m\u001b[0;32m    119\u001b[0m \u001b[1;33m\u001b[0m\u001b[0m\n\u001b[0;32m    120\u001b[0m \u001b[1;33m\u001b[0m\u001b[0m\n",
      "\u001b[1;32m~\\Anaconda3\\lib\\site-packages\\sklearn\\preprocessing\\_label.py\u001b[0m in \u001b[0;36m_encode_numpy\u001b[1;34m(values, uniques, encode, check_unknown)\u001b[0m\n\u001b[0;32m     48\u001b[0m             \u001b[1;32mif\u001b[0m \u001b[0mdiff\u001b[0m\u001b[1;33m:\u001b[0m\u001b[1;33m\u001b[0m\u001b[1;33m\u001b[0m\u001b[0m\n\u001b[0;32m     49\u001b[0m                 raise ValueError(\"y contains previously unseen labels: %s\"\n\u001b[1;32m---> 50\u001b[1;33m                                  % str(diff))\n\u001b[0m\u001b[0;32m     51\u001b[0m         \u001b[0mencoded\u001b[0m \u001b[1;33m=\u001b[0m \u001b[0mnp\u001b[0m\u001b[1;33m.\u001b[0m\u001b[0msearchsorted\u001b[0m\u001b[1;33m(\u001b[0m\u001b[0muniques\u001b[0m\u001b[1;33m,\u001b[0m \u001b[0mvalues\u001b[0m\u001b[1;33m)\u001b[0m\u001b[1;33m\u001b[0m\u001b[1;33m\u001b[0m\u001b[0m\n\u001b[0;32m     52\u001b[0m         \u001b[1;32mreturn\u001b[0m \u001b[0muniques\u001b[0m\u001b[1;33m,\u001b[0m \u001b[0mencoded\u001b[0m\u001b[1;33m\u001b[0m\u001b[1;33m\u001b[0m\u001b[0m\n",
      "\u001b[1;31mValueError\u001b[0m: y contains previously unseen labels: [62, 79, 87, 107]"
     ]
    }
   ],
   "source": [
    "# Encode Data\n",
    "label_encoder = LabelEncoder()\n",
    "label_encoder.fit(y_train)\n",
    "encoded_y_train = label_encoder.transform(y_train)\n",
    "encoded_y_test = label_encoder.transform(y_test)"
   ]
  },
  {
   "cell_type": "code",
   "execution_count": 9,
   "metadata": {},
   "outputs": [
    {
     "name": "stdout",
     "output_type": "stream",
     "text": [
      "Train on 5243 samples\n",
      "Epoch 1/50\n",
      "5243/5243 - 1s - loss: 0.5413 - accuracy: 0.7265\n",
      "Epoch 2/50\n",
      "5243/5243 - 0s - loss: 0.3679 - accuracy: 0.8041\n",
      "Epoch 3/50\n",
      "5243/5243 - 0s - loss: 0.3558 - accuracy: 0.8133\n",
      "Epoch 4/50\n",
      "5243/5243 - 0s - loss: 0.3402 - accuracy: 0.8327\n",
      "Epoch 5/50\n",
      "5243/5243 - 0s - loss: 0.3399 - accuracy: 0.8249\n",
      "Epoch 6/50\n",
      "5243/5243 - 0s - loss: 0.3330 - accuracy: 0.8373\n",
      "Epoch 7/50\n",
      "5243/5243 - 0s - loss: 0.3219 - accuracy: 0.8432\n",
      "Epoch 8/50\n",
      "5243/5243 - 0s - loss: 0.3236 - accuracy: 0.8352\n",
      "Epoch 9/50\n",
      "5243/5243 - 0s - loss: 0.3146 - accuracy: 0.8522\n",
      "Epoch 10/50\n",
      "5243/5243 - 0s - loss: 0.3160 - accuracy: 0.8491\n",
      "Epoch 11/50\n",
      "5243/5243 - 0s - loss: 0.3069 - accuracy: 0.8552\n",
      "Epoch 12/50\n",
      "5243/5243 - 0s - loss: 0.3023 - accuracy: 0.8623\n",
      "Epoch 13/50\n",
      "5243/5243 - 0s - loss: 0.2974 - accuracy: 0.8632\n",
      "Epoch 14/50\n",
      "5243/5243 - 0s - loss: 0.3029 - accuracy: 0.8636\n",
      "Epoch 15/50\n",
      "5243/5243 - 0s - loss: 0.2943 - accuracy: 0.8682\n",
      "Epoch 16/50\n",
      "5243/5243 - 0s - loss: 0.2948 - accuracy: 0.8674\n",
      "Epoch 17/50\n",
      "5243/5243 - 0s - loss: 0.2909 - accuracy: 0.8699\n",
      "Epoch 18/50\n",
      "5243/5243 - 0s - loss: 0.2941 - accuracy: 0.8634\n",
      "Epoch 19/50\n",
      "5243/5243 - 0s - loss: 0.2894 - accuracy: 0.8709\n",
      "Epoch 20/50\n",
      "5243/5243 - 0s - loss: 0.2811 - accuracy: 0.8737\n",
      "Epoch 21/50\n",
      "5243/5243 - 0s - loss: 0.2811 - accuracy: 0.8730\n",
      "Epoch 22/50\n",
      "5243/5243 - 0s - loss: 0.2764 - accuracy: 0.8774\n",
      "Epoch 23/50\n",
      "5243/5243 - 0s - loss: 0.2805 - accuracy: 0.8720\n",
      "Epoch 24/50\n",
      "5243/5243 - 0s - loss: 0.2753 - accuracy: 0.8800\n",
      "Epoch 25/50\n",
      "5243/5243 - 0s - loss: 0.2769 - accuracy: 0.8756\n",
      "Epoch 26/50\n",
      "5243/5243 - 0s - loss: 0.2734 - accuracy: 0.8747\n",
      "Epoch 27/50\n",
      "5243/5243 - 0s - loss: 0.2687 - accuracy: 0.8833\n",
      "Epoch 28/50\n",
      "5243/5243 - 0s - loss: 0.2638 - accuracy: 0.8833\n",
      "Epoch 29/50\n",
      "5243/5243 - 0s - loss: 0.2621 - accuracy: 0.8886\n",
      "Epoch 30/50\n",
      "5243/5243 - 0s - loss: 0.2600 - accuracy: 0.8890\n",
      "Epoch 31/50\n",
      "5243/5243 - 0s - loss: 0.2604 - accuracy: 0.8838\n",
      "Epoch 32/50\n",
      "5243/5243 - 0s - loss: 0.2618 - accuracy: 0.8879\n",
      "Epoch 33/50\n",
      "5243/5243 - 0s - loss: 0.2557 - accuracy: 0.8879\n",
      "Epoch 34/50\n",
      "5243/5243 - 0s - loss: 0.2599 - accuracy: 0.8842\n",
      "Epoch 35/50\n",
      "5243/5243 - 0s - loss: 0.2538 - accuracy: 0.8899\n",
      "Epoch 36/50\n",
      "5243/5243 - 0s - loss: 0.2530 - accuracy: 0.8884\n",
      "Epoch 37/50\n",
      "5243/5243 - 0s - loss: 0.2516 - accuracy: 0.8875\n",
      "Epoch 38/50\n",
      "5243/5243 - 0s - loss: 0.2533 - accuracy: 0.8856\n",
      "Epoch 39/50\n",
      "5243/5243 - 0s - loss: 0.2532 - accuracy: 0.8903\n",
      "Epoch 40/50\n",
      "5243/5243 - 0s - loss: 0.2555 - accuracy: 0.8829\n",
      "Epoch 41/50\n",
      "5243/5243 - 0s - loss: 0.2537 - accuracy: 0.8911\n",
      "Epoch 42/50\n",
      "5243/5243 - 0s - loss: 0.2502 - accuracy: 0.8890\n",
      "Epoch 43/50\n",
      "5243/5243 - 0s - loss: 0.2467 - accuracy: 0.8943\n",
      "Epoch 44/50\n",
      "5243/5243 - 0s - loss: 0.2485 - accuracy: 0.8903\n",
      "Epoch 45/50\n",
      "5243/5243 - 0s - loss: 0.2458 - accuracy: 0.8930\n",
      "Epoch 46/50\n",
      "5243/5243 - 0s - loss: 0.2460 - accuracy: 0.8898\n",
      "Epoch 47/50\n",
      "5243/5243 - 0s - loss: 0.2384 - accuracy: 0.8980\n",
      "Epoch 48/50\n",
      "5243/5243 - 0s - loss: 0.2368 - accuracy: 0.8974\n",
      "Epoch 49/50\n",
      "5243/5243 - 0s - loss: 0.2378 - accuracy: 0.8968\n",
      "Epoch 50/50\n",
      "5243/5243 - 0s - loss: 0.2466 - accuracy: 0.8903\n"
     ]
    },
    {
     "data": {
      "text/plain": [
       "<tensorflow.python.keras.callbacks.History at 0x17993d572b0>"
      ]
     },
     "execution_count": 9,
     "metadata": {},
     "output_type": "execute_result"
    }
   ],
   "source": [
    "# Encode Data\n",
    "label_encoder = LabelEncoder()\n",
    "label_encoder.fit(y_train)\n",
    "encoded_y_train = label_encoder.transform(y_train)\n",
    "encoded_y_test = label_encoder.transform(y_test)\n",
    "\n",
    "# categorize\n",
    "y_train_categorical = to_categorical(encoded_y_train)\n",
    "y_test_categorical = to_categorical(encoded_y_test)\n",
    "\n",
    "from tensorflow.keras.models import Sequential\n",
    "from tensorflow.keras.layers import Dense\n",
    "\n",
    "# create model\n",
    "model = Sequential()\n",
    "model.add(Dense(units=100, activation='relu', input_dim=40))\n",
    "model.add(Dense(units=100, activation='relu'))\n",
    "model.add(Dense(units=3, activation='softmax'))\n",
    "\n",
    "# Compile and fit the model\n",
    "model.compile(optimizer='adam',\n",
    "              loss='categorical_crossentropy',\n",
    "              metrics=['accuracy'])\n",
    "\n",
    "model.fit(\n",
    "    X_train_scaled,\n",
    "    y_train_categorical,\n",
    "    epochs=50,\n",
    "    shuffle=True,\n",
    "    verbose=2\n",
    ")"
   ]
  },
  {
   "cell_type": "code",
   "execution_count": 10,
   "metadata": {},
   "outputs": [
    {
     "name": "stdout",
     "output_type": "stream",
     "text": [
      "Model: \"sequential\"\n",
      "_________________________________________________________________\n",
      "Layer (type)                 Output Shape              Param #   \n",
      "=================================================================\n",
      "dense (Dense)                (None, 100)               4100      \n",
      "_________________________________________________________________\n",
      "dense_1 (Dense)              (None, 100)               10100     \n",
      "_________________________________________________________________\n",
      "dense_2 (Dense)              (None, 3)                 303       \n",
      "=================================================================\n",
      "Total params: 14,503\n",
      "Trainable params: 14,503\n",
      "Non-trainable params: 0\n",
      "_________________________________________________________________\n"
     ]
    }
   ],
   "source": [
    "model.summary()"
   ]
  },
  {
   "cell_type": "markdown",
   "metadata": {},
   "source": [
    "# Train the Model\n",
    "\n"
   ]
  },
  {
   "cell_type": "code",
   "execution_count": 11,
   "metadata": {},
   "outputs": [
    {
     "data": {
      "text/plain": [
       "SVC(C=1.0, break_ties=False, cache_size=200, class_weight=None, coef0=0.0,\n",
       "    decision_function_shape='ovr', degree=3, gamma='scale', kernel='linear',\n",
       "    max_iter=-1, probability=False, random_state=None, shrinking=True,\n",
       "    tol=0.001, verbose=False)"
      ]
     },
     "execution_count": 11,
     "metadata": {},
     "output_type": "execute_result"
    }
   ],
   "source": [
    "# Create the SVC Model\n",
    "from sklearn.svm import SVC \n",
    "model2 = SVC(kernel='linear')\n",
    "model2"
   ]
  },
  {
   "cell_type": "code",
   "execution_count": 12,
   "metadata": {},
   "outputs": [
    {
     "data": {
      "text/plain": [
       "SVC(C=1.0, break_ties=False, cache_size=200, class_weight=None, coef0=0.0,\n",
       "    decision_function_shape='ovr', degree=3, gamma='scale', kernel='linear',\n",
       "    max_iter=-1, probability=False, random_state=None, shrinking=True,\n",
       "    tol=0.001, verbose=False)"
      ]
     },
     "execution_count": 12,
     "metadata": {},
     "output_type": "execute_result"
    }
   ],
   "source": [
    "# fit the model\n",
    "model2.fit(X_train_scaled, y_train)"
   ]
  },
  {
   "cell_type": "code",
   "execution_count": 13,
   "metadata": {},
   "outputs": [
    {
     "name": "stdout",
     "output_type": "stream",
     "text": [
      "Training Data Score: 0.8439824527942018\n",
      "Testing Data Score: 0.8415331807780321\n"
     ]
    }
   ],
   "source": [
    "print(f\"Training Data Score: {model2.score(X_train_scaled, y_train)}\")\n",
    "print(f\"Testing Data Score: {model2.score(X_test_scaled, y_test)}\")"
   ]
  },
  {
   "cell_type": "markdown",
   "metadata": {},
   "source": [
    "# Hyperparameter Tuning\n",
    "\n",
    "Use `GridSearchCV` to tune the model's parameters"
   ]
  },
  {
   "cell_type": "code",
   "execution_count": 14,
   "metadata": {},
   "outputs": [],
   "source": [
    "# Create the GridSearchCV model\n",
    "from sklearn.model_selection import GridSearchCV\n",
    "param_grid = {'C': [1, 5, 10],\n",
    "              'gamma': [0.0001, 0.0005, 0.001]}\n",
    "grid = GridSearchCV(model2, param_grid, verbose=3)"
   ]
  },
  {
   "cell_type": "code",
   "execution_count": 15,
   "metadata": {},
   "outputs": [
    {
     "name": "stdout",
     "output_type": "stream",
     "text": [
      "Fitting 5 folds for each of 9 candidates, totalling 45 fits\n",
      "[CV] C=1, gamma=0.0001 ...............................................\n"
     ]
    },
    {
     "name": "stderr",
     "output_type": "stream",
     "text": [
      "[Parallel(n_jobs=1)]: Using backend SequentialBackend with 1 concurrent workers.\n"
     ]
    },
    {
     "name": "stdout",
     "output_type": "stream",
     "text": [
      "[CV] ................... C=1, gamma=0.0001, score=0.856, total=   0.5s\n",
      "[CV] C=1, gamma=0.0001 ...............................................\n"
     ]
    },
    {
     "name": "stderr",
     "output_type": "stream",
     "text": [
      "[Parallel(n_jobs=1)]: Done   1 out of   1 | elapsed:    0.4s remaining:    0.0s\n"
     ]
    },
    {
     "name": "stdout",
     "output_type": "stream",
     "text": [
      "[CV] ................... C=1, gamma=0.0001, score=0.846, total=   0.5s\n",
      "[CV] C=1, gamma=0.0001 ...............................................\n"
     ]
    },
    {
     "name": "stderr",
     "output_type": "stream",
     "text": [
      "[Parallel(n_jobs=1)]: Done   2 out of   2 | elapsed:    0.9s remaining:    0.0s\n"
     ]
    },
    {
     "name": "stdout",
     "output_type": "stream",
     "text": [
      "[CV] ................... C=1, gamma=0.0001, score=0.839, total=   0.5s\n",
      "[CV] C=1, gamma=0.0001 ...............................................\n",
      "[CV] ................... C=1, gamma=0.0001, score=0.841, total=   0.5s\n",
      "[CV] C=1, gamma=0.0001 ...............................................\n",
      "[CV] ................... C=1, gamma=0.0001, score=0.825, total=   0.5s\n",
      "[CV] C=1, gamma=0.0005 ...............................................\n",
      "[CV] ................... C=1, gamma=0.0005, score=0.856, total=   0.5s\n",
      "[CV] C=1, gamma=0.0005 ...............................................\n",
      "[CV] ................... C=1, gamma=0.0005, score=0.846, total=   0.5s\n",
      "[CV] C=1, gamma=0.0005 ...............................................\n",
      "[CV] ................... C=1, gamma=0.0005, score=0.839, total=   0.5s\n",
      "[CV] C=1, gamma=0.0005 ...............................................\n",
      "[CV] ................... C=1, gamma=0.0005, score=0.841, total=   0.5s\n",
      "[CV] C=1, gamma=0.0005 ...............................................\n",
      "[CV] ................... C=1, gamma=0.0005, score=0.825, total=   0.5s\n",
      "[CV] C=1, gamma=0.001 ................................................\n",
      "[CV] .................... C=1, gamma=0.001, score=0.856, total=   0.5s\n",
      "[CV] C=1, gamma=0.001 ................................................\n",
      "[CV] .................... C=1, gamma=0.001, score=0.846, total=   0.5s\n",
      "[CV] C=1, gamma=0.001 ................................................\n",
      "[CV] .................... C=1, gamma=0.001, score=0.839, total=   0.5s\n",
      "[CV] C=1, gamma=0.001 ................................................\n",
      "[CV] .................... C=1, gamma=0.001, score=0.841, total=   0.5s\n",
      "[CV] C=1, gamma=0.001 ................................................\n",
      "[CV] .................... C=1, gamma=0.001, score=0.825, total=   0.5s\n",
      "[CV] C=5, gamma=0.0001 ...............................................\n",
      "[CV] ................... C=5, gamma=0.0001, score=0.882, total=   0.6s\n",
      "[CV] C=5, gamma=0.0001 ...............................................\n",
      "[CV] ................... C=5, gamma=0.0001, score=0.868, total=   0.7s\n",
      "[CV] C=5, gamma=0.0001 ...............................................\n",
      "[CV] ................... C=5, gamma=0.0001, score=0.852, total=   0.8s\n",
      "[CV] C=5, gamma=0.0001 ...............................................\n",
      "[CV] ................... C=5, gamma=0.0001, score=0.869, total=   0.5s\n",
      "[CV] C=5, gamma=0.0001 ...............................................\n",
      "[CV] ................... C=5, gamma=0.0001, score=0.852, total=   0.5s\n",
      "[CV] C=5, gamma=0.0005 ...............................................\n",
      "[CV] ................... C=5, gamma=0.0005, score=0.882, total=   0.7s\n",
      "[CV] C=5, gamma=0.0005 ...............................................\n",
      "[CV] ................... C=5, gamma=0.0005, score=0.868, total=   0.6s\n",
      "[CV] C=5, gamma=0.0005 ...............................................\n",
      "[CV] ................... C=5, gamma=0.0005, score=0.852, total=   0.7s\n",
      "[CV] C=5, gamma=0.0005 ...............................................\n",
      "[CV] ................... C=5, gamma=0.0005, score=0.869, total=   0.4s\n",
      "[CV] C=5, gamma=0.0005 ...............................................\n",
      "[CV] ................... C=5, gamma=0.0005, score=0.852, total=   0.5s\n",
      "[CV] C=5, gamma=0.001 ................................................\n",
      "[CV] .................... C=5, gamma=0.001, score=0.882, total=   0.7s\n",
      "[CV] C=5, gamma=0.001 ................................................\n",
      "[CV] .................... C=5, gamma=0.001, score=0.868, total=   0.5s\n",
      "[CV] C=5, gamma=0.001 ................................................\n",
      "[CV] .................... C=5, gamma=0.001, score=0.852, total=   0.6s\n",
      "[CV] C=5, gamma=0.001 ................................................\n",
      "[CV] .................... C=5, gamma=0.001, score=0.869, total=   0.5s\n",
      "[CV] C=5, gamma=0.001 ................................................\n",
      "[CV] .................... C=5, gamma=0.001, score=0.852, total=   0.7s\n",
      "[CV] C=10, gamma=0.0001 ..............................................\n",
      "[CV] .................. C=10, gamma=0.0001, score=0.881, total=   0.8s\n",
      "[CV] C=10, gamma=0.0001 ..............................................\n",
      "[CV] .................. C=10, gamma=0.0001, score=0.870, total=   0.6s\n",
      "[CV] C=10, gamma=0.0001 ..............................................\n",
      "[CV] .................. C=10, gamma=0.0001, score=0.856, total=   0.6s\n",
      "[CV] C=10, gamma=0.0001 ..............................................\n",
      "[CV] .................. C=10, gamma=0.0001, score=0.873, total=   0.4s\n",
      "[CV] C=10, gamma=0.0001 ..............................................\n",
      "[CV] .................. C=10, gamma=0.0001, score=0.860, total=   0.5s\n",
      "[CV] C=10, gamma=0.0005 ..............................................\n",
      "[CV] .................. C=10, gamma=0.0005, score=0.881, total=   0.5s\n",
      "[CV] C=10, gamma=0.0005 ..............................................\n",
      "[CV] .................. C=10, gamma=0.0005, score=0.870, total=   0.5s\n",
      "[CV] C=10, gamma=0.0005 ..............................................\n",
      "[CV] .................. C=10, gamma=0.0005, score=0.856, total=   0.6s\n",
      "[CV] C=10, gamma=0.0005 ..............................................\n",
      "[CV] .................. C=10, gamma=0.0005, score=0.873, total=   0.5s\n",
      "[CV] C=10, gamma=0.0005 ..............................................\n",
      "[CV] .................. C=10, gamma=0.0005, score=0.860, total=   0.5s\n",
      "[CV] C=10, gamma=0.001 ...............................................\n",
      "[CV] ................... C=10, gamma=0.001, score=0.881, total=   0.5s\n",
      "[CV] C=10, gamma=0.001 ...............................................\n",
      "[CV] ................... C=10, gamma=0.001, score=0.870, total=   0.5s\n",
      "[CV] C=10, gamma=0.001 ...............................................\n",
      "[CV] ................... C=10, gamma=0.001, score=0.856, total=   0.6s\n",
      "[CV] C=10, gamma=0.001 ...............................................\n",
      "[CV] ................... C=10, gamma=0.001, score=0.873, total=   0.5s\n",
      "[CV] C=10, gamma=0.001 ...............................................\n",
      "[CV] ................... C=10, gamma=0.001, score=0.860, total=   0.5s\n"
     ]
    },
    {
     "name": "stderr",
     "output_type": "stream",
     "text": [
      "[Parallel(n_jobs=1)]: Done  45 out of  45 | elapsed:   24.5s finished\n"
     ]
    },
    {
     "data": {
      "text/plain": [
       "GridSearchCV(cv=None, error_score=nan,\n",
       "             estimator=SVC(C=1.0, break_ties=False, cache_size=200,\n",
       "                           class_weight=None, coef0=0.0,\n",
       "                           decision_function_shape='ovr', degree=3,\n",
       "                           gamma='scale', kernel='linear', max_iter=-1,\n",
       "                           probability=False, random_state=None, shrinking=True,\n",
       "                           tol=0.001, verbose=False),\n",
       "             iid='deprecated', n_jobs=None,\n",
       "             param_grid={'C': [1, 5, 10], 'gamma': [0.0001, 0.0005, 0.001]},\n",
       "             pre_dispatch='2*n_jobs', refit=True, return_train_score=False,\n",
       "             scoring=None, verbose=3)"
      ]
     },
     "execution_count": 15,
     "metadata": {},
     "output_type": "execute_result"
    }
   ],
   "source": [
    "# Train the model with GridSearch\n",
    "grid.fit(X_train_scaled, y_train)"
   ]
  },
  {
   "cell_type": "code",
   "execution_count": 16,
   "metadata": {},
   "outputs": [
    {
     "name": "stdout",
     "output_type": "stream",
     "text": [
      "{'C': 10, 'gamma': 0.0001}\n",
      "0.8680138845428944\n"
     ]
    }
   ],
   "source": [
    "print(grid.best_params_)\n",
    "print(grid.best_score_)"
   ]
  },
  {
   "cell_type": "markdown",
   "metadata": {},
   "source": [
    "# Save the Model"
   ]
  },
  {
   "cell_type": "code",
   "execution_count": 19,
   "metadata": {},
   "outputs": [
    {
     "data": {
      "text/plain": [
       "['best_model.sav']"
      ]
     },
     "execution_count": 19,
     "metadata": {},
     "output_type": "execute_result"
    }
   ],
   "source": [
    "# using results above to save the best model\n",
    "best_model=SVC(kernel='linear', C=10, gamma=0.0001)\n",
    "\n",
    "import joblib\n",
    "\n",
    "filename = 'best_model.sav'\n",
    "joblib.dump(best_model, filename)"
   ]
  }
 ],
 "metadata": {
  "kernel_info": {
   "name": "dev"
  },
  "kernelspec": {
   "display_name": "Python 3",
   "language": "python",
   "name": "python3"
  },
  "language_info": {
   "codemirror_mode": {
    "name": "ipython",
    "version": 3
   },
   "file_extension": ".py",
   "mimetype": "text/x-python",
   "name": "python",
   "nbconvert_exporter": "python",
   "pygments_lexer": "ipython3",
   "version": "3.7.3"
  },
  "nteract": {
   "version": "0.12.3"
  }
 },
 "nbformat": 4,
 "nbformat_minor": 2
}
