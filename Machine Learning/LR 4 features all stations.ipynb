{
 "cells": [
  {
   "cell_type": "code",
   "execution_count": 1,
   "metadata": {},
   "outputs": [],
   "source": [
    "## what is the probability of deley happens at certain station/time, to predict how many minutes will be deley? "
   ]
  },
  {
   "cell_type": "code",
   "execution_count": 17,
   "metadata": {},
   "outputs": [],
   "source": [
    "%matplotlib inline\n",
    "import matplotlib.pyplot as plt\n",
    "import pandas as pd"
   ]
  },
  {
   "cell_type": "markdown",
   "metadata": {},
   "source": [
    "# Read the CSV"
   ]
  },
  {
   "cell_type": "code",
   "execution_count": 2,
   "metadata": {},
   "outputs": [
    {
     "data": {
      "text/plain": [
       "(13694, 20)"
      ]
     },
     "execution_count": 2,
     "metadata": {},
     "output_type": "execute_result"
    }
   ],
   "source": [
    "# the dataset used contains all delays under 30 mins. \n",
    "df = pd.read_csv(\"../Data/ttc_subway_delay_2018_2019.csv\", encoding='unicode_escape')\n",
    "# Drop the null columns where all values are null\n",
    "df.shape\n"
   ]
  },
  {
   "cell_type": "code",
   "execution_count": 3,
   "metadata": {},
   "outputs": [
    {
     "data": {
      "text/plain": [
       "id              13694\n",
       "date              730\n",
       "time             1279\n",
       "day                 7\n",
       "station            80\n",
       "code              177\n",
       "min_delay         114\n",
       "min_gap           125\n",
       "bound               5\n",
       "line                4\n",
       "vehicle           636\n",
       "code_info         134\n",
       "latitude           74\n",
       "longitude          76\n",
       "line_name           4\n",
       "month              12\n",
       "time_range          6\n",
       "month_number       12\n",
       "hour               24\n",
       "year                2\n",
       "dtype: int64"
      ]
     },
     "execution_count": 3,
     "metadata": {},
     "output_type": "execute_result"
    }
   ],
   "source": [
    "df.nunique()"
   ]
  },
  {
   "cell_type": "code",
   "execution_count": 4,
   "metadata": {},
   "outputs": [
    {
     "data": {
      "text/html": [
       "<div>\n",
       "<style scoped>\n",
       "    .dataframe tbody tr th:only-of-type {\n",
       "        vertical-align: middle;\n",
       "    }\n",
       "\n",
       "    .dataframe tbody tr th {\n",
       "        vertical-align: top;\n",
       "    }\n",
       "\n",
       "    .dataframe thead th {\n",
       "        text-align: right;\n",
       "    }\n",
       "</style>\n",
       "<table border=\"1\" class=\"dataframe\">\n",
       "  <thead>\n",
       "    <tr style=\"text-align: right;\">\n",
       "      <th></th>\n",
       "      <th>id</th>\n",
       "      <th>date</th>\n",
       "      <th>time</th>\n",
       "      <th>day</th>\n",
       "      <th>station</th>\n",
       "      <th>code</th>\n",
       "      <th>min_delay</th>\n",
       "      <th>min_gap</th>\n",
       "      <th>bound</th>\n",
       "      <th>line</th>\n",
       "      <th>vehicle</th>\n",
       "      <th>code_info</th>\n",
       "      <th>latitude</th>\n",
       "      <th>longitude</th>\n",
       "      <th>line_name</th>\n",
       "      <th>month</th>\n",
       "      <th>time_range</th>\n",
       "      <th>month_number</th>\n",
       "      <th>hour</th>\n",
       "      <th>year</th>\n",
       "    </tr>\n",
       "  </thead>\n",
       "  <tbody>\n",
       "    <tr>\n",
       "      <td>0</td>\n",
       "      <td>1</td>\n",
       "      <td>2019-01-01</td>\n",
       "      <td>03:03</td>\n",
       "      <td>Tuesday</td>\n",
       "      <td>DUPONT STATION</td>\n",
       "      <td>MUATC</td>\n",
       "      <td>11</td>\n",
       "      <td>16</td>\n",
       "      <td>N</td>\n",
       "      <td>YU</td>\n",
       "      <td>6061</td>\n",
       "      <td>ATC Project</td>\n",
       "      <td>43.674584</td>\n",
       "      <td>-79.406830</td>\n",
       "      <td>Yonge University Spadina</td>\n",
       "      <td>January</td>\n",
       "      <td>9PM-1:30AM</td>\n",
       "      <td>1</td>\n",
       "      <td>3</td>\n",
       "      <td>2019</td>\n",
       "    </tr>\n",
       "    <tr>\n",
       "      <td>1</td>\n",
       "      <td>2</td>\n",
       "      <td>2019-01-01</td>\n",
       "      <td>03:08</td>\n",
       "      <td>Tuesday</td>\n",
       "      <td>EGLINTON WEST STATION</td>\n",
       "      <td>EUATC</td>\n",
       "      <td>11</td>\n",
       "      <td>16</td>\n",
       "      <td>S</td>\n",
       "      <td>YU</td>\n",
       "      <td>5656</td>\n",
       "      <td>ATC RC&amp;S Equipment</td>\n",
       "      <td>43.699209</td>\n",
       "      <td>-79.435819</td>\n",
       "      <td>Yonge University Spadina</td>\n",
       "      <td>January</td>\n",
       "      <td>9PM-1:30AM</td>\n",
       "      <td>1</td>\n",
       "      <td>3</td>\n",
       "      <td>2019</td>\n",
       "    </tr>\n",
       "  </tbody>\n",
       "</table>\n",
       "</div>"
      ],
      "text/plain": [
       "   id        date   time      day                station   code  min_delay  \\\n",
       "0   1  2019-01-01  03:03  Tuesday         DUPONT STATION  MUATC         11   \n",
       "1   2  2019-01-01  03:08  Tuesday  EGLINTON WEST STATION  EUATC         11   \n",
       "\n",
       "   min_gap bound line  vehicle           code_info   latitude  longitude  \\\n",
       "0       16     N   YU     6061         ATC Project  43.674584 -79.406830   \n",
       "1       16     S   YU     5656  ATC RC&S Equipment  43.699209 -79.435819   \n",
       "\n",
       "                  line_name    month  time_range  month_number  hour  year  \n",
       "0  Yonge University Spadina  January  9PM-1:30AM             1     3  2019  \n",
       "1  Yonge University Spadina  January  9PM-1:30AM             1     3  2019  "
      ]
     },
     "execution_count": 4,
     "metadata": {},
     "output_type": "execute_result"
    }
   ],
   "source": [
    "# Drop the null columns where all values are null\n",
    "df= df.dropna(axis='columns', how='all')\n",
    "df.head(2)\n"
   ]
  },
  {
   "cell_type": "code",
   "execution_count": 5,
   "metadata": {},
   "outputs": [
    {
     "data": {
      "text/html": [
       "<div>\n",
       "<style scoped>\n",
       "    .dataframe tbody tr th:only-of-type {\n",
       "        vertical-align: middle;\n",
       "    }\n",
       "\n",
       "    .dataframe tbody tr th {\n",
       "        vertical-align: top;\n",
       "    }\n",
       "\n",
       "    .dataframe thead th {\n",
       "        text-align: right;\n",
       "    }\n",
       "</style>\n",
       "<table border=\"1\" class=\"dataframe\">\n",
       "  <thead>\n",
       "    <tr style=\"text-align: right;\">\n",
       "      <th></th>\n",
       "      <th>id</th>\n",
       "      <th>min_delay</th>\n",
       "      <th>min_gap</th>\n",
       "      <th>vehicle</th>\n",
       "      <th>latitude</th>\n",
       "      <th>longitude</th>\n",
       "      <th>month_number</th>\n",
       "      <th>hour</th>\n",
       "      <th>year</th>\n",
       "    </tr>\n",
       "  </thead>\n",
       "  <tbody>\n",
       "    <tr>\n",
       "      <td>count</td>\n",
       "      <td>13694.000000</td>\n",
       "      <td>13694.000000</td>\n",
       "      <td>13694.000000</td>\n",
       "      <td>13694.000000</td>\n",
       "      <td>13694.000000</td>\n",
       "      <td>13694.000000</td>\n",
       "      <td>13694.000000</td>\n",
       "      <td>13694.000000</td>\n",
       "      <td>13694.000000</td>\n",
       "    </tr>\n",
       "    <tr>\n",
       "      <td>mean</td>\n",
       "      <td>6863.310647</td>\n",
       "      <td>6.623266</td>\n",
       "      <td>9.832554</td>\n",
       "      <td>5191.731561</td>\n",
       "      <td>43.703585</td>\n",
       "      <td>-79.396935</td>\n",
       "      <td>6.379436</td>\n",
       "      <td>12.837301</td>\n",
       "      <td>2018.486344</td>\n",
       "    </tr>\n",
       "    <tr>\n",
       "      <td>std</td>\n",
       "      <td>3962.478567</td>\n",
       "      <td>11.947203</td>\n",
       "      <td>12.070380</td>\n",
       "      <td>1193.592906</td>\n",
       "      <td>0.045849</td>\n",
       "      <td>0.073723</td>\n",
       "      <td>3.439798</td>\n",
       "      <td>5.963701</td>\n",
       "      <td>0.499832</td>\n",
       "    </tr>\n",
       "    <tr>\n",
       "      <td>min</td>\n",
       "      <td>1.000000</td>\n",
       "      <td>2.000000</td>\n",
       "      <td>0.000000</td>\n",
       "      <td>0.000000</td>\n",
       "      <td>43.637222</td>\n",
       "      <td>-79.536111</td>\n",
       "      <td>1.000000</td>\n",
       "      <td>0.000000</td>\n",
       "      <td>2018.000000</td>\n",
       "    </tr>\n",
       "    <tr>\n",
       "      <td>25%</td>\n",
       "      <td>3434.250000</td>\n",
       "      <td>3.000000</td>\n",
       "      <td>6.000000</td>\n",
       "      <td>5145.000000</td>\n",
       "      <td>43.667222</td>\n",
       "      <td>-79.450000</td>\n",
       "      <td>3.000000</td>\n",
       "      <td>8.000000</td>\n",
       "      <td>2018.000000</td>\n",
       "    </tr>\n",
       "    <tr>\n",
       "      <td>50%</td>\n",
       "      <td>6865.500000</td>\n",
       "      <td>4.000000</td>\n",
       "      <td>8.000000</td>\n",
       "      <td>5416.000000</td>\n",
       "      <td>43.686389</td>\n",
       "      <td>-79.398333</td>\n",
       "      <td>6.000000</td>\n",
       "      <td>13.000000</td>\n",
       "      <td>2018.000000</td>\n",
       "    </tr>\n",
       "    <tr>\n",
       "      <td>75%</td>\n",
       "      <td>10292.750000</td>\n",
       "      <td>6.000000</td>\n",
       "      <td>10.000000</td>\n",
       "      <td>5796.000000</td>\n",
       "      <td>43.744167</td>\n",
       "      <td>-79.365278</td>\n",
       "      <td>9.000000</td>\n",
       "      <td>18.000000</td>\n",
       "      <td>2019.000000</td>\n",
       "    </tr>\n",
       "    <tr>\n",
       "      <td>max</td>\n",
       "      <td>13727.000000</td>\n",
       "      <td>515.000000</td>\n",
       "      <td>519.000000</td>\n",
       "      <td>8065.000000</td>\n",
       "      <td>43.794167</td>\n",
       "      <td>-79.251667</td>\n",
       "      <td>12.000000</td>\n",
       "      <td>23.000000</td>\n",
       "      <td>2019.000000</td>\n",
       "    </tr>\n",
       "  </tbody>\n",
       "</table>\n",
       "</div>"
      ],
      "text/plain": [
       "                 id     min_delay       min_gap       vehicle      latitude  \\\n",
       "count  13694.000000  13694.000000  13694.000000  13694.000000  13694.000000   \n",
       "mean    6863.310647      6.623266      9.832554   5191.731561     43.703585   \n",
       "std     3962.478567     11.947203     12.070380   1193.592906      0.045849   \n",
       "min        1.000000      2.000000      0.000000      0.000000     43.637222   \n",
       "25%     3434.250000      3.000000      6.000000   5145.000000     43.667222   \n",
       "50%     6865.500000      4.000000      8.000000   5416.000000     43.686389   \n",
       "75%    10292.750000      6.000000     10.000000   5796.000000     43.744167   \n",
       "max    13727.000000    515.000000    519.000000   8065.000000     43.794167   \n",
       "\n",
       "          longitude  month_number          hour          year  \n",
       "count  13694.000000  13694.000000  13694.000000  13694.000000  \n",
       "mean     -79.396935      6.379436     12.837301   2018.486344  \n",
       "std        0.073723      3.439798      5.963701      0.499832  \n",
       "min      -79.536111      1.000000      0.000000   2018.000000  \n",
       "25%      -79.450000      3.000000      8.000000   2018.000000  \n",
       "50%      -79.398333      6.000000     13.000000   2018.000000  \n",
       "75%      -79.365278      9.000000     18.000000   2019.000000  \n",
       "max      -79.251667     12.000000     23.000000   2019.000000  "
      ]
     },
     "execution_count": 5,
     "metadata": {},
     "output_type": "execute_result"
    }
   ],
   "source": [
    "# Drop the null columns where all values are null\n",
    "df= df.dropna(axis='rows', how='all')\n",
    "df.describe()"
   ]
  },
  {
   "cell_type": "code",
   "execution_count": 6,
   "metadata": {},
   "outputs": [
    {
     "data": {
      "text/plain": [
       "519"
      ]
     },
     "execution_count": 6,
     "metadata": {},
     "output_type": "execute_result"
    }
   ],
   "source": [
    "max(df['min_gap'])"
   ]
  },
  {
   "cell_type": "code",
   "execution_count": 11,
   "metadata": {},
   "outputs": [
    {
     "data": {
      "text/plain": [
       "id              13465\n",
       "date            13465\n",
       "time            13465\n",
       "day             13465\n",
       "station         13465\n",
       "code            13465\n",
       "min_delay       13465\n",
       "min_gap         13465\n",
       "bound           13336\n",
       "line            13465\n",
       "vehicle         13465\n",
       "code_info       13465\n",
       "latitude        13465\n",
       "longitude       13465\n",
       "line_name       13465\n",
       "month           13465\n",
       "time_range      13058\n",
       "month_number    13465\n",
       "hour            13465\n",
       "year            13465\n",
       "dtype: int64"
      ]
     },
     "execution_count": 11,
     "metadata": {},
     "output_type": "execute_result"
    }
   ],
   "source": [
    "df = df.loc[(df['min_delay']<30)]\n",
    "df.count()"
   ]
  },
  {
   "cell_type": "code",
   "execution_count": 12,
   "metadata": {},
   "outputs": [],
   "source": [
    "df['Time'] = df['hour'].apply(lambda x: x if x > 5 else x+24)"
   ]
  },
  {
   "cell_type": "code",
   "execution_count": 13,
   "metadata": {},
   "outputs": [
    {
     "data": {
      "text/plain": [
       "6"
      ]
     },
     "execution_count": 13,
     "metadata": {},
     "output_type": "execute_result"
    }
   ],
   "source": [
    "min(df['Time'])"
   ]
  },
  {
   "cell_type": "code",
   "execution_count": 14,
   "metadata": {},
   "outputs": [
    {
     "data": {
      "text/plain": [
       "29"
      ]
     },
     "execution_count": 14,
     "metadata": {},
     "output_type": "execute_result"
    }
   ],
   "source": [
    "max(df['Time'])"
   ]
  },
  {
   "cell_type": "code",
   "execution_count": 15,
   "metadata": {},
   "outputs": [],
   "source": [
    "bins = [6,9,16,20,25,29]\n",
    "labels= ['morning_rush_hour','mid_day','afternoon_rush_hour','evening','off_operation']\n",
    "df['Time_group']=pd.cut(df['Time'], bins, labels=labels)"
   ]
  },
  {
   "cell_type": "code",
   "execution_count": 12,
   "metadata": {},
   "outputs": [],
   "source": [
    "##df.to_csv(\"../Data/ttc_subway_delay_2018_2019_ml.csv\")"
   ]
  },
  {
   "cell_type": "markdown",
   "metadata": {},
   "source": [
    "# Data Cleaning"
   ]
  },
  {
   "cell_type": "code",
   "execution_count": 19,
   "metadata": {},
   "outputs": [
    {
     "data": {
      "text/html": [
       "<div>\n",
       "<style scoped>\n",
       "    .dataframe tbody tr th:only-of-type {\n",
       "        vertical-align: middle;\n",
       "    }\n",
       "\n",
       "    .dataframe tbody tr th {\n",
       "        vertical-align: top;\n",
       "    }\n",
       "\n",
       "    .dataframe thead th {\n",
       "        text-align: right;\n",
       "    }\n",
       "</style>\n",
       "<table border=\"1\" class=\"dataframe\">\n",
       "  <thead>\n",
       "    <tr style=\"text-align: right;\">\n",
       "      <th></th>\n",
       "      <th>min_delay</th>\n",
       "      <th>Time_group</th>\n",
       "      <th>station</th>\n",
       "      <th>day</th>\n",
       "      <th>code</th>\n",
       "    </tr>\n",
       "  </thead>\n",
       "  <tbody>\n",
       "    <tr>\n",
       "      <td>0</td>\n",
       "      <td>11</td>\n",
       "      <td>off_operation</td>\n",
       "      <td>DUPONT STATION</td>\n",
       "      <td>Tuesday</td>\n",
       "      <td>MUATC</td>\n",
       "    </tr>\n",
       "    <tr>\n",
       "      <td>1</td>\n",
       "      <td>11</td>\n",
       "      <td>off_operation</td>\n",
       "      <td>EGLINTON WEST STATION</td>\n",
       "      <td>Tuesday</td>\n",
       "      <td>EUATC</td>\n",
       "    </tr>\n",
       "    <tr>\n",
       "      <td>2</td>\n",
       "      <td>6</td>\n",
       "      <td>off_operation</td>\n",
       "      <td>DUPONT STATION</td>\n",
       "      <td>Tuesday</td>\n",
       "      <td>EUATC</td>\n",
       "    </tr>\n",
       "    <tr>\n",
       "      <td>3</td>\n",
       "      <td>4</td>\n",
       "      <td>off_operation</td>\n",
       "      <td>ST CLAIR WEST STATION</td>\n",
       "      <td>Tuesday</td>\n",
       "      <td>EUATC</td>\n",
       "    </tr>\n",
       "    <tr>\n",
       "      <td>4</td>\n",
       "      <td>5</td>\n",
       "      <td>morning_rush_hour</td>\n",
       "      <td>DAVISVILLE STATION</td>\n",
       "      <td>Tuesday</td>\n",
       "      <td>MUNOA</td>\n",
       "    </tr>\n",
       "  </tbody>\n",
       "</table>\n",
       "</div>"
      ],
      "text/plain": [
       "   min_delay         Time_group                station      day   code\n",
       "0         11      off_operation         DUPONT STATION  Tuesday  MUATC\n",
       "1         11      off_operation  EGLINTON WEST STATION  Tuesday  EUATC\n",
       "2          6      off_operation         DUPONT STATION  Tuesday  EUATC\n",
       "3          4      off_operation  ST CLAIR WEST STATION  Tuesday  EUATC\n",
       "4          5  morning_rush_hour     DAVISVILLE STATION  Tuesday  MUNOA"
      ]
     },
     "execution_count": 19,
     "metadata": {},
     "output_type": "execute_result"
    }
   ],
   "source": [
    "data = df[['min_delay','Time_group','station','day','code']]\n",
    "data.head()"
   ]
  },
  {
   "cell_type": "code",
   "execution_count": 20,
   "metadata": {},
   "outputs": [
    {
     "data": {
      "text/plain": [
       "min_delay        int64\n",
       "Time_group    category\n",
       "station         object\n",
       "day             object\n",
       "code            object\n",
       "dtype: object"
      ]
     },
     "execution_count": 20,
     "metadata": {},
     "output_type": "execute_result"
    }
   ],
   "source": [
    "data.dtypes"
   ]
  },
  {
   "cell_type": "markdown",
   "metadata": {},
   "source": [
    "#  Data Pre-Processing"
   ]
  },
  {
   "cell_type": "code",
   "execution_count": 21,
   "metadata": {},
   "outputs": [
    {
     "data": {
      "text/plain": [
       "array([[11],\n",
       "       [11],\n",
       "       [ 6],\n",
       "       ...,\n",
       "       [ 5],\n",
       "       [ 5],\n",
       "       [ 3]], dtype=int64)"
      ]
     },
     "execution_count": 21,
     "metadata": {},
     "output_type": "execute_result"
    }
   ],
   "source": [
    "y = data[\"min_delay\"].values.reshape(-1, 1)\n",
    "y"
   ]
  },
  {
   "cell_type": "code",
   "execution_count": 22,
   "metadata": {},
   "outputs": [
    {
     "data": {
      "text/html": [
       "<div>\n",
       "<style scoped>\n",
       "    .dataframe tbody tr th:only-of-type {\n",
       "        vertical-align: middle;\n",
       "    }\n",
       "\n",
       "    .dataframe tbody tr th {\n",
       "        vertical-align: top;\n",
       "    }\n",
       "\n",
       "    .dataframe thead th {\n",
       "        text-align: right;\n",
       "    }\n",
       "</style>\n",
       "<table border=\"1\" class=\"dataframe\">\n",
       "  <thead>\n",
       "    <tr style=\"text-align: right;\">\n",
       "      <th></th>\n",
       "      <th>Time_group</th>\n",
       "      <th>day</th>\n",
       "      <th>station</th>\n",
       "      <th>code</th>\n",
       "    </tr>\n",
       "  </thead>\n",
       "  <tbody>\n",
       "    <tr>\n",
       "      <td>13689</td>\n",
       "      <td>afternoon_rush_hour</td>\n",
       "      <td>Monday</td>\n",
       "      <td>DONLANDS STATION</td>\n",
       "      <td>MUNOA</td>\n",
       "    </tr>\n",
       "    <tr>\n",
       "      <td>13690</td>\n",
       "      <td>afternoon_rush_hour</td>\n",
       "      <td>Monday</td>\n",
       "      <td>SHERBOURNE STATION</td>\n",
       "      <td>TUOS</td>\n",
       "    </tr>\n",
       "    <tr>\n",
       "      <td>13691</td>\n",
       "      <td>evening</td>\n",
       "      <td>Monday</td>\n",
       "      <td>SCARBOROUGH CTR STATION</td>\n",
       "      <td>MRTO</td>\n",
       "    </tr>\n",
       "    <tr>\n",
       "      <td>13692</td>\n",
       "      <td>evening</td>\n",
       "      <td>Monday</td>\n",
       "      <td>SPADINA YUS STATION</td>\n",
       "      <td>PUSTC</td>\n",
       "    </tr>\n",
       "    <tr>\n",
       "      <td>13693</td>\n",
       "      <td>evening</td>\n",
       "      <td>Monday</td>\n",
       "      <td>DUNDAS STATION</td>\n",
       "      <td>SUDP</td>\n",
       "    </tr>\n",
       "  </tbody>\n",
       "</table>\n",
       "</div>"
      ],
      "text/plain": [
       "                Time_group     day                  station   code\n",
       "13689  afternoon_rush_hour  Monday         DONLANDS STATION  MUNOA\n",
       "13690  afternoon_rush_hour  Monday       SHERBOURNE STATION   TUOS\n",
       "13691              evening  Monday  SCARBOROUGH CTR STATION   MRTO\n",
       "13692              evening  Monday      SPADINA YUS STATION  PUSTC\n",
       "13693              evening  Monday           DUNDAS STATION   SUDP"
      ]
     },
     "execution_count": 22,
     "metadata": {},
     "output_type": "execute_result"
    }
   ],
   "source": [
    "X = data[['Time_group','day','station','code']]\n",
    "X.tail()"
   ]
  },
  {
   "cell_type": "code",
   "execution_count": 23,
   "metadata": {},
   "outputs": [
    {
     "name": "stdout",
     "output_type": "stream",
     "text": [
      "(13465, 4) (13465, 1)\n"
     ]
    }
   ],
   "source": [
    "print(X.shape, y.shape)"
   ]
  },
  {
   "cell_type": "code",
   "execution_count": 24,
   "metadata": {},
   "outputs": [
    {
     "data": {
      "text/html": [
       "<div>\n",
       "<style scoped>\n",
       "    .dataframe tbody tr th:only-of-type {\n",
       "        vertical-align: middle;\n",
       "    }\n",
       "\n",
       "    .dataframe tbody tr th {\n",
       "        vertical-align: top;\n",
       "    }\n",
       "\n",
       "    .dataframe thead th {\n",
       "        text-align: right;\n",
       "    }\n",
       "</style>\n",
       "<table border=\"1\" class=\"dataframe\">\n",
       "  <thead>\n",
       "    <tr style=\"text-align: right;\">\n",
       "      <th></th>\n",
       "      <th>Time_group_morning_rush_hour</th>\n",
       "      <th>Time_group_mid_day</th>\n",
       "      <th>Time_group_afternoon_rush_hour</th>\n",
       "      <th>Time_group_evening</th>\n",
       "      <th>Time_group_off_operation</th>\n",
       "      <th>day_Friday</th>\n",
       "      <th>day_Monday</th>\n",
       "      <th>day_Saturday</th>\n",
       "      <th>day_Sunday</th>\n",
       "      <th>day_Thursday</th>\n",
       "      <th>...</th>\n",
       "      <th>code_TUNIP</th>\n",
       "      <th>code_TUNOA</th>\n",
       "      <th>code_TUO</th>\n",
       "      <th>code_TUOPO</th>\n",
       "      <th>code_TUOS</th>\n",
       "      <th>code_TUS</th>\n",
       "      <th>code_TUSC</th>\n",
       "      <th>code_TUSET</th>\n",
       "      <th>code_TUST</th>\n",
       "      <th>code_TUSUP</th>\n",
       "    </tr>\n",
       "  </thead>\n",
       "  <tbody>\n",
       "    <tr>\n",
       "      <td>0</td>\n",
       "      <td>0</td>\n",
       "      <td>0</td>\n",
       "      <td>0</td>\n",
       "      <td>0</td>\n",
       "      <td>1</td>\n",
       "      <td>0</td>\n",
       "      <td>0</td>\n",
       "      <td>0</td>\n",
       "      <td>0</td>\n",
       "      <td>0</td>\n",
       "      <td>...</td>\n",
       "      <td>0</td>\n",
       "      <td>0</td>\n",
       "      <td>0</td>\n",
       "      <td>0</td>\n",
       "      <td>0</td>\n",
       "      <td>0</td>\n",
       "      <td>0</td>\n",
       "      <td>0</td>\n",
       "      <td>0</td>\n",
       "      <td>0</td>\n",
       "    </tr>\n",
       "    <tr>\n",
       "      <td>1</td>\n",
       "      <td>0</td>\n",
       "      <td>0</td>\n",
       "      <td>0</td>\n",
       "      <td>0</td>\n",
       "      <td>1</td>\n",
       "      <td>0</td>\n",
       "      <td>0</td>\n",
       "      <td>0</td>\n",
       "      <td>0</td>\n",
       "      <td>0</td>\n",
       "      <td>...</td>\n",
       "      <td>0</td>\n",
       "      <td>0</td>\n",
       "      <td>0</td>\n",
       "      <td>0</td>\n",
       "      <td>0</td>\n",
       "      <td>0</td>\n",
       "      <td>0</td>\n",
       "      <td>0</td>\n",
       "      <td>0</td>\n",
       "      <td>0</td>\n",
       "    </tr>\n",
       "    <tr>\n",
       "      <td>2</td>\n",
       "      <td>0</td>\n",
       "      <td>0</td>\n",
       "      <td>0</td>\n",
       "      <td>0</td>\n",
       "      <td>1</td>\n",
       "      <td>0</td>\n",
       "      <td>0</td>\n",
       "      <td>0</td>\n",
       "      <td>0</td>\n",
       "      <td>0</td>\n",
       "      <td>...</td>\n",
       "      <td>0</td>\n",
       "      <td>0</td>\n",
       "      <td>0</td>\n",
       "      <td>0</td>\n",
       "      <td>0</td>\n",
       "      <td>0</td>\n",
       "      <td>0</td>\n",
       "      <td>0</td>\n",
       "      <td>0</td>\n",
       "      <td>0</td>\n",
       "    </tr>\n",
       "    <tr>\n",
       "      <td>3</td>\n",
       "      <td>0</td>\n",
       "      <td>0</td>\n",
       "      <td>0</td>\n",
       "      <td>0</td>\n",
       "      <td>1</td>\n",
       "      <td>0</td>\n",
       "      <td>0</td>\n",
       "      <td>0</td>\n",
       "      <td>0</td>\n",
       "      <td>0</td>\n",
       "      <td>...</td>\n",
       "      <td>0</td>\n",
       "      <td>0</td>\n",
       "      <td>0</td>\n",
       "      <td>0</td>\n",
       "      <td>0</td>\n",
       "      <td>0</td>\n",
       "      <td>0</td>\n",
       "      <td>0</td>\n",
       "      <td>0</td>\n",
       "      <td>0</td>\n",
       "    </tr>\n",
       "    <tr>\n",
       "      <td>4</td>\n",
       "      <td>1</td>\n",
       "      <td>0</td>\n",
       "      <td>0</td>\n",
       "      <td>0</td>\n",
       "      <td>0</td>\n",
       "      <td>0</td>\n",
       "      <td>0</td>\n",
       "      <td>0</td>\n",
       "      <td>0</td>\n",
       "      <td>0</td>\n",
       "      <td>...</td>\n",
       "      <td>0</td>\n",
       "      <td>0</td>\n",
       "      <td>0</td>\n",
       "      <td>0</td>\n",
       "      <td>0</td>\n",
       "      <td>0</td>\n",
       "      <td>0</td>\n",
       "      <td>0</td>\n",
       "      <td>0</td>\n",
       "      <td>0</td>\n",
       "    </tr>\n",
       "  </tbody>\n",
       "</table>\n",
       "<p>5 rows × 266 columns</p>\n",
       "</div>"
      ],
      "text/plain": [
       "   Time_group_morning_rush_hour  Time_group_mid_day  \\\n",
       "0                             0                   0   \n",
       "1                             0                   0   \n",
       "2                             0                   0   \n",
       "3                             0                   0   \n",
       "4                             1                   0   \n",
       "\n",
       "   Time_group_afternoon_rush_hour  Time_group_evening  \\\n",
       "0                               0                   0   \n",
       "1                               0                   0   \n",
       "2                               0                   0   \n",
       "3                               0                   0   \n",
       "4                               0                   0   \n",
       "\n",
       "   Time_group_off_operation  day_Friday  day_Monday  day_Saturday  day_Sunday  \\\n",
       "0                         1           0           0             0           0   \n",
       "1                         1           0           0             0           0   \n",
       "2                         1           0           0             0           0   \n",
       "3                         1           0           0             0           0   \n",
       "4                         0           0           0             0           0   \n",
       "\n",
       "   day_Thursday  ...  code_TUNIP  code_TUNOA  code_TUO  code_TUOPO  code_TUOS  \\\n",
       "0             0  ...           0           0         0           0          0   \n",
       "1             0  ...           0           0         0           0          0   \n",
       "2             0  ...           0           0         0           0          0   \n",
       "3             0  ...           0           0         0           0          0   \n",
       "4             0  ...           0           0         0           0          0   \n",
       "\n",
       "   code_TUS  code_TUSC  code_TUSET  code_TUST  code_TUSUP  \n",
       "0         0          0           0          0           0  \n",
       "1         0          0           0          0           0  \n",
       "2         0          0           0          0           0  \n",
       "3         0          0           0          0           0  \n",
       "4         0          0           0          0           0  \n",
       "\n",
       "[5 rows x 266 columns]"
      ]
     },
     "execution_count": 24,
     "metadata": {},
     "output_type": "execute_result"
    }
   ],
   "source": [
    "X_encoded= pd.get_dummies(X)\n",
    "X_encoded.head()"
   ]
  },
  {
   "cell_type": "code",
   "execution_count": 25,
   "metadata": {},
   "outputs": [],
   "source": [
    "from sklearn.model_selection import train_test_split"
   ]
  },
  {
   "cell_type": "code",
   "execution_count": 26,
   "metadata": {},
   "outputs": [
    {
     "name": "stdout",
     "output_type": "stream",
     "text": [
      "(5386, 266) (5386, 1)\n"
     ]
    }
   ],
   "source": [
    "X_train, X_test, y_train, y_test = train_test_split(\n",
    "    X_encoded, y, test_size=0.6)\n",
    "print(X_train.shape, y_train.shape)"
   ]
  },
  {
   "cell_type": "code",
   "execution_count": 27,
   "metadata": {},
   "outputs": [],
   "source": [
    "# due to the features are all transformed from getdummie, no need standard scale"
   ]
  },
  {
   "cell_type": "code",
   "execution_count": 28,
   "metadata": {},
   "outputs": [
    {
     "data": {
      "text/plain": [
       "LinearRegression(copy_X=True, fit_intercept=True, n_jobs=None, normalize=False)"
      ]
     },
     "execution_count": 28,
     "metadata": {},
     "output_type": "execute_result"
    }
   ],
   "source": [
    "#fit scaled_train data to model\n",
    "from sklearn.linear_model import LinearRegression\n",
    "model = LinearRegression()\n",
    "model.fit(X_train, y_train)\n"
   ]
  },
  {
   "cell_type": "code",
   "execution_count": 29,
   "metadata": {},
   "outputs": [
    {
     "name": "stdout",
     "output_type": "stream",
     "text": [
      "Training Score: 0.30641997273957655\n",
      "Testing Score: -7.464063236820938e+22\n"
     ]
    }
   ],
   "source": [
    "# comparing train score and test score\n",
    "training_score = model.score(X_train, y_train)\n",
    "testing_score = model.score(X_test, y_test)\n",
    "\n",
    "print(f\"Training Score: {training_score}\")\n",
    "print(f\"Testing Score: {testing_score}\")"
   ]
  },
  {
   "cell_type": "code",
   "execution_count": 30,
   "metadata": {},
   "outputs": [
    {
     "data": {
      "image/png": "[encoded data removed]",
      "text/plain": [
       "<Figure size 432x288 with 1 Axes>"
      ]
     },
     "metadata": {
      "needs_background": "light"
     },
     "output_type": "display_data"
    }
   ],
   "source": [
    "# Plot y_test_scaled vs y_test_scaled\n",
    "# Scatter plot y_test_scaled vs predictions\n",
    "\n",
    "plt.scatter(model.predict(X_train), model.predict(X_train) - y_train, c=\"blue\", label=\"Training Data\")\n",
    "plt.scatter(model.predict(X_test), model.predict(X_test) - y_test, c=\"red\", label=\"Testing Data\")\n",
    "plt.legend()\n",
    "plt.hlines(y=0, xmin=y_test.min(), xmax=y_test.max())\n",
    "plt.title(\"Residual Plot\")\n",
    "plt.show()"
   ]
  },
  {
   "cell_type": "code",
   "execution_count": 30,
   "metadata": {},
   "outputs": [
    {
     "name": "stdout",
     "output_type": "stream",
     "text": [
      "MSE: 1.0107058992021894e+24, R2: -6.8601443469878645e+22\n"
     ]
    }
   ],
   "source": [
    "# make prediction \n",
    "predictions = model.predict(X_test)\n",
    "# comparing MSE and R2\n",
    "from sklearn.metrics import mean_squared_error\n",
    "MSE = mean_squared_error(y_test, predictions)\n",
    "r2 = model.score(X_test, y_test)\n",
    "print(f\"MSE: {MSE}, R2: {r2}\")"
   ]
  },
  {
   "cell_type": "markdown",
   "metadata": {},
   "source": [
    "A \"good\" MSE score will be close to zero while a \"good\" R2 Score will be close to 1. R2 Score is the default scoring for many of the Sklearn models"
   ]
  },
  {
   "cell_type": "code",
   "execution_count": 35,
   "metadata": {},
   "outputs": [
    {
     "data": {
      "text/html": [
       "<div>\n",
       "<style scoped>\n",
       "    .dataframe tbody tr th:only-of-type {\n",
       "        vertical-align: middle;\n",
       "    }\n",
       "\n",
       "    .dataframe tbody tr th {\n",
       "        vertical-align: top;\n",
       "    }\n",
       "\n",
       "    .dataframe thead th {\n",
       "        text-align: right;\n",
       "    }\n",
       "</style>\n",
       "<table border=\"1\" class=\"dataframe\">\n",
       "  <thead>\n",
       "    <tr style=\"text-align: right;\">\n",
       "      <th></th>\n",
       "      <th>Prediction</th>\n",
       "      <th>Actual</th>\n",
       "    </tr>\n",
       "  </thead>\n",
       "  <tbody>\n",
       "    <tr>\n",
       "      <td>0</td>\n",
       "      <td>5.843750</td>\n",
       "      <td>5</td>\n",
       "    </tr>\n",
       "    <tr>\n",
       "      <td>1</td>\n",
       "      <td>3.421875</td>\n",
       "      <td>3</td>\n",
       "    </tr>\n",
       "    <tr>\n",
       "      <td>2</td>\n",
       "      <td>5.234375</td>\n",
       "      <td>3</td>\n",
       "    </tr>\n",
       "    <tr>\n",
       "      <td>3</td>\n",
       "      <td>6.859375</td>\n",
       "      <td>5</td>\n",
       "    </tr>\n",
       "    <tr>\n",
       "      <td>4</td>\n",
       "      <td>4.968750</td>\n",
       "      <td>3</td>\n",
       "    </tr>\n",
       "    <tr>\n",
       "      <td>...</td>\n",
       "      <td>...</td>\n",
       "      <td>...</td>\n",
       "    </tr>\n",
       "    <tr>\n",
       "      <td>4174</td>\n",
       "      <td>5.796875</td>\n",
       "      <td>5</td>\n",
       "    </tr>\n",
       "    <tr>\n",
       "      <td>4175</td>\n",
       "      <td>9.500000</td>\n",
       "      <td>8</td>\n",
       "    </tr>\n",
       "    <tr>\n",
       "      <td>4176</td>\n",
       "      <td>5.359375</td>\n",
       "      <td>3</td>\n",
       "    </tr>\n",
       "    <tr>\n",
       "      <td>4177</td>\n",
       "      <td>4.453125</td>\n",
       "      <td>4</td>\n",
       "    </tr>\n",
       "    <tr>\n",
       "      <td>4178</td>\n",
       "      <td>4.093750</td>\n",
       "      <td>5</td>\n",
       "    </tr>\n",
       "  </tbody>\n",
       "</table>\n",
       "<p>4179 rows × 2 columns</p>\n",
       "</div>"
      ],
      "text/plain": [
       "      Prediction  Actual\n",
       "0       5.843750       5\n",
       "1       3.421875       3\n",
       "2       5.234375       3\n",
       "3       6.859375       5\n",
       "4       4.968750       3\n",
       "...          ...     ...\n",
       "4174    5.796875       5\n",
       "4175    9.500000       8\n",
       "4176    5.359375       3\n",
       "4177    4.453125       4\n",
       "4178    4.093750       5\n",
       "\n",
       "[4179 rows x 2 columns]"
      ]
     },
     "execution_count": 35,
     "metadata": {},
     "output_type": "execute_result"
    }
   ],
   "source": [
    "# make dataframe to compare prediction and actual data\n",
    "pd.DataFrame({\"Prediction\": predictions.flatten(), \"Actual\": y_test.flatten()})"
   ]
  },
  {
   "cell_type": "code",
   "execution_count": null,
   "metadata": {},
   "outputs": [],
   "source": []
  }
 ],
 "metadata": {
  "kernelspec": {
   "display_name": "Python 3.7.4 64-bit ('super': virtualenv)",
   "language": "python",
   "name": "python37464bitsupervirtualenve687e24a3a4141a8b6a9e2b32ae60551"
  },
  "language_info": {
   "codemirror_mode": {
    "name": "ipython",
    "version": 3
   },
   "file_extension": ".py",
   "mimetype": "text/x-python",
   "name": "python",
   "nbconvert_exporter": "python",
   "pygments_lexer": "ipython3",
   "version": "3.7.4"
  }
 },
 "nbformat": 4,
 "nbformat_minor": 2
}
