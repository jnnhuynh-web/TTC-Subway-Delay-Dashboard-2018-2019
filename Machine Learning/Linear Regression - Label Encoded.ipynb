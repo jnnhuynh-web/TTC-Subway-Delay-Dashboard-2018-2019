{
 "cells": [
  {
   "cell_type": "code",
   "execution_count": 1,
   "metadata": {},
   "outputs": [],
   "source": [
    "# Update sklearn to prevent version mismatches\n",
    "# !pip install sklearn --upgrade"
   ]
  },
  {
   "cell_type": "code",
   "execution_count": 2,
   "metadata": {},
   "outputs": [],
   "source": [
    "# install joblib. This will be used to save your model. \n",
    "# Restart your kernel after installing \n",
    "# !pip install joblib"
   ]
  },
  {
   "cell_type": "code",
   "execution_count": 2,
   "metadata": {},
   "outputs": [],
   "source": [
    "import pandas as pd"
   ]
  },
  {
   "cell_type": "markdown",
   "metadata": {},
   "source": [
    "# Read the CSV and Perform Basic Data Cleaning"
   ]
  },
  {
   "cell_type": "code",
   "execution_count": 3,
   "metadata": {},
   "outputs": [
    {
     "data": {
      "text/html": [
       "<div>\n",
       "<style scoped>\n",
       "    .dataframe tbody tr th:only-of-type {\n",
       "        vertical-align: middle;\n",
       "    }\n",
       "\n",
       "    .dataframe tbody tr th {\n",
       "        vertical-align: top;\n",
       "    }\n",
       "\n",
       "    .dataframe thead th {\n",
       "        text-align: right;\n",
       "    }\n",
       "</style>\n",
       "<table border=\"1\" class=\"dataframe\">\n",
       "  <thead>\n",
       "    <tr style=\"text-align: right;\">\n",
       "      <th></th>\n",
       "      <th>id</th>\n",
       "      <th>date</th>\n",
       "      <th>time</th>\n",
       "      <th>day</th>\n",
       "      <th>station</th>\n",
       "      <th>code</th>\n",
       "      <th>min_delay</th>\n",
       "      <th>min_gap</th>\n",
       "      <th>bound</th>\n",
       "      <th>line</th>\n",
       "      <th>vehicle</th>\n",
       "      <th>code_info</th>\n",
       "      <th>latitude</th>\n",
       "      <th>longitude</th>\n",
       "      <th>line_name</th>\n",
       "      <th>month</th>\n",
       "      <th>time_range</th>\n",
       "      <th>month_number</th>\n",
       "      <th>hour</th>\n",
       "      <th>year</th>\n",
       "    </tr>\n",
       "  </thead>\n",
       "  <tbody>\n",
       "    <tr>\n",
       "      <th>0</th>\n",
       "      <td>7720</td>\n",
       "      <td>2018-02-13</td>\n",
       "      <td>6:57</td>\n",
       "      <td>Tuesday</td>\n",
       "      <td>BROADVIEW STATION</td>\n",
       "      <td>EUNT</td>\n",
       "      <td>2</td>\n",
       "      <td>4</td>\n",
       "      <td>W</td>\n",
       "      <td>BD</td>\n",
       "      <td>5285</td>\n",
       "      <td>Equipment - No Trouble Found</td>\n",
       "      <td>43.4037</td>\n",
       "      <td>-79.2130</td>\n",
       "      <td>Bloor Danforth</td>\n",
       "      <td>February</td>\n",
       "      <td>5-9AM</td>\n",
       "      <td>2</td>\n",
       "      <td>6</td>\n",
       "      <td>2018</td>\n",
       "    </tr>\n",
       "    <tr>\n",
       "      <th>1</th>\n",
       "      <td>3147</td>\n",
       "      <td>2019-06-12</td>\n",
       "      <td>11:54</td>\n",
       "      <td>Wednesday</td>\n",
       "      <td>COXWELL STATION</td>\n",
       "      <td>TUNIP</td>\n",
       "      <td>2</td>\n",
       "      <td>5</td>\n",
       "      <td>W</td>\n",
       "      <td>BD</td>\n",
       "      <td>5350</td>\n",
       "      <td>Operator Not In Position</td>\n",
       "      <td>43.4103</td>\n",
       "      <td>-79.1923</td>\n",
       "      <td>Bloor Danforth</td>\n",
       "      <td>June</td>\n",
       "      <td>9AM-12PM</td>\n",
       "      <td>6</td>\n",
       "      <td>11</td>\n",
       "      <td>2019</td>\n",
       "    </tr>\n",
       "    <tr>\n",
       "      <th>2</th>\n",
       "      <td>11036</td>\n",
       "      <td>2018-07-31</td>\n",
       "      <td>17:05</td>\n",
       "      <td>Tuesday</td>\n",
       "      <td>COXWELL STATION</td>\n",
       "      <td>TUNOA</td>\n",
       "      <td>2</td>\n",
       "      <td>4</td>\n",
       "      <td>E</td>\n",
       "      <td>BD</td>\n",
       "      <td>0</td>\n",
       "      <td>No Operator Immediately Available</td>\n",
       "      <td>43.4103</td>\n",
       "      <td>-79.1923</td>\n",
       "      <td>Bloor Danforth</td>\n",
       "      <td>July</td>\n",
       "      <td>3-6PM</td>\n",
       "      <td>7</td>\n",
       "      <td>17</td>\n",
       "      <td>2018</td>\n",
       "    </tr>\n",
       "    <tr>\n",
       "      <th>3</th>\n",
       "      <td>11037</td>\n",
       "      <td>2018-07-31</td>\n",
       "      <td>17:33</td>\n",
       "      <td>Tuesday</td>\n",
       "      <td>COXWELL STATION</td>\n",
       "      <td>TUNOA</td>\n",
       "      <td>2</td>\n",
       "      <td>4</td>\n",
       "      <td>E</td>\n",
       "      <td>BD</td>\n",
       "      <td>0</td>\n",
       "      <td>No Operator Immediately Available</td>\n",
       "      <td>43.4103</td>\n",
       "      <td>-79.1923</td>\n",
       "      <td>Bloor Danforth</td>\n",
       "      <td>July</td>\n",
       "      <td>3-6PM</td>\n",
       "      <td>7</td>\n",
       "      <td>17</td>\n",
       "      <td>2018</td>\n",
       "    </tr>\n",
       "    <tr>\n",
       "      <th>4</th>\n",
       "      <td>11038</td>\n",
       "      <td>2018-07-31</td>\n",
       "      <td>17:40</td>\n",
       "      <td>Tuesday</td>\n",
       "      <td>COXWELL STATION</td>\n",
       "      <td>TUNOA</td>\n",
       "      <td>2</td>\n",
       "      <td>4</td>\n",
       "      <td>W</td>\n",
       "      <td>BD</td>\n",
       "      <td>0</td>\n",
       "      <td>No Operator Immediately Available</td>\n",
       "      <td>43.4103</td>\n",
       "      <td>-79.1923</td>\n",
       "      <td>Bloor Danforth</td>\n",
       "      <td>July</td>\n",
       "      <td>3-6PM</td>\n",
       "      <td>7</td>\n",
       "      <td>17</td>\n",
       "      <td>2018</td>\n",
       "    </tr>\n",
       "  </tbody>\n",
       "</table>\n",
       "</div>"
      ],
      "text/plain": [
       "      id        date   time        day            station   code  min_delay  \\\n",
       "0   7720  2018-02-13   6:57    Tuesday  BROADVIEW STATION   EUNT          2   \n",
       "1   3147  2019-06-12  11:54  Wednesday    COXWELL STATION  TUNIP          2   \n",
       "2  11036  2018-07-31  17:05    Tuesday    COXWELL STATION  TUNOA          2   \n",
       "3  11037  2018-07-31  17:33    Tuesday    COXWELL STATION  TUNOA          2   \n",
       "4  11038  2018-07-31  17:40    Tuesday    COXWELL STATION  TUNOA          2   \n",
       "\n",
       "   min_gap bound line  vehicle                           code_info  latitude  \\\n",
       "0        4     W   BD     5285        Equipment - No Trouble Found   43.4037   \n",
       "1        5     W   BD     5350            Operator Not In Position   43.4103   \n",
       "2        4     E   BD        0  No Operator Immediately Available    43.4103   \n",
       "3        4     E   BD        0  No Operator Immediately Available    43.4103   \n",
       "4        4     W   BD        0  No Operator Immediately Available    43.4103   \n",
       "\n",
       "   longitude       line_name     month time_range  month_number  hour  year  \n",
       "0   -79.2130  Bloor Danforth  February      5-9AM             2     6  2018  \n",
       "1   -79.1923  Bloor Danforth      June   9AM-12PM             6    11  2019  \n",
       "2   -79.1923  Bloor Danforth      July      3-6PM             7    17  2018  \n",
       "3   -79.1923  Bloor Danforth      July      3-6PM             7    17  2018  \n",
       "4   -79.1923  Bloor Danforth      July      3-6PM             7    17  2018  "
      ]
     },
     "execution_count": 3,
     "metadata": {},
     "output_type": "execute_result"
    }
   ],
   "source": [
    "# the dataset used contains all delays under 30 mins. \n",
    "df = pd.read_csv(\"../Data/ttc_subway_delay_2018_2019_for_machine_learning.csv\", encoding='unicode_escape')\n",
    "\n",
    "# Drop the null columns where all values are null\n",
    "df = df.dropna(axis='columns', how='all')\n",
    "df.head()"
   ]
  },
  {
   "cell_type": "code",
   "execution_count": 7,
   "metadata": {},
   "outputs": [
    {
     "ename": "AttributeError",
     "evalue": "'AxesSubplot' object has no attribute 'show'",
     "output_type": "error",
     "traceback": [
      "\u001b[1;31m---------------------------------------------------------------------------\u001b[0m",
      "\u001b[1;31mAttributeError\u001b[0m                            Traceback (most recent call last)",
      "\u001b[1;32m<ipython-input-7-8bf82b6229b8>\u001b[0m in \u001b[0;36m<module>\u001b[1;34m\u001b[0m\n\u001b[0;32m      1\u001b[0m \u001b[0mhist\u001b[0m \u001b[1;33m=\u001b[0m \u001b[0mdf\u001b[0m\u001b[1;33m[\u001b[0m\u001b[1;34m'min_delay'\u001b[0m\u001b[1;33m]\u001b[0m\u001b[1;33m.\u001b[0m\u001b[0mhist\u001b[0m\u001b[1;33m(\u001b[0m\u001b[1;33m)\u001b[0m\u001b[1;33m\u001b[0m\u001b[1;33m\u001b[0m\u001b[0m\n\u001b[1;32m----> 2\u001b[1;33m \u001b[0mhist\u001b[0m\u001b[1;33m.\u001b[0m\u001b[0mshow\u001b[0m\u001b[1;33m(\u001b[0m\u001b[1;33m)\u001b[0m\u001b[1;33m\u001b[0m\u001b[1;33m\u001b[0m\u001b[0m\n\u001b[0m",
      "\u001b[1;31mAttributeError\u001b[0m: 'AxesSubplot' object has no attribute 'show'"
     ]
    },
    {
     "data": {
      "image/png": "[encoded data removed]",
      "text/plain": [
       "<Figure size 432x288 with 1 Axes>"
      ]
     },
     "metadata": {
      "needs_background": "light"
     },
     "output_type": "display_data"
    }
   ],
   "source": [
    "hist = df['min_delay'].hist()\n",
    "hist.show()\n",
    "\n",
    "# multi linear regression to predict "
   ]
  },
  {
   "cell_type": "markdown",
   "metadata": {},
   "source": [
    "\n",
    "# Select your features (columns)"
   ]
  },
  {
   "cell_type": "code",
   "execution_count": 5,
   "metadata": {},
   "outputs": [
    {
     "data": {
      "text/html": [
       "<div>\n",
       "<style scoped>\n",
       "    .dataframe tbody tr th:only-of-type {\n",
       "        vertical-align: middle;\n",
       "    }\n",
       "\n",
       "    .dataframe tbody tr th {\n",
       "        vertical-align: top;\n",
       "    }\n",
       "\n",
       "    .dataframe thead th {\n",
       "        text-align: right;\n",
       "    }\n",
       "</style>\n",
       "<table border=\"1\" class=\"dataframe\">\n",
       "  <thead>\n",
       "    <tr style=\"text-align: right;\">\n",
       "      <th></th>\n",
       "      <th>day</th>\n",
       "      <th>station</th>\n",
       "      <th>min_delay</th>\n",
       "      <th>bound</th>\n",
       "      <th>line</th>\n",
       "      <th>month_number</th>\n",
       "      <th>hour</th>\n",
       "    </tr>\n",
       "  </thead>\n",
       "  <tbody>\n",
       "    <tr>\n",
       "      <td>0</td>\n",
       "      <td>Tuesday</td>\n",
       "      <td>BROADVIEW STATION</td>\n",
       "      <td>2</td>\n",
       "      <td>W</td>\n",
       "      <td>BD</td>\n",
       "      <td>2</td>\n",
       "      <td>6</td>\n",
       "    </tr>\n",
       "    <tr>\n",
       "      <td>1</td>\n",
       "      <td>Wednesday</td>\n",
       "      <td>COXWELL STATION</td>\n",
       "      <td>2</td>\n",
       "      <td>W</td>\n",
       "      <td>BD</td>\n",
       "      <td>6</td>\n",
       "      <td>11</td>\n",
       "    </tr>\n",
       "    <tr>\n",
       "      <td>2</td>\n",
       "      <td>Tuesday</td>\n",
       "      <td>COXWELL STATION</td>\n",
       "      <td>2</td>\n",
       "      <td>E</td>\n",
       "      <td>BD</td>\n",
       "      <td>7</td>\n",
       "      <td>17</td>\n",
       "    </tr>\n",
       "    <tr>\n",
       "      <td>3</td>\n",
       "      <td>Tuesday</td>\n",
       "      <td>COXWELL STATION</td>\n",
       "      <td>2</td>\n",
       "      <td>E</td>\n",
       "      <td>BD</td>\n",
       "      <td>7</td>\n",
       "      <td>17</td>\n",
       "    </tr>\n",
       "    <tr>\n",
       "      <td>4</td>\n",
       "      <td>Tuesday</td>\n",
       "      <td>COXWELL STATION</td>\n",
       "      <td>2</td>\n",
       "      <td>W</td>\n",
       "      <td>BD</td>\n",
       "      <td>7</td>\n",
       "      <td>17</td>\n",
       "    </tr>\n",
       "  </tbody>\n",
       "</table>\n",
       "</div>"
      ],
      "text/plain": [
       "         day            station  min_delay bound line  month_number  hour\n",
       "0    Tuesday  BROADVIEW STATION          2     W   BD             2     6\n",
       "1  Wednesday    COXWELL STATION          2     W   BD             6    11\n",
       "2    Tuesday    COXWELL STATION          2     E   BD             7    17\n",
       "3    Tuesday    COXWELL STATION          2     E   BD             7    17\n",
       "4    Tuesday    COXWELL STATION          2     W   BD             7    17"
      ]
     },
     "execution_count": 5,
     "metadata": {},
     "output_type": "execute_result"
    }
   ],
   "source": [
    "# Keep select columns\n",
    "df = df.drop(['id','date','time','code','min_gap','vehicle','code_info','line_name','month','time_range',\"latitude\",\"longitude\",\"year\"], axis=1)\n",
    "# df = df.drop(['id','date','time','code','min_gap','vehicle','code_info','line_name','month_number','hour',\"latitude\",\"longitude\",\"year\"], axis=1)\n",
    "df.head()"
   ]
  },
  {
   "cell_type": "code",
   "execution_count": 6,
   "metadata": {},
   "outputs": [
    {
     "data": {
      "text/html": [
       "<div>\n",
       "<style scoped>\n",
       "    .dataframe tbody tr th:only-of-type {\n",
       "        vertical-align: middle;\n",
       "    }\n",
       "\n",
       "    .dataframe tbody tr th {\n",
       "        vertical-align: top;\n",
       "    }\n",
       "\n",
       "    .dataframe thead th {\n",
       "        text-align: right;\n",
       "    }\n",
       "</style>\n",
       "<table border=\"1\" class=\"dataframe\">\n",
       "  <thead>\n",
       "    <tr style=\"text-align: right;\">\n",
       "      <th></th>\n",
       "      <th>day</th>\n",
       "      <th>station</th>\n",
       "      <th>min_delay</th>\n",
       "      <th>bound</th>\n",
       "      <th>line</th>\n",
       "      <th>month_number</th>\n",
       "      <th>hour</th>\n",
       "      <th>day_number</th>\n",
       "      <th>station_number</th>\n",
       "      <th>bound_number</th>\n",
       "      <th>line_number</th>\n",
       "    </tr>\n",
       "  </thead>\n",
       "  <tbody>\n",
       "    <tr>\n",
       "      <td>0</td>\n",
       "      <td>Tuesday</td>\n",
       "      <td>BROADVIEW STATION</td>\n",
       "      <td>2</td>\n",
       "      <td>W</td>\n",
       "      <td>BD</td>\n",
       "      <td>2</td>\n",
       "      <td>6</td>\n",
       "      <td>5</td>\n",
       "      <td>8</td>\n",
       "      <td>4</td>\n",
       "      <td>0</td>\n",
       "    </tr>\n",
       "    <tr>\n",
       "      <td>1</td>\n",
       "      <td>Wednesday</td>\n",
       "      <td>COXWELL STATION</td>\n",
       "      <td>2</td>\n",
       "      <td>W</td>\n",
       "      <td>BD</td>\n",
       "      <td>6</td>\n",
       "      <td>11</td>\n",
       "      <td>6</td>\n",
       "      <td>14</td>\n",
       "      <td>4</td>\n",
       "      <td>0</td>\n",
       "    </tr>\n",
       "    <tr>\n",
       "      <td>2</td>\n",
       "      <td>Tuesday</td>\n",
       "      <td>COXWELL STATION</td>\n",
       "      <td>2</td>\n",
       "      <td>E</td>\n",
       "      <td>BD</td>\n",
       "      <td>7</td>\n",
       "      <td>17</td>\n",
       "      <td>5</td>\n",
       "      <td>14</td>\n",
       "      <td>1</td>\n",
       "      <td>0</td>\n",
       "    </tr>\n",
       "    <tr>\n",
       "      <td>3</td>\n",
       "      <td>Tuesday</td>\n",
       "      <td>COXWELL STATION</td>\n",
       "      <td>2</td>\n",
       "      <td>E</td>\n",
       "      <td>BD</td>\n",
       "      <td>7</td>\n",
       "      <td>17</td>\n",
       "      <td>5</td>\n",
       "      <td>14</td>\n",
       "      <td>1</td>\n",
       "      <td>0</td>\n",
       "    </tr>\n",
       "    <tr>\n",
       "      <td>4</td>\n",
       "      <td>Tuesday</td>\n",
       "      <td>COXWELL STATION</td>\n",
       "      <td>2</td>\n",
       "      <td>W</td>\n",
       "      <td>BD</td>\n",
       "      <td>7</td>\n",
       "      <td>17</td>\n",
       "      <td>5</td>\n",
       "      <td>14</td>\n",
       "      <td>4</td>\n",
       "      <td>0</td>\n",
       "    </tr>\n",
       "  </tbody>\n",
       "</table>\n",
       "</div>"
      ],
      "text/plain": [
       "         day            station  min_delay bound line  month_number  hour  \\\n",
       "0    Tuesday  BROADVIEW STATION          2     W   BD             2     6   \n",
       "1  Wednesday    COXWELL STATION          2     W   BD             6    11   \n",
       "2    Tuesday    COXWELL STATION          2     E   BD             7    17   \n",
       "3    Tuesday    COXWELL STATION          2     E   BD             7    17   \n",
       "4    Tuesday    COXWELL STATION          2     W   BD             7    17   \n",
       "\n",
       "   day_number  station_number  bound_number  line_number  \n",
       "0           5               8             4            0  \n",
       "1           6              14             4            0  \n",
       "2           5              14             1            0  \n",
       "3           5              14             1            0  \n",
       "4           5              14             4            0  "
      ]
     },
     "execution_count": 6,
     "metadata": {},
     "output_type": "execute_result"
    }
   ],
   "source": [
    "# Label encoding for categorical variables\n",
    "df[\"day_number\"] = df[\"day\"].astype(\"category\").cat.codes\n",
    "df[\"station_number\"] = df[\"station\"].astype(\"category\").cat.codes\n",
    "df[\"bound_number\"] = df[\"bound\"].astype(\"category\").cat.codes\n",
    "df[\"line_number\"] = df[\"line\"].astype(\"category\").cat.codes\n",
    "df.head()"
   ]
  },
  {
   "cell_type": "code",
   "execution_count": 7,
   "metadata": {},
   "outputs": [
    {
     "data": {
      "text/html": [
       "<div>\n",
       "<style scoped>\n",
       "    .dataframe tbody tr th:only-of-type {\n",
       "        vertical-align: middle;\n",
       "    }\n",
       "\n",
       "    .dataframe tbody tr th {\n",
       "        vertical-align: top;\n",
       "    }\n",
       "\n",
       "    .dataframe thead th {\n",
       "        text-align: right;\n",
       "    }\n",
       "</style>\n",
       "<table border=\"1\" class=\"dataframe\">\n",
       "  <thead>\n",
       "    <tr style=\"text-align: right;\">\n",
       "      <th></th>\n",
       "      <th>min_delay</th>\n",
       "      <th>month_number</th>\n",
       "      <th>hour</th>\n",
       "      <th>day_number</th>\n",
       "      <th>station_number</th>\n",
       "      <th>bound_number</th>\n",
       "      <th>line_number</th>\n",
       "    </tr>\n",
       "  </thead>\n",
       "  <tbody>\n",
       "    <tr>\n",
       "      <td>0</td>\n",
       "      <td>2</td>\n",
       "      <td>2</td>\n",
       "      <td>6</td>\n",
       "      <td>5</td>\n",
       "      <td>8</td>\n",
       "      <td>4</td>\n",
       "      <td>0</td>\n",
       "    </tr>\n",
       "    <tr>\n",
       "      <td>1</td>\n",
       "      <td>2</td>\n",
       "      <td>6</td>\n",
       "      <td>11</td>\n",
       "      <td>6</td>\n",
       "      <td>14</td>\n",
       "      <td>4</td>\n",
       "      <td>0</td>\n",
       "    </tr>\n",
       "    <tr>\n",
       "      <td>2</td>\n",
       "      <td>2</td>\n",
       "      <td>7</td>\n",
       "      <td>17</td>\n",
       "      <td>5</td>\n",
       "      <td>14</td>\n",
       "      <td>1</td>\n",
       "      <td>0</td>\n",
       "    </tr>\n",
       "    <tr>\n",
       "      <td>3</td>\n",
       "      <td>2</td>\n",
       "      <td>7</td>\n",
       "      <td>17</td>\n",
       "      <td>5</td>\n",
       "      <td>14</td>\n",
       "      <td>1</td>\n",
       "      <td>0</td>\n",
       "    </tr>\n",
       "    <tr>\n",
       "      <td>4</td>\n",
       "      <td>2</td>\n",
       "      <td>7</td>\n",
       "      <td>17</td>\n",
       "      <td>5</td>\n",
       "      <td>14</td>\n",
       "      <td>4</td>\n",
       "      <td>0</td>\n",
       "    </tr>\n",
       "  </tbody>\n",
       "</table>\n",
       "</div>"
      ],
      "text/plain": [
       "   min_delay  month_number  hour  day_number  station_number  bound_number  \\\n",
       "0          2             2     6           5               8             4   \n",
       "1          2             6    11           6              14             4   \n",
       "2          2             7    17           5              14             1   \n",
       "3          2             7    17           5              14             1   \n",
       "4          2             7    17           5              14             4   \n",
       "\n",
       "   line_number  \n",
       "0            0  \n",
       "1            0  \n",
       "2            0  \n",
       "3            0  \n",
       "4            0  "
      ]
     },
     "execution_count": 7,
     "metadata": {},
     "output_type": "execute_result"
    }
   ],
   "source": [
    "# Only keep numerical columns\n",
    "df = df.drop([\"day\",\"station\",\"bound\",\"line\"], axis=1)\n",
    "df.head()"
   ]
  },
  {
   "cell_type": "markdown",
   "metadata": {},
   "source": [
    "# Select X and y"
   ]
  },
  {
   "cell_type": "code",
   "execution_count": 8,
   "metadata": {},
   "outputs": [],
   "source": [
    "X = df.drop(\"min_delay\", axis=1)\n",
    "# X = pd.get_dummies(df.loc[:,df.columns!='min_delay'])\n",
    "y = df[\"min_delay\"]"
   ]
  },
  {
   "cell_type": "code",
   "execution_count": 9,
   "metadata": {},
   "outputs": [
    {
     "data": {
      "text/html": [
       "<div>\n",
       "<style scoped>\n",
       "    .dataframe tbody tr th:only-of-type {\n",
       "        vertical-align: middle;\n",
       "    }\n",
       "\n",
       "    .dataframe tbody tr th {\n",
       "        vertical-align: top;\n",
       "    }\n",
       "\n",
       "    .dataframe thead th {\n",
       "        text-align: right;\n",
       "    }\n",
       "</style>\n",
       "<table border=\"1\" class=\"dataframe\">\n",
       "  <thead>\n",
       "    <tr style=\"text-align: right;\">\n",
       "      <th></th>\n",
       "      <th>month_number</th>\n",
       "      <th>hour</th>\n",
       "      <th>day_number</th>\n",
       "      <th>station_number</th>\n",
       "      <th>bound_number</th>\n",
       "      <th>line_number</th>\n",
       "    </tr>\n",
       "  </thead>\n",
       "  <tbody>\n",
       "    <tr>\n",
       "      <td>0</td>\n",
       "      <td>2</td>\n",
       "      <td>6</td>\n",
       "      <td>5</td>\n",
       "      <td>8</td>\n",
       "      <td>4</td>\n",
       "      <td>0</td>\n",
       "    </tr>\n",
       "    <tr>\n",
       "      <td>1</td>\n",
       "      <td>6</td>\n",
       "      <td>11</td>\n",
       "      <td>6</td>\n",
       "      <td>14</td>\n",
       "      <td>4</td>\n",
       "      <td>0</td>\n",
       "    </tr>\n",
       "    <tr>\n",
       "      <td>2</td>\n",
       "      <td>7</td>\n",
       "      <td>17</td>\n",
       "      <td>5</td>\n",
       "      <td>14</td>\n",
       "      <td>1</td>\n",
       "      <td>0</td>\n",
       "    </tr>\n",
       "    <tr>\n",
       "      <td>3</td>\n",
       "      <td>7</td>\n",
       "      <td>17</td>\n",
       "      <td>5</td>\n",
       "      <td>14</td>\n",
       "      <td>1</td>\n",
       "      <td>0</td>\n",
       "    </tr>\n",
       "    <tr>\n",
       "      <td>4</td>\n",
       "      <td>7</td>\n",
       "      <td>17</td>\n",
       "      <td>5</td>\n",
       "      <td>14</td>\n",
       "      <td>4</td>\n",
       "      <td>0</td>\n",
       "    </tr>\n",
       "  </tbody>\n",
       "</table>\n",
       "</div>"
      ],
      "text/plain": [
       "   month_number  hour  day_number  station_number  bound_number  line_number\n",
       "0             2     6           5               8             4            0\n",
       "1             6    11           6              14             4            0\n",
       "2             7    17           5              14             1            0\n",
       "3             7    17           5              14             1            0\n",
       "4             7    17           5              14             4            0"
      ]
     },
     "execution_count": 9,
     "metadata": {},
     "output_type": "execute_result"
    }
   ],
   "source": [
    "X.head()"
   ]
  },
  {
   "cell_type": "code",
   "execution_count": 10,
   "metadata": {},
   "outputs": [
    {
     "data": {
      "text/plain": [
       "0    2\n",
       "1    2\n",
       "2    2\n",
       "3    2\n",
       "4    2\n",
       "Name: min_delay, dtype: int64"
      ]
     },
     "execution_count": 10,
     "metadata": {},
     "output_type": "execute_result"
    }
   ],
   "source": [
    "y.head()"
   ]
  },
  {
   "cell_type": "markdown",
   "metadata": {},
   "source": [
    "# Create a Train Test Split\n",
    "\n"
   ]
  },
  {
   "cell_type": "code",
   "execution_count": 11,
   "metadata": {},
   "outputs": [
    {
     "name": "stdout",
     "output_type": "stream",
     "text": [
      "(13563, 6) (13563,)\n"
     ]
    }
   ],
   "source": [
    "from sklearn.model_selection import train_test_split\n",
    "print(X.shape, y.shape)"
   ]
  },
  {
   "cell_type": "code",
   "execution_count": 12,
   "metadata": {},
   "outputs": [],
   "source": [
    "X_train, X_test, y_train, y_test = train_test_split(X,y,test_size=0.33, random_state=42)"
   ]
  },
  {
   "cell_type": "code",
   "execution_count": 13,
   "metadata": {},
   "outputs": [
    {
     "data": {
      "text/html": [
       "<div>\n",
       "<style scoped>\n",
       "    .dataframe tbody tr th:only-of-type {\n",
       "        vertical-align: middle;\n",
       "    }\n",
       "\n",
       "    .dataframe tbody tr th {\n",
       "        vertical-align: top;\n",
       "    }\n",
       "\n",
       "    .dataframe thead th {\n",
       "        text-align: right;\n",
       "    }\n",
       "</style>\n",
       "<table border=\"1\" class=\"dataframe\">\n",
       "  <thead>\n",
       "    <tr style=\"text-align: right;\">\n",
       "      <th></th>\n",
       "      <th>month_number</th>\n",
       "      <th>hour</th>\n",
       "      <th>day_number</th>\n",
       "      <th>station_number</th>\n",
       "      <th>bound_number</th>\n",
       "      <th>line_number</th>\n",
       "    </tr>\n",
       "  </thead>\n",
       "  <tbody>\n",
       "    <tr>\n",
       "      <td>1877</td>\n",
       "      <td>10</td>\n",
       "      <td>7</td>\n",
       "      <td>5</td>\n",
       "      <td>41</td>\n",
       "      <td>4</td>\n",
       "      <td>0</td>\n",
       "    </tr>\n",
       "    <tr>\n",
       "      <td>513</td>\n",
       "      <td>1</td>\n",
       "      <td>13</td>\n",
       "      <td>0</td>\n",
       "      <td>17</td>\n",
       "      <td>3</td>\n",
       "      <td>3</td>\n",
       "    </tr>\n",
       "    <tr>\n",
       "      <td>6657</td>\n",
       "      <td>2</td>\n",
       "      <td>20</td>\n",
       "      <td>3</td>\n",
       "      <td>84</td>\n",
       "      <td>4</td>\n",
       "      <td>0</td>\n",
       "    </tr>\n",
       "    <tr>\n",
       "      <td>5030</td>\n",
       "      <td>10</td>\n",
       "      <td>21</td>\n",
       "      <td>1</td>\n",
       "      <td>14</td>\n",
       "      <td>4</td>\n",
       "      <td>0</td>\n",
       "    </tr>\n",
       "    <tr>\n",
       "      <td>8695</td>\n",
       "      <td>10</td>\n",
       "      <td>12</td>\n",
       "      <td>4</td>\n",
       "      <td>71</td>\n",
       "      <td>2</td>\n",
       "      <td>3</td>\n",
       "    </tr>\n",
       "  </tbody>\n",
       "</table>\n",
       "</div>"
      ],
      "text/plain": [
       "      month_number  hour  day_number  station_number  bound_number  \\\n",
       "1877            10     7           5              41             4   \n",
       "513              1    13           0              17             3   \n",
       "6657             2    20           3              84             4   \n",
       "5030            10    21           1              14             4   \n",
       "8695            10    12           4              71             2   \n",
       "\n",
       "      line_number  \n",
       "1877            0  \n",
       "513             3  \n",
       "6657            0  \n",
       "5030            0  \n",
       "8695            3  "
      ]
     },
     "execution_count": 13,
     "metadata": {},
     "output_type": "execute_result"
    }
   ],
   "source": [
    "X_train.head()"
   ]
  },
  {
   "cell_type": "code",
   "execution_count": 14,
   "metadata": {},
   "outputs": [
    {
     "data": {
      "text/plain": [
       "1877    3\n",
       "513     3\n",
       "6657    4\n",
       "5030    4\n",
       "8695    5\n",
       "Name: min_delay, dtype: int64"
      ]
     },
     "execution_count": 14,
     "metadata": {},
     "output_type": "execute_result"
    }
   ],
   "source": [
    "y_train.head()"
   ]
  },
  {
   "cell_type": "markdown",
   "metadata": {},
   "source": [
    "# Pre-processing\n",
    "\n",
    "Scale the data using the MinMaxScaler and perform some feature selection"
   ]
  },
  {
   "cell_type": "code",
   "execution_count": 15,
   "metadata": {},
   "outputs": [],
   "source": [
    "# Scale data\n",
    "from sklearn.preprocessing import LabelEncoder, MinMaxScaler\n",
    "X_scaler = MinMaxScaler().fit(X_train)\n",
    "X_train_scaled = X_scaler.transform(X_train)\n",
    "X_test_scaled = X_scaler.transform(X_test)"
   ]
  },
  {
   "cell_type": "markdown",
   "metadata": {},
   "source": [
    "# Train the Model\n",
    "\n"
   ]
  },
  {
   "cell_type": "code",
   "execution_count": 16,
   "metadata": {},
   "outputs": [],
   "source": [
    "# Create a linear regression model\n",
    "from sklearn.linear_model import LinearRegression\n",
    "model = LinearRegression()"
   ]
  },
  {
   "cell_type": "code",
   "execution_count": 17,
   "metadata": {},
   "outputs": [
    {
     "data": {
      "text/plain": [
       "LinearRegression(copy_X=True, fit_intercept=True, n_jobs=None, normalize=False)"
      ]
     },
     "execution_count": 17,
     "metadata": {},
     "output_type": "execute_result"
    }
   ],
   "source": [
    "# Fitting our model with all of our features in X\n",
    "model.fit(X_train_scaled, y_train)"
   ]
  },
  {
   "cell_type": "code",
   "execution_count": 18,
   "metadata": {},
   "outputs": [
    {
     "name": "stdout",
     "output_type": "stream",
     "text": [
      "Training Data Score: 0.003053321838729972\n",
      "Testing Data Score: -0.00037575814674206676\n"
     ]
    }
   ],
   "source": [
    "# Print the model score\n",
    "print(f\"Training Data Score: {model.score(X_train_scaled, y_train)}\")\n",
    "print(f\"Testing Data Score: {model.score(X_test_scaled, y_test)}\")"
   ]
  },
  {
   "cell_type": "markdown",
   "metadata": {},
   "source": [
    "# Make Predictions"
   ]
  },
  {
   "cell_type": "code",
   "execution_count": 19,
   "metadata": {},
   "outputs": [
    {
     "data": {
      "text/html": [
       "<div>\n",
       "<style scoped>\n",
       "    .dataframe tbody tr th:only-of-type {\n",
       "        vertical-align: middle;\n",
       "    }\n",
       "\n",
       "    .dataframe tbody tr th {\n",
       "        vertical-align: top;\n",
       "    }\n",
       "\n",
       "    .dataframe thead th {\n",
       "        text-align: right;\n",
       "    }\n",
       "</style>\n",
       "<table border=\"1\" class=\"dataframe\">\n",
       "  <thead>\n",
       "    <tr style=\"text-align: right;\">\n",
       "      <th></th>\n",
       "      <th>Prediction</th>\n",
       "      <th>Actual</th>\n",
       "    </tr>\n",
       "  </thead>\n",
       "  <tbody>\n",
       "    <tr>\n",
       "      <td>6325</td>\n",
       "      <td>6.000533</td>\n",
       "      <td>4</td>\n",
       "    </tr>\n",
       "    <tr>\n",
       "      <td>2435</td>\n",
       "      <td>5.662834</td>\n",
       "      <td>3</td>\n",
       "    </tr>\n",
       "    <tr>\n",
       "      <td>8040</td>\n",
       "      <td>5.454432</td>\n",
       "      <td>5</td>\n",
       "    </tr>\n",
       "    <tr>\n",
       "      <td>12361</td>\n",
       "      <td>5.617672</td>\n",
       "      <td>10</td>\n",
       "    </tr>\n",
       "    <tr>\n",
       "      <td>7937</td>\n",
       "      <td>5.983989</td>\n",
       "      <td>5</td>\n",
       "    </tr>\n",
       "    <tr>\n",
       "      <td>...</td>\n",
       "      <td>...</td>\n",
       "      <td>...</td>\n",
       "    </tr>\n",
       "    <tr>\n",
       "      <td>12663</td>\n",
       "      <td>5.884751</td>\n",
       "      <td>12</td>\n",
       "    </tr>\n",
       "    <tr>\n",
       "      <td>9166</td>\n",
       "      <td>5.599402</td>\n",
       "      <td>5</td>\n",
       "    </tr>\n",
       "    <tr>\n",
       "      <td>1699</td>\n",
       "      <td>5.659743</td>\n",
       "      <td>3</td>\n",
       "    </tr>\n",
       "    <tr>\n",
       "      <td>13479</td>\n",
       "      <td>5.430037</td>\n",
       "      <td>24</td>\n",
       "    </tr>\n",
       "    <tr>\n",
       "      <td>11766</td>\n",
       "      <td>5.723810</td>\n",
       "      <td>9</td>\n",
       "    </tr>\n",
       "  </tbody>\n",
       "</table>\n",
       "<p>4476 rows × 2 columns</p>\n",
       "</div>"
      ],
      "text/plain": [
       "       Prediction  Actual\n",
       "6325     6.000533       4\n",
       "2435     5.662834       3\n",
       "8040     5.454432       5\n",
       "12361    5.617672      10\n",
       "7937     5.983989       5\n",
       "...           ...     ...\n",
       "12663    5.884751      12\n",
       "9166     5.599402       5\n",
       "1699     5.659743       3\n",
       "13479    5.430037      24\n",
       "11766    5.723810       9\n",
       "\n",
       "[4476 rows x 2 columns]"
      ]
     },
     "execution_count": 19,
     "metadata": {},
     "output_type": "execute_result"
    }
   ],
   "source": [
    "# Make predictions with the model\n",
    "predictions = model.predict(X_test_scaled)\n",
    "pd.DataFrame({\"Prediction\": predictions, \"Actual\": y_test})"
   ]
  },
  {
   "cell_type": "markdown",
   "metadata": {},
   "source": [
    "# Hyperparameter Tuning\n",
    "\n",
    "Use `GridSearchCV` to tune the model's parameters"
   ]
  },
  {
   "cell_type": "code",
   "execution_count": 20,
   "metadata": {},
   "outputs": [],
   "source": [
    "# Create the GridSearchCV model\n",
    "# from sklearn.model_selection import GridSearchCV\n",
    "# param_grid = {'C': [1, 5, 10],\n",
    "#               'gamma': [0.0001, 0.0005, 0.001]}\n",
    "# grid = GridSearchCV(model2, param_grid, verbose=3)"
   ]
  },
  {
   "cell_type": "code",
   "execution_count": 21,
   "metadata": {},
   "outputs": [],
   "source": [
    "# Train the model with GridSearch\n",
    "# grid.fit(X_train_scaled, y_train)"
   ]
  },
  {
   "cell_type": "code",
   "execution_count": 22,
   "metadata": {},
   "outputs": [],
   "source": [
    "# print(grid.best_params_)\n",
    "# print(grid.best_score_)"
   ]
  },
  {
   "cell_type": "markdown",
   "metadata": {},
   "source": [
    "# Save the Model"
   ]
  },
  {
   "cell_type": "code",
   "execution_count": 23,
   "metadata": {},
   "outputs": [],
   "source": [
    "# using results above to save the best model\n",
    "# best_model=SVC(kernel='linear', C=10, gamma=0.0001)\n",
    "\n",
    "# import joblib\n",
    "\n",
    "# filename = 'best_model.sav'\n",
    "# joblib.dump(best_model, filename)"
   ]
  },
  {
   "cell_type": "code",
   "execution_count": null,
   "metadata": {},
   "outputs": [],
   "source": []
  }
 ],
 "metadata": {
  "kernel_info": {
   "name": "dev"
  },
  "kernelspec": {
   "display_name": "Python 3",
   "language": "python",
   "name": "python3"
  },
  "language_info": {
   "codemirror_mode": {
    "name": "ipython",
    "version": 3
   },
   "file_extension": ".py",
   "mimetype": "text/x-python",
   "name": "python",
   "nbconvert_exporter": "python",
   "pygments_lexer": "ipython3",
   "version": "3.7.3"
  },
  "nteract": {
   "version": "0.12.3"
  }
 },
 "nbformat": 4,
 "nbformat_minor": 2
}
