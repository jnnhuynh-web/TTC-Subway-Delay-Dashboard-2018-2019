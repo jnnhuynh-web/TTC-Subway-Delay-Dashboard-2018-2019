{
 "cells": [
  {
   "cell_type": "code",
   "execution_count": 9,
   "metadata": {
    "nbgrader": {
     "grade": false,
     "grade_id": "cell-195a16dbc662c53b",
     "locked": true,
     "schema_version": 1,
     "solution": false
    }
   },
   "outputs": [],
   "source": [
    "%matplotlib inline\n",
    "import matplotlib.pyplot as plt\n",
    "import numpy as np\n",
    "import pandas as pd"
   ]
  },
  {
   "cell_type": "code",
   "execution_count": 15,
   "metadata": {},
   "outputs": [
    {
     "data": {
      "text/html": [
       "<div>\n",
       "<style scoped>\n",
       "    .dataframe tbody tr th:only-of-type {\n",
       "        vertical-align: middle;\n",
       "    }\n",
       "\n",
       "    .dataframe tbody tr th {\n",
       "        vertical-align: top;\n",
       "    }\n",
       "\n",
       "    .dataframe thead th {\n",
       "        text-align: right;\n",
       "    }\n",
       "</style>\n",
       "<table border=\"1\" class=\"dataframe\">\n",
       "  <thead>\n",
       "    <tr style=\"text-align: right;\">\n",
       "      <th></th>\n",
       "      <th>id</th>\n",
       "      <th>date</th>\n",
       "      <th>time</th>\n",
       "      <th>day</th>\n",
       "      <th>station</th>\n",
       "      <th>code</th>\n",
       "      <th>min_delay</th>\n",
       "      <th>min_gap</th>\n",
       "      <th>bound</th>\n",
       "      <th>line</th>\n",
       "      <th>vehicle</th>\n",
       "      <th>code_info</th>\n",
       "      <th>latitude</th>\n",
       "      <th>longitude</th>\n",
       "      <th>line_name</th>\n",
       "      <th>month</th>\n",
       "      <th>time_range</th>\n",
       "      <th>month_number</th>\n",
       "      <th>hour</th>\n",
       "      <th>year</th>\n",
       "    </tr>\n",
       "  </thead>\n",
       "  <tbody>\n",
       "    <tr>\n",
       "      <th>0</th>\n",
       "      <td>7601</td>\n",
       "      <td>2018-02-13</td>\n",
       "      <td>6:57</td>\n",
       "      <td>Tuesday</td>\n",
       "      <td>BROADVIEW STATION</td>\n",
       "      <td>EUNT</td>\n",
       "      <td>2</td>\n",
       "      <td>4</td>\n",
       "      <td>W</td>\n",
       "      <td>BD</td>\n",
       "      <td>5285</td>\n",
       "      <td>Equipment - No Trouble Found</td>\n",
       "      <td>43.676944</td>\n",
       "      <td>-79.358333</td>\n",
       "      <td>Bloor Danforth</td>\n",
       "      <td>February</td>\n",
       "      <td>5-9AM</td>\n",
       "      <td>2</td>\n",
       "      <td>6</td>\n",
       "      <td>2018</td>\n",
       "    </tr>\n",
       "    <tr>\n",
       "      <th>1</th>\n",
       "      <td>3102</td>\n",
       "      <td>2019-06-12</td>\n",
       "      <td>11:54</td>\n",
       "      <td>Wednesday</td>\n",
       "      <td>COXWELL STATION</td>\n",
       "      <td>TUNIP</td>\n",
       "      <td>2</td>\n",
       "      <td>5</td>\n",
       "      <td>W</td>\n",
       "      <td>BD</td>\n",
       "      <td>5350</td>\n",
       "      <td>Operator Not In Position</td>\n",
       "      <td>43.684167</td>\n",
       "      <td>-79.323056</td>\n",
       "      <td>Bloor Danforth</td>\n",
       "      <td>June</td>\n",
       "      <td>9AM-12PM</td>\n",
       "      <td>6</td>\n",
       "      <td>11</td>\n",
       "      <td>2019</td>\n",
       "    </tr>\n",
       "    <tr>\n",
       "      <th>2</th>\n",
       "      <td>10917</td>\n",
       "      <td>2018-07-31</td>\n",
       "      <td>17:05</td>\n",
       "      <td>Tuesday</td>\n",
       "      <td>COXWELL STATION</td>\n",
       "      <td>TUNOA</td>\n",
       "      <td>2</td>\n",
       "      <td>4</td>\n",
       "      <td>E</td>\n",
       "      <td>BD</td>\n",
       "      <td>0</td>\n",
       "      <td>No Operator Immediately Available</td>\n",
       "      <td>43.684167</td>\n",
       "      <td>-79.323056</td>\n",
       "      <td>Bloor Danforth</td>\n",
       "      <td>July</td>\n",
       "      <td>3-6PM</td>\n",
       "      <td>7</td>\n",
       "      <td>17</td>\n",
       "      <td>2018</td>\n",
       "    </tr>\n",
       "    <tr>\n",
       "      <th>3</th>\n",
       "      <td>10918</td>\n",
       "      <td>2018-07-31</td>\n",
       "      <td>17:33</td>\n",
       "      <td>Tuesday</td>\n",
       "      <td>COXWELL STATION</td>\n",
       "      <td>TUNOA</td>\n",
       "      <td>2</td>\n",
       "      <td>4</td>\n",
       "      <td>E</td>\n",
       "      <td>BD</td>\n",
       "      <td>0</td>\n",
       "      <td>No Operator Immediately Available</td>\n",
       "      <td>43.684167</td>\n",
       "      <td>-79.323056</td>\n",
       "      <td>Bloor Danforth</td>\n",
       "      <td>July</td>\n",
       "      <td>3-6PM</td>\n",
       "      <td>7</td>\n",
       "      <td>17</td>\n",
       "      <td>2018</td>\n",
       "    </tr>\n",
       "    <tr>\n",
       "      <th>4</th>\n",
       "      <td>10919</td>\n",
       "      <td>2018-07-31</td>\n",
       "      <td>17:40</td>\n",
       "      <td>Tuesday</td>\n",
       "      <td>COXWELL STATION</td>\n",
       "      <td>TUNOA</td>\n",
       "      <td>2</td>\n",
       "      <td>4</td>\n",
       "      <td>W</td>\n",
       "      <td>BD</td>\n",
       "      <td>0</td>\n",
       "      <td>No Operator Immediately Available</td>\n",
       "      <td>43.684167</td>\n",
       "      <td>-79.323056</td>\n",
       "      <td>Bloor Danforth</td>\n",
       "      <td>July</td>\n",
       "      <td>3-6PM</td>\n",
       "      <td>7</td>\n",
       "      <td>17</td>\n",
       "      <td>2018</td>\n",
       "    </tr>\n",
       "  </tbody>\n",
       "</table>\n",
       "</div>"
      ],
      "text/plain": [
       "      id        date   time        day            station   code  min_delay  \\\n",
       "0   7601  2018-02-13   6:57    Tuesday  BROADVIEW STATION   EUNT          2   \n",
       "1   3102  2019-06-12  11:54  Wednesday    COXWELL STATION  TUNIP          2   \n",
       "2  10917  2018-07-31  17:05    Tuesday    COXWELL STATION  TUNOA          2   \n",
       "3  10918  2018-07-31  17:33    Tuesday    COXWELL STATION  TUNOA          2   \n",
       "4  10919  2018-07-31  17:40    Tuesday    COXWELL STATION  TUNOA          2   \n",
       "\n",
       "   min_gap bound line  vehicle                           code_info   latitude  \\\n",
       "0        4     W   BD     5285        Equipment - No Trouble Found  43.676944   \n",
       "1        5     W   BD     5350            Operator Not In Position  43.684167   \n",
       "2        4     E   BD        0  No Operator Immediately Available   43.684167   \n",
       "3        4     E   BD        0  No Operator Immediately Available   43.684167   \n",
       "4        4     W   BD        0  No Operator Immediately Available   43.684167   \n",
       "\n",
       "    longitude       line_name     month time_range  month_number  hour  year  \n",
       "0  -79.358333  Bloor Danforth  February      5-9AM             2     6  2018  \n",
       "1  -79.323056  Bloor Danforth      June   9AM-12PM             6    11  2019  \n",
       "2  -79.323056  Bloor Danforth      July      3-6PM             7    17  2018  \n",
       "3  -79.323056  Bloor Danforth      July      3-6PM             7    17  2018  \n",
       "4  -79.323056  Bloor Danforth      July      3-6PM             7    17  2018  "
      ]
     },
     "execution_count": 15,
     "metadata": {},
     "output_type": "execute_result"
    }
   ],
   "source": [
    "# Read the csv file into a pandas DataFrame\n",
    "\n",
    "df = pd.read_csv('../Data/ttc_subway_delay_2018_2019_for_machine_learning.csv')\n",
    "df.head()"
   ]
  },
  {
   "cell_type": "code",
   "execution_count": 16,
   "metadata": {},
   "outputs": [
    {
     "data": {
      "text/plain": [
       "Index(['id', 'date', 'time', 'day', 'station', 'code', 'min_delay', 'min_gap',\n",
       "       'bound', 'line', 'vehicle', 'code_info', 'latitude', 'longitude',\n",
       "       'line_name', 'month', 'time_range', 'month_number', 'hour', 'year'],\n",
       "      dtype='object')"
      ]
     },
     "execution_count": 16,
     "metadata": {},
     "output_type": "execute_result"
    }
   ],
   "source": [
    "df.columns"
   ]
  },
  {
   "cell_type": "code",
   "execution_count": 17,
   "metadata": {},
   "outputs": [
    {
     "data": {
      "text/html": [
       "<div>\n",
       "<style scoped>\n",
       "    .dataframe tbody tr th:only-of-type {\n",
       "        vertical-align: middle;\n",
       "    }\n",
       "\n",
       "    .dataframe tbody tr th {\n",
       "        vertical-align: top;\n",
       "    }\n",
       "\n",
       "    .dataframe thead th {\n",
       "        text-align: right;\n",
       "    }\n",
       "</style>\n",
       "<table border=\"1\" class=\"dataframe\">\n",
       "  <thead>\n",
       "    <tr style=\"text-align: right;\">\n",
       "      <th></th>\n",
       "      <th>station</th>\n",
       "      <th>bound</th>\n",
       "      <th>line</th>\n",
       "      <th>month_number</th>\n",
       "      <th>hour</th>\n",
       "      <th>year</th>\n",
       "    </tr>\n",
       "  </thead>\n",
       "  <tbody>\n",
       "    <tr>\n",
       "      <th>0</th>\n",
       "      <td>BROADVIEW STATION</td>\n",
       "      <td>W</td>\n",
       "      <td>BD</td>\n",
       "      <td>2</td>\n",
       "      <td>6</td>\n",
       "      <td>2018</td>\n",
       "    </tr>\n",
       "    <tr>\n",
       "      <th>1</th>\n",
       "      <td>COXWELL STATION</td>\n",
       "      <td>W</td>\n",
       "      <td>BD</td>\n",
       "      <td>6</td>\n",
       "      <td>11</td>\n",
       "      <td>2019</td>\n",
       "    </tr>\n",
       "    <tr>\n",
       "      <th>2</th>\n",
       "      <td>COXWELL STATION</td>\n",
       "      <td>E</td>\n",
       "      <td>BD</td>\n",
       "      <td>7</td>\n",
       "      <td>17</td>\n",
       "      <td>2018</td>\n",
       "    </tr>\n",
       "    <tr>\n",
       "      <th>3</th>\n",
       "      <td>COXWELL STATION</td>\n",
       "      <td>E</td>\n",
       "      <td>BD</td>\n",
       "      <td>7</td>\n",
       "      <td>17</td>\n",
       "      <td>2018</td>\n",
       "    </tr>\n",
       "    <tr>\n",
       "      <th>4</th>\n",
       "      <td>COXWELL STATION</td>\n",
       "      <td>W</td>\n",
       "      <td>BD</td>\n",
       "      <td>7</td>\n",
       "      <td>17</td>\n",
       "      <td>2018</td>\n",
       "    </tr>\n",
       "  </tbody>\n",
       "</table>\n",
       "</div>"
      ],
      "text/plain": [
       "             station bound line  month_number  hour  year\n",
       "0  BROADVIEW STATION     W   BD             2     6  2018\n",
       "1    COXWELL STATION     W   BD             6    11  2019\n",
       "2    COXWELL STATION     E   BD             7    17  2018\n",
       "3    COXWELL STATION     E   BD             7    17  2018\n",
       "4    COXWELL STATION     W   BD             7    17  2018"
      ]
     },
     "execution_count": 17,
     "metadata": {},
     "output_type": "execute_result"
    }
   ],
   "source": [
    "df_selected = df[[\"station\",\"bound\",\"line\",\"month_number\",\"hour\",\"year\"]]\n",
    "#df_selected = df[[\"station\",\"bound\",\"day\",\"hour\"]]\n",
    "#df_selected = df[[\"station\",\"bound\",\"month_number\",\"hour\",\"year\",\"day_number\"]]\n",
    "#df_selected = df[[\"station\",\"month_number\",\"hour\"]]\n",
    "df_selected.head()"
   ]
  },
  {
   "cell_type": "markdown",
   "metadata": {},
   "source": [
    "Label Encoder"
   ]
  },
  {
   "cell_type": "code",
   "execution_count": 18,
   "metadata": {},
   "outputs": [
    {
     "name": "stdout",
     "output_type": "stream",
     "text": [
      "(13517, 6) (13517, 1)\n"
     ]
    }
   ],
   "source": [
    "# Assign the data to X and y\n",
    "\n",
    "X_NoEncoded = df_selected\n",
    "y = df[\"min_delay\"].values.reshape(-1, 1)\n",
    "print(X_NoEncoded.shape, y.shape)"
   ]
  },
  {
   "cell_type": "code",
   "execution_count": 19,
   "metadata": {},
   "outputs": [
    {
     "data": {
      "text/plain": [
       "array(['BATHURST STATION', 'BAY STATION', 'BAYVIEW STATION',\n",
       "       'BESSARION STATION', 'BROADVIEW STATION', 'CASTLE FRANK STATION',\n",
       "       'CHESTER STATION', 'CHRISTIE STATION', 'COLLEGE STATION',\n",
       "       'COXWELL STATION', 'DAVISVILLE STATION', 'DON MILLS STATION',\n",
       "       'DONLANDS STATION', 'DOWNSVIEW PARK STATION', 'DUFFERIN STATION',\n",
       "       'DUNDAS STATION', 'DUNDAS WEST STATION', 'DUPONT STATION',\n",
       "       'EGLINTON STATION', 'EGLINTON WEST STATION', 'ELLESMERE STATION',\n",
       "       'FINCH STATION', 'FINCH WEST STATION', 'GLENCAIRN STATION',\n",
       "       'GREENWOOD STATION', 'HIGH PARK STATION', 'HIGHWAY 407 STATION',\n",
       "       'ISLINGTON STATION', 'JANE STATION', 'KEELE STATION',\n",
       "       'KENNEDY BD STATION', 'KENNEDY SRT STATION', 'KING STATION',\n",
       "       'KIPLING STATION', 'LANSDOWNE STATION', 'LAWRENCE EAST STATION',\n",
       "       'LAWRENCE STATION', 'LAWRENCE WEST STATION', 'LESLIE STATION',\n",
       "       'MAIN STREET STATION', 'MCCOWAN STATION', 'MIDLAND STATION',\n",
       "       'MUSEUM STATION', 'NORTH YORK CTR STATION', 'OLD MILL STATION',\n",
       "       'OSGOODE STATION', 'OSSINGTON STATION', 'PAPE STATION',\n",
       "       'PIONEER VILLAGE STATIO', 'QUEEN STATION', \"QUEEN'S PARK STATION\",\n",
       "       'ROSEDALE STATION', 'ROYAL YORK STATION', 'RUNNYMEDE STATION',\n",
       "       'SCARBOROUGH CTR STATIO', 'SHEPPARD WEST STATION',\n",
       "       'SHEPPARD-YONGE SHP STATION', 'SHEPPARD-YONGE YUS STATION',\n",
       "       'SHERBOURNE STATION', 'SPADINA BD STATION', 'SPADINA YUS STATION',\n",
       "       'ST ANDREW STATION', 'ST CLAIR STATION', 'ST CLAIR WEST STATION',\n",
       "       'ST GEORGE BD STATION', 'ST GEORGE YUS STATION',\n",
       "       'ST PATRICK STATION', 'SUMMERHILL STATION', 'UNION STATION',\n",
       "       'VAUGHAN MC STATION', 'VICTORIA PARK STATION', 'WARDEN STATION',\n",
       "       'WELLESLEY STATION', 'WILSON STATION', 'WOODBINE STATION',\n",
       "       'YONGE BLOOR BD STATION', 'YONGE BLOOR YUS STATION',\n",
       "       'YORK MILLS STATION', 'YORK UNIVERSITY STATION',\n",
       "       'YORKDALE STATION'], dtype=object)"
      ]
     },
     "execution_count": 19,
     "metadata": {},
     "output_type": "execute_result"
    }
   ],
   "source": [
    "from sklearn.preprocessing import LabelEncoder\n",
    "label_encoder = LabelEncoder()\n",
    "\n",
    "data = X_NoEncoded.copy()\n",
    "\n",
    "#label_encoder.fit(data[\"station\",\"bound\",\"day\"])\n",
    "label_encoder.fit(data[\"station\"])\n",
    "label_encoder.classes_\n"
   ]
  },
  {
   "cell_type": "code",
   "execution_count": 20,
   "metadata": {},
   "outputs": [
    {
     "data": {
      "text/plain": [
       "array([ 4,  9,  9, ..., 49, 66, 67])"
      ]
     },
     "execution_count": 20,
     "metadata": {},
     "output_type": "execute_result"
    }
   ],
   "source": [
    "station_encoded = label_encoder.transform(data.station)\n",
    "station_encoded"
   ]
  },
  {
   "cell_type": "code",
   "execution_count": 21,
   "metadata": {},
   "outputs": [
    {
     "name": "stdout",
     "output_type": "stream",
     "text": [
      "(13517, 6)\n"
     ]
    }
   ],
   "source": [
    "print(data.shape)"
   ]
  },
  {
   "cell_type": "code",
   "execution_count": 22,
   "metadata": {},
   "outputs": [
    {
     "data": {
      "text/html": [
       "<div>\n",
       "<style scoped>\n",
       "    .dataframe tbody tr th:only-of-type {\n",
       "        vertical-align: middle;\n",
       "    }\n",
       "\n",
       "    .dataframe tbody tr th {\n",
       "        vertical-align: top;\n",
       "    }\n",
       "\n",
       "    .dataframe thead th {\n",
       "        text-align: right;\n",
       "    }\n",
       "</style>\n",
       "<table border=\"1\" class=\"dataframe\">\n",
       "  <thead>\n",
       "    <tr style=\"text-align: right;\">\n",
       "      <th></th>\n",
       "      <th>station</th>\n",
       "      <th>bound</th>\n",
       "      <th>line</th>\n",
       "      <th>month_number</th>\n",
       "      <th>hour</th>\n",
       "      <th>year</th>\n",
       "    </tr>\n",
       "  </thead>\n",
       "  <tbody>\n",
       "    <tr>\n",
       "      <th>0</th>\n",
       "      <td>BROADVIEW STATION</td>\n",
       "      <td>W</td>\n",
       "      <td>BD</td>\n",
       "      <td>2</td>\n",
       "      <td>6</td>\n",
       "      <td>2018</td>\n",
       "    </tr>\n",
       "    <tr>\n",
       "      <th>1</th>\n",
       "      <td>COXWELL STATION</td>\n",
       "      <td>W</td>\n",
       "      <td>BD</td>\n",
       "      <td>6</td>\n",
       "      <td>11</td>\n",
       "      <td>2019</td>\n",
       "    </tr>\n",
       "    <tr>\n",
       "      <th>2</th>\n",
       "      <td>COXWELL STATION</td>\n",
       "      <td>E</td>\n",
       "      <td>BD</td>\n",
       "      <td>7</td>\n",
       "      <td>17</td>\n",
       "      <td>2018</td>\n",
       "    </tr>\n",
       "    <tr>\n",
       "      <th>3</th>\n",
       "      <td>COXWELL STATION</td>\n",
       "      <td>E</td>\n",
       "      <td>BD</td>\n",
       "      <td>7</td>\n",
       "      <td>17</td>\n",
       "      <td>2018</td>\n",
       "    </tr>\n",
       "    <tr>\n",
       "      <th>4</th>\n",
       "      <td>COXWELL STATION</td>\n",
       "      <td>W</td>\n",
       "      <td>BD</td>\n",
       "      <td>7</td>\n",
       "      <td>17</td>\n",
       "      <td>2018</td>\n",
       "    </tr>\n",
       "  </tbody>\n",
       "</table>\n",
       "</div>"
      ],
      "text/plain": [
       "             station bound line  month_number  hour  year\n",
       "0  BROADVIEW STATION     W   BD             2     6  2018\n",
       "1    COXWELL STATION     W   BD             6    11  2019\n",
       "2    COXWELL STATION     E   BD             7    17  2018\n",
       "3    COXWELL STATION     E   BD             7    17  2018\n",
       "4    COXWELL STATION     W   BD             7    17  2018"
      ]
     },
     "execution_count": 22,
     "metadata": {},
     "output_type": "execute_result"
    }
   ],
   "source": [
    "data.head()"
   ]
  },
  {
   "cell_type": "code",
   "execution_count": 23,
   "metadata": {},
   "outputs": [
    {
     "data": {
      "text/html": [
       "<div>\n",
       "<style scoped>\n",
       "    .dataframe tbody tr th:only-of-type {\n",
       "        vertical-align: middle;\n",
       "    }\n",
       "\n",
       "    .dataframe tbody tr th {\n",
       "        vertical-align: top;\n",
       "    }\n",
       "\n",
       "    .dataframe thead th {\n",
       "        text-align: right;\n",
       "    }\n",
       "</style>\n",
       "<table border=\"1\" class=\"dataframe\">\n",
       "  <thead>\n",
       "    <tr style=\"text-align: right;\">\n",
       "      <th></th>\n",
       "      <th>station</th>\n",
       "      <th>bound</th>\n",
       "      <th>line</th>\n",
       "      <th>month_number</th>\n",
       "      <th>hour</th>\n",
       "      <th>year</th>\n",
       "      <th>station_encoded</th>\n",
       "    </tr>\n",
       "  </thead>\n",
       "  <tbody>\n",
       "    <tr>\n",
       "      <th>0</th>\n",
       "      <td>BROADVIEW STATION</td>\n",
       "      <td>W</td>\n",
       "      <td>BD</td>\n",
       "      <td>2</td>\n",
       "      <td>6</td>\n",
       "      <td>2018</td>\n",
       "      <td>4</td>\n",
       "    </tr>\n",
       "    <tr>\n",
       "      <th>1</th>\n",
       "      <td>COXWELL STATION</td>\n",
       "      <td>W</td>\n",
       "      <td>BD</td>\n",
       "      <td>6</td>\n",
       "      <td>11</td>\n",
       "      <td>2019</td>\n",
       "      <td>9</td>\n",
       "    </tr>\n",
       "    <tr>\n",
       "      <th>2</th>\n",
       "      <td>COXWELL STATION</td>\n",
       "      <td>E</td>\n",
       "      <td>BD</td>\n",
       "      <td>7</td>\n",
       "      <td>17</td>\n",
       "      <td>2018</td>\n",
       "      <td>9</td>\n",
       "    </tr>\n",
       "    <tr>\n",
       "      <th>3</th>\n",
       "      <td>COXWELL STATION</td>\n",
       "      <td>E</td>\n",
       "      <td>BD</td>\n",
       "      <td>7</td>\n",
       "      <td>17</td>\n",
       "      <td>2018</td>\n",
       "      <td>9</td>\n",
       "    </tr>\n",
       "    <tr>\n",
       "      <th>4</th>\n",
       "      <td>COXWELL STATION</td>\n",
       "      <td>W</td>\n",
       "      <td>BD</td>\n",
       "      <td>7</td>\n",
       "      <td>17</td>\n",
       "      <td>2018</td>\n",
       "      <td>9</td>\n",
       "    </tr>\n",
       "  </tbody>\n",
       "</table>\n",
       "</div>"
      ],
      "text/plain": [
       "             station bound line  month_number  hour  year  station_encoded\n",
       "0  BROADVIEW STATION     W   BD             2     6  2018                4\n",
       "1    COXWELL STATION     W   BD             6    11  2019                9\n",
       "2    COXWELL STATION     E   BD             7    17  2018                9\n",
       "3    COXWELL STATION     E   BD             7    17  2018                9\n",
       "4    COXWELL STATION     W   BD             7    17  2018                9"
      ]
     },
     "execution_count": 23,
     "metadata": {},
     "output_type": "execute_result"
    }
   ],
   "source": [
    "data[\"station_encoded\"] = station_encoded\n",
    "data.head()"
   ]
  },
  {
   "cell_type": "code",
   "execution_count": 25,
   "metadata": {},
   "outputs": [
    {
     "data": {
      "text/html": [
       "<div>\n",
       "<style scoped>\n",
       "    .dataframe tbody tr th:only-of-type {\n",
       "        vertical-align: middle;\n",
       "    }\n",
       "\n",
       "    .dataframe tbody tr th {\n",
       "        vertical-align: top;\n",
       "    }\n",
       "\n",
       "    .dataframe thead th {\n",
       "        text-align: right;\n",
       "    }\n",
       "</style>\n",
       "<table border=\"1\" class=\"dataframe\">\n",
       "  <thead>\n",
       "    <tr style=\"text-align: right;\">\n",
       "      <th></th>\n",
       "      <th>station_encoded</th>\n",
       "      <th>bound</th>\n",
       "      <th>hour</th>\n",
       "    </tr>\n",
       "  </thead>\n",
       "  <tbody>\n",
       "    <tr>\n",
       "      <th>0</th>\n",
       "      <td>4</td>\n",
       "      <td>W</td>\n",
       "      <td>6</td>\n",
       "    </tr>\n",
       "    <tr>\n",
       "      <th>1</th>\n",
       "      <td>9</td>\n",
       "      <td>W</td>\n",
       "      <td>11</td>\n",
       "    </tr>\n",
       "    <tr>\n",
       "      <th>2</th>\n",
       "      <td>9</td>\n",
       "      <td>E</td>\n",
       "      <td>17</td>\n",
       "    </tr>\n",
       "    <tr>\n",
       "      <th>3</th>\n",
       "      <td>9</td>\n",
       "      <td>E</td>\n",
       "      <td>17</td>\n",
       "    </tr>\n",
       "    <tr>\n",
       "      <th>4</th>\n",
       "      <td>9</td>\n",
       "      <td>W</td>\n",
       "      <td>17</td>\n",
       "    </tr>\n",
       "  </tbody>\n",
       "</table>\n",
       "</div>"
      ],
      "text/plain": [
       "   station_encoded bound  hour\n",
       "0                4     W     6\n",
       "1                9     W    11\n",
       "2                9     E    17\n",
       "3                9     E    17\n",
       "4                9     W    17"
      ]
     },
     "execution_count": 25,
     "metadata": {},
     "output_type": "execute_result"
    }
   ],
   "source": [
    "data = data[[\"station_encoded\",\"bound\",\"hour\"]]\n",
    "data.head()"
   ]
  },
  {
   "cell_type": "markdown",
   "metadata": {},
   "source": [
    "get_dummies"
   ]
  },
  {
   "cell_type": "code",
   "execution_count": 28,
   "metadata": {},
   "outputs": [
    {
     "data": {
      "text/html": [
       "<div>\n",
       "<style scoped>\n",
       "    .dataframe tbody tr th:only-of-type {\n",
       "        vertical-align: middle;\n",
       "    }\n",
       "\n",
       "    .dataframe tbody tr th {\n",
       "        vertical-align: top;\n",
       "    }\n",
       "\n",
       "    .dataframe thead th {\n",
       "        text-align: right;\n",
       "    }\n",
       "</style>\n",
       "<table border=\"1\" class=\"dataframe\">\n",
       "  <thead>\n",
       "    <tr style=\"text-align: right;\">\n",
       "      <th></th>\n",
       "      <th>station_encoded</th>\n",
       "      <th>hour</th>\n",
       "      <th>bound_E</th>\n",
       "      <th>bound_N</th>\n",
       "      <th>bound_S</th>\n",
       "      <th>bound_W</th>\n",
       "    </tr>\n",
       "  </thead>\n",
       "  <tbody>\n",
       "    <tr>\n",
       "      <th>0</th>\n",
       "      <td>4</td>\n",
       "      <td>6</td>\n",
       "      <td>0</td>\n",
       "      <td>0</td>\n",
       "      <td>0</td>\n",
       "      <td>1</td>\n",
       "    </tr>\n",
       "    <tr>\n",
       "      <th>1</th>\n",
       "      <td>9</td>\n",
       "      <td>11</td>\n",
       "      <td>0</td>\n",
       "      <td>0</td>\n",
       "      <td>0</td>\n",
       "      <td>1</td>\n",
       "    </tr>\n",
       "    <tr>\n",
       "      <th>2</th>\n",
       "      <td>9</td>\n",
       "      <td>17</td>\n",
       "      <td>1</td>\n",
       "      <td>0</td>\n",
       "      <td>0</td>\n",
       "      <td>0</td>\n",
       "    </tr>\n",
       "    <tr>\n",
       "      <th>3</th>\n",
       "      <td>9</td>\n",
       "      <td>17</td>\n",
       "      <td>1</td>\n",
       "      <td>0</td>\n",
       "      <td>0</td>\n",
       "      <td>0</td>\n",
       "    </tr>\n",
       "    <tr>\n",
       "      <th>4</th>\n",
       "      <td>9</td>\n",
       "      <td>17</td>\n",
       "      <td>0</td>\n",
       "      <td>0</td>\n",
       "      <td>0</td>\n",
       "      <td>1</td>\n",
       "    </tr>\n",
       "  </tbody>\n",
       "</table>\n",
       "</div>"
      ],
      "text/plain": [
       "   station_encoded  hour  bound_E  bound_N  bound_S  bound_W\n",
       "0                4     6        0        0        0        1\n",
       "1                9    11        0        0        0        1\n",
       "2                9    17        1        0        0        0\n",
       "3                9    17        1        0        0        0\n",
       "4                9    17        0        0        0        1"
      ]
     },
     "execution_count": 28,
     "metadata": {},
     "output_type": "execute_result"
    }
   ],
   "source": [
    "data_bound_encoded = pd.get_dummies(data, columns=[\"bound\"])\n",
    "data_bound_encoded .head()"
   ]
  },
  {
   "cell_type": "code",
   "execution_count": null,
   "metadata": {},
   "outputs": [],
   "source": []
  },
  {
   "cell_type": "code",
   "execution_count": 29,
   "metadata": {},
   "outputs": [
    {
     "name": "stdout",
     "output_type": "stream",
     "text": [
      "(13517, 6) (13517, 1)\n"
     ]
    }
   ],
   "source": [
    "X = data_bound_encoded \n",
    "print(X.shape, y.shape)"
   ]
  },
  {
   "cell_type": "code",
   "execution_count": 30,
   "metadata": {},
   "outputs": [
    {
     "name": "stdout",
     "output_type": "stream",
     "text": [
      "(10137, 6) (10137, 1)\n"
     ]
    }
   ],
   "source": [
    "from sklearn.model_selection import train_test_split\n",
    "X_train, X_test, y_train, y_test = train_test_split(X, y, random_state=42)\n",
    "\n",
    "print(X_train.shape, y_train.shape)"
   ]
  },
  {
   "cell_type": "markdown",
   "metadata": {},
   "source": [
    "StandardScaler"
   ]
  },
  {
   "cell_type": "code",
   "execution_count": 31,
   "metadata": {},
   "outputs": [],
   "source": [
    "from sklearn.preprocessing import StandardScaler\n",
    "\n",
    "# Create a StandardScater model and fit it to the training data\n",
    "\n",
    "### BEGIN SOLUTION\n",
    "X_scaler = StandardScaler().fit(X_train)\n",
    "y_scaler = StandardScaler().fit(y_train)\n",
    "### END SOLUTION"
   ]
  },
  {
   "cell_type": "code",
   "execution_count": 32,
   "metadata": {},
   "outputs": [],
   "source": [
    "# Transform the training and testing data using the X_scaler and y_scaler models\n",
    "\n",
    "### BEGIN SOLUTION\n",
    "X_train_scaled = X_scaler.transform(X_train)\n",
    "X_test_scaled = X_scaler.transform(X_test)\n",
    "y_train_scaled = y_scaler.transform(y_train)\n",
    "y_test_scaled = y_scaler.transform(y_test)\n",
    "### END SOLUTION"
   ]
  },
  {
   "cell_type": "code",
   "execution_count": 33,
   "metadata": {},
   "outputs": [
    {
     "name": "stdout",
     "output_type": "stream",
     "text": [
      "Training Score: 0.005584660108162831\n",
      "Testing Score: 0.005905193543750742\n"
     ]
    }
   ],
   "source": [
    "#--> FOR SCALED!!\n",
    "\n",
    "# Create a LinearRegression model and fit it to the scaled training data\n",
    "\n",
    "### BEGIN SOLUTION\n",
    "from sklearn.linear_model import LinearRegression\n",
    "model = LinearRegression()\n",
    "model.fit(X_train_scaled, y_train_scaled)\n",
    "### END SOLUTION\n",
    "training_score = model.score(X_train_scaled, y_train_scaled)\n",
    "testing_score = model.score(X_test_scaled, y_test_scaled)\n",
    "\n",
    "### END SOLUTION \n",
    "\n",
    "print(f\"Training Score: {training_score}\")\n",
    "print(f\"Testing Score: {testing_score}\")"
   ]
  },
  {
   "cell_type": "code",
   "execution_count": 35,
   "metadata": {},
   "outputs": [
    {
     "data": {
      "image/png": "[encoded data removed]",
      "text/plain": [
       "<Figure size 432x288 with 1 Axes>"
      ]
     },
     "metadata": {
      "needs_background": "light"
     },
     "output_type": "display_data"
    }
   ],
   "source": [
    "# Make predictions using the X_test_scaled data\n",
    "# Plot y_test_scaled vs y_test_scaled\n",
    "# Scatter plot y_test_scaled vs predictions\n",
    "\n",
    "### BEGIN SOLUTION\n",
    "predictions = model.predict(X_test_scaled)\n",
    "model.fit(X_train_scaled, y_train_scaled)\n",
    "plt.scatter(model.predict(X_train_scaled), model.predict(X_train_scaled) - y_train_scaled, c=\"blue\", label=\"Training Data\")\n",
    "plt.scatter(model.predict(X_test_scaled), model.predict(X_test_scaled) - y_test_scaled, c=\"orange\", label=\"Testing Data\")\n",
    "plt.legend()\n",
    "plt.hlines(y=0, xmin=y_test_scaled.min(), xmax=y_test_scaled.max())\n",
    "plt.title(\"Residual Plot\")\n",
    "plt.show()\n",
    "### END SOLUTION"
   ]
  }
 ],
 "metadata": {
  "celltoolbar": "Create Assignment",
  "kernelspec": {
   "display_name": "Python 3",
   "language": "python",
   "name": "python3"
  },
  "language_info": {
   "codemirror_mode": {
    "name": "ipython",
    "version": 3
   },
   "file_extension": ".py",
   "mimetype": "text/x-python",
   "name": "python",
   "nbconvert_exporter": "python",
   "pygments_lexer": "ipython3",
   "version": "3.7.3"
  },
  "varInspector": {
   "cols": {
    "lenName": 16,
    "lenType": 16,
    "lenVar": 40
   },
   "kernels_config": {
    "python": {
     "delete_cmd_postfix": "",
     "delete_cmd_prefix": "del ",
     "library": "var_list.py",
     "varRefreshCmd": "print(var_dic_list())"
    },
    "r": {
     "delete_cmd_postfix": ") ",
     "delete_cmd_prefix": "rm(",
     "library": "var_list.r",
     "varRefreshCmd": "cat(var_dic_list()) "
    }
   },
   "types_to_exclude": [
    "module",
    "function",
    "builtin_function_or_method",
    "instance",
    "_Feature"
   ],
   "window_display": false
  }
 },
 "nbformat": 4,
 "nbformat_minor": 2
}
