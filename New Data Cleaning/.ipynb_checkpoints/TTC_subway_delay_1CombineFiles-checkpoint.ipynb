{
 "cells": [
  {
   "cell_type": "code",
   "execution_count": 9,
   "metadata": {},
   "outputs": [],
   "source": [
    "import pandas as pd\n",
    "import numpy as np"
   ]
  },
  {
   "cell_type": "code",
   "execution_count": 10,
   "metadata": {},
   "outputs": [
    {
     "data": {
      "text/plain": [
       "1871"
      ]
     },
     "execution_count": 10,
     "metadata": {},
     "output_type": "execute_result"
    }
   ],
   "source": [
    "dfjan19 = pd.read_excel('Data/2019/ttc-subway-delay-january-2019.xlsx')\n",
    "len(dfjan19)"
   ]
  },
  {
   "cell_type": "code",
   "execution_count": 11,
   "metadata": {},
   "outputs": [
    {
     "data": {
      "text/plain": [
       "1598"
      ]
     },
     "execution_count": 11,
     "metadata": {},
     "output_type": "execute_result"
    }
   ],
   "source": [
    "dffeb19 = pd.read_excel('Data/2019/ttc-subway-delay-february-2019.xlsx')\n",
    "len(dffeb19)"
   ]
  },
  {
   "cell_type": "code",
   "execution_count": 12,
   "metadata": {},
   "outputs": [
    {
     "data": {
      "text/html": [
       "<div>\n",
       "<style scoped>\n",
       "    .dataframe tbody tr th:only-of-type {\n",
       "        vertical-align: middle;\n",
       "    }\n",
       "\n",
       "    .dataframe tbody tr th {\n",
       "        vertical-align: top;\n",
       "    }\n",
       "\n",
       "    .dataframe thead th {\n",
       "        text-align: right;\n",
       "    }\n",
       "</style>\n",
       "<table border=\"1\" class=\"dataframe\">\n",
       "  <thead>\n",
       "    <tr style=\"text-align: right;\">\n",
       "      <th></th>\n",
       "      <th>Date</th>\n",
       "      <th>Time</th>\n",
       "      <th>Day</th>\n",
       "      <th>Station</th>\n",
       "      <th>Code</th>\n",
       "      <th>Min Delay</th>\n",
       "      <th>Min Gap</th>\n",
       "      <th>Bound</th>\n",
       "      <th>Line</th>\n",
       "      <th>Vehicle</th>\n",
       "    </tr>\n",
       "  </thead>\n",
       "  <tbody>\n",
       "    <tr>\n",
       "      <th>0</th>\n",
       "      <td>2019-03-01</td>\n",
       "      <td>00:04</td>\n",
       "      <td>Friday</td>\n",
       "      <td>WILSON STATION</td>\n",
       "      <td>SUDP</td>\n",
       "      <td>0</td>\n",
       "      <td>0</td>\n",
       "      <td>NaN</td>\n",
       "      <td>YU</td>\n",
       "      <td>0</td>\n",
       "    </tr>\n",
       "    <tr>\n",
       "      <th>1</th>\n",
       "      <td>2019-03-01</td>\n",
       "      <td>00:19</td>\n",
       "      <td>Friday</td>\n",
       "      <td>DUPONT STATION</td>\n",
       "      <td>MUSC</td>\n",
       "      <td>0</td>\n",
       "      <td>0</td>\n",
       "      <td>S</td>\n",
       "      <td>YU</td>\n",
       "      <td>5826</td>\n",
       "    </tr>\n",
       "    <tr>\n",
       "      <th>2</th>\n",
       "      <td>2019-03-01</td>\n",
       "      <td>00:22</td>\n",
       "      <td>Friday</td>\n",
       "      <td>ISLINGTON STATION</td>\n",
       "      <td>SUO</td>\n",
       "      <td>4</td>\n",
       "      <td>9</td>\n",
       "      <td>W</td>\n",
       "      <td>BD</td>\n",
       "      <td>5241</td>\n",
       "    </tr>\n",
       "    <tr>\n",
       "      <th>3</th>\n",
       "      <td>2019-03-01</td>\n",
       "      <td>00:43</td>\n",
       "      <td>Friday</td>\n",
       "      <td>SHERBOURNE STATION</td>\n",
       "      <td>MUSC</td>\n",
       "      <td>0</td>\n",
       "      <td>0</td>\n",
       "      <td>E</td>\n",
       "      <td>BD</td>\n",
       "      <td>5291</td>\n",
       "    </tr>\n",
       "    <tr>\n",
       "      <th>4</th>\n",
       "      <td>2019-03-01</td>\n",
       "      <td>00:59</td>\n",
       "      <td>Friday</td>\n",
       "      <td>KENNEDY BD STATION</td>\n",
       "      <td>MUIS</td>\n",
       "      <td>0</td>\n",
       "      <td>0</td>\n",
       "      <td>NaN</td>\n",
       "      <td>BD</td>\n",
       "      <td>0</td>\n",
       "    </tr>\n",
       "  </tbody>\n",
       "</table>\n",
       "</div>"
      ],
      "text/plain": [
       "        Date   Time     Day             Station  Code  Min Delay  Min Gap  \\\n",
       "0 2019-03-01  00:04  Friday      WILSON STATION  SUDP          0        0   \n",
       "1 2019-03-01  00:19  Friday      DUPONT STATION  MUSC          0        0   \n",
       "2 2019-03-01  00:22  Friday   ISLINGTON STATION   SUO          4        9   \n",
       "3 2019-03-01  00:43  Friday  SHERBOURNE STATION  MUSC          0        0   \n",
       "4 2019-03-01  00:59  Friday  KENNEDY BD STATION  MUIS          0        0   \n",
       "\n",
       "  Bound Line  Vehicle  \n",
       "0   NaN   YU        0  \n",
       "1     S   YU     5826  \n",
       "2     W   BD     5241  \n",
       "3     E   BD     5291  \n",
       "4   NaN   BD        0  "
      ]
     },
     "execution_count": 12,
     "metadata": {},
     "output_type": "execute_result"
    }
   ],
   "source": [
    "dfmar19 = pd.read_excel('Data/2019/ttc-subway-delay-march-2019.xlsx')\n",
    "dfmar19.head()"
   ]
  },
  {
   "cell_type": "code",
   "execution_count": 13,
   "metadata": {},
   "outputs": [],
   "source": [
    "dfapr19 = pd.read_excel('Data/2019/ttc-subway-delay-april-2019.xlsx')\n",
    "dfmay19 = pd.read_excel('Data/2019/ttc-subway-delay-may-2019.xlsx')"
   ]
  },
  {
   "cell_type": "code",
   "execution_count": 14,
   "metadata": {},
   "outputs": [],
   "source": [
    "dfjun19 = pd.read_excel('Data/2019/ttc-subway-delay-june-2019.xlsx')\n",
    "dfjul19 = pd.read_excel('Data/2019/subway-srt-logs-july-2019.xlsx')"
   ]
  },
  {
   "cell_type": "code",
   "execution_count": 15,
   "metadata": {},
   "outputs": [],
   "source": [
    "dfaug19 = pd.read_excel('Data/2019/subway-srt-logs-august-2019.xlsx')\n",
    "dfsep19 = pd.read_excel('Data/2019/subway-srt-logs-september-2019.xlsx')\n",
    "dfoct19 = pd.read_excel('Data/2019/subway-srt-logs-october-2019.xlsx')\n",
    "dfnov19 = pd.read_excel('Data/2019/subway-srt-logs-november-2019.xlsx')\n",
    "dfdec19 = pd.read_excel('Data/2019/subway-srt-logs-december-2019.xlsx')"
   ]
  },
  {
   "cell_type": "code",
   "execution_count": 16,
   "metadata": {},
   "outputs": [
    {
     "data": {
      "text/plain": [
       "6522"
      ]
     },
     "execution_count": 16,
     "metadata": {},
     "output_type": "execute_result"
    }
   ],
   "source": [
    "dfjanfeb19 = dfjan19.append(dffeb19)\n",
    "dfjanmar19 = dfjanfeb19.append(dfmar19)\n",
    "dfjanapr19 = dfjanmar19.append(dfapr19)\n",
    "len(dfjanapr19)"
   ]
  },
  {
   "cell_type": "code",
   "execution_count": 17,
   "metadata": {},
   "outputs": [],
   "source": [
    "dfjanmay19 = dfjanapr19.append(dfmay19)"
   ]
  },
  {
   "cell_type": "code",
   "execution_count": 18,
   "metadata": {},
   "outputs": [],
   "source": [
    "dfjanjun19 = dfjanmay19.append(dfjun19)\n",
    "dfjanjul19 = dfjanjun19.append(dfjul19)\n",
    "dfjanaug19 = dfjanjul19.append(dfaug19)\n",
    "dfjansep19 = dfjanaug19.append(dfsep19)"
   ]
  },
  {
   "cell_type": "code",
   "execution_count": 19,
   "metadata": {},
   "outputs": [],
   "source": [
    "dfjanoct19 = dfjansep19.append(dfoct19)\n",
    "dfjannov19 = dfjanoct19.append(dfnov19)\n",
    "dfjandec19 = dfjannov19.append(dfdec19)"
   ]
  },
  {
   "cell_type": "code",
   "execution_count": 20,
   "metadata": {},
   "outputs": [
    {
     "data": {
      "text/plain": [
       "19222"
      ]
     },
     "execution_count": 20,
     "metadata": {},
     "output_type": "execute_result"
    }
   ],
   "source": [
    "len(dfjandec19)"
   ]
  },
  {
   "cell_type": "code",
   "execution_count": 21,
   "metadata": {},
   "outputs": [
    {
     "data": {
      "text/html": [
       "<div>\n",
       "<style scoped>\n",
       "    .dataframe tbody tr th:only-of-type {\n",
       "        vertical-align: middle;\n",
       "    }\n",
       "\n",
       "    .dataframe tbody tr th {\n",
       "        vertical-align: top;\n",
       "    }\n",
       "\n",
       "    .dataframe thead th {\n",
       "        text-align: right;\n",
       "    }\n",
       "</style>\n",
       "<table border=\"1\" class=\"dataframe\">\n",
       "  <thead>\n",
       "    <tr style=\"text-align: right;\">\n",
       "      <th></th>\n",
       "      <th>Date</th>\n",
       "      <th>Time</th>\n",
       "      <th>Day</th>\n",
       "      <th>Station</th>\n",
       "      <th>Code</th>\n",
       "      <th>Min Delay</th>\n",
       "      <th>Min Gap</th>\n",
       "      <th>Bound</th>\n",
       "      <th>Line</th>\n",
       "      <th>Vehicle</th>\n",
       "    </tr>\n",
       "  </thead>\n",
       "  <tbody>\n",
       "    <tr>\n",
       "      <th>0</th>\n",
       "      <td>2019-01-01</td>\n",
       "      <td>01:08</td>\n",
       "      <td>Tuesday</td>\n",
       "      <td>YORK MILLS STATION</td>\n",
       "      <td>PUSI</td>\n",
       "      <td>0</td>\n",
       "      <td>0</td>\n",
       "      <td>S</td>\n",
       "      <td>YU</td>\n",
       "      <td>5766</td>\n",
       "    </tr>\n",
       "    <tr>\n",
       "      <th>1</th>\n",
       "      <td>2019-01-01</td>\n",
       "      <td>02:14</td>\n",
       "      <td>Tuesday</td>\n",
       "      <td>ST ANDREW STATION</td>\n",
       "      <td>PUMST</td>\n",
       "      <td>0</td>\n",
       "      <td>0</td>\n",
       "      <td>NaN</td>\n",
       "      <td>YU</td>\n",
       "      <td>0</td>\n",
       "    </tr>\n",
       "    <tr>\n",
       "      <th>2</th>\n",
       "      <td>2019-01-01</td>\n",
       "      <td>02:16</td>\n",
       "      <td>Tuesday</td>\n",
       "      <td>JANE STATION</td>\n",
       "      <td>TUSC</td>\n",
       "      <td>0</td>\n",
       "      <td>0</td>\n",
       "      <td>W</td>\n",
       "      <td>BD</td>\n",
       "      <td>5117</td>\n",
       "    </tr>\n",
       "    <tr>\n",
       "      <th>3</th>\n",
       "      <td>2019-01-01</td>\n",
       "      <td>02:27</td>\n",
       "      <td>Tuesday</td>\n",
       "      <td>BLOOR STATION</td>\n",
       "      <td>SUO</td>\n",
       "      <td>0</td>\n",
       "      <td>0</td>\n",
       "      <td>N</td>\n",
       "      <td>YU</td>\n",
       "      <td>5436</td>\n",
       "    </tr>\n",
       "    <tr>\n",
       "      <th>4</th>\n",
       "      <td>2019-01-01</td>\n",
       "      <td>03:03</td>\n",
       "      <td>Tuesday</td>\n",
       "      <td>DUPONT STATION</td>\n",
       "      <td>MUATC</td>\n",
       "      <td>11</td>\n",
       "      <td>16</td>\n",
       "      <td>N</td>\n",
       "      <td>YU</td>\n",
       "      <td>6061</td>\n",
       "    </tr>\n",
       "  </tbody>\n",
       "</table>\n",
       "</div>"
      ],
      "text/plain": [
       "        Date   Time      Day             Station   Code  Min Delay  Min Gap  \\\n",
       "0 2019-01-01  01:08  Tuesday  YORK MILLS STATION   PUSI          0        0   \n",
       "1 2019-01-01  02:14  Tuesday   ST ANDREW STATION  PUMST          0        0   \n",
       "2 2019-01-01  02:16  Tuesday        JANE STATION   TUSC          0        0   \n",
       "3 2019-01-01  02:27  Tuesday       BLOOR STATION    SUO          0        0   \n",
       "4 2019-01-01  03:03  Tuesday      DUPONT STATION  MUATC         11       16   \n",
       "\n",
       "  Bound Line  Vehicle  \n",
       "0     S   YU     5766  \n",
       "1   NaN   YU        0  \n",
       "2     W   BD     5117  \n",
       "3     N   YU     5436  \n",
       "4     N   YU     6061  "
      ]
     },
     "execution_count": 21,
     "metadata": {},
     "output_type": "execute_result"
    }
   ],
   "source": [
    "dfjandec19.head()"
   ]
  },
  {
   "cell_type": "code",
   "execution_count": 22,
   "metadata": {},
   "outputs": [],
   "source": [
    "dfjan18 = pd.read_excel('Data/2018/ttc-subway-delay-january-2018.xlsx')\n",
    "dffeb18 = pd.read_excel('Data/2018/ttc-subway-delay-february-2018.xlsx')\n",
    "dfmar18 = pd.read_excel('Data/2018/ttc-subway-delay-march-2018.xlsx')\n",
    "dfapr18 = pd.read_excel('Data/2018/ttc-subway-delay-april-2018.xlsx')\n",
    "dfmay18 = pd.read_excel('Data/2018/ttc-subway-delay-may-2018.xlsx')\n",
    "dfjun18 = pd.read_excel('Data/2018/ttc-subway-delay-june-2018.xlsx')"
   ]
  },
  {
   "cell_type": "code",
   "execution_count": 23,
   "metadata": {},
   "outputs": [],
   "source": [
    "dfjul18 = pd.read_excel('Data/2018/ttc-subway-delay-july-2018.xlsx')\n",
    "dfaug18 = pd.read_excel('Data/2018/ttc-subway-delay-august-2018.xlsx')\n",
    "dfsep18 = pd.read_excel('Data/2018/ttc-subway-delay-september-2018.xlsx')\n",
    "dfoct18 = pd.read_excel('Data/2018/ttc-subway-delay-october-2018.xlsx')\n",
    "dfnov18 = pd.read_excel('Data/2018/ttc-subway-delay-november-2018.xlsx')\n",
    "dfdec18 = pd.read_excel('Data/2018/ttc-subway-delay-december-2018.xlsx')"
   ]
  },
  {
   "cell_type": "code",
   "execution_count": 24,
   "metadata": {},
   "outputs": [
    {
     "data": {
      "text/plain": [
       "4964"
      ]
     },
     "execution_count": 24,
     "metadata": {},
     "output_type": "execute_result"
    }
   ],
   "source": [
    "dfjanmar18 = dfjan18.append(dffeb18).append(dfmar18)\n",
    "len(dfjanmar18)"
   ]
  },
  {
   "cell_type": "code",
   "execution_count": 25,
   "metadata": {},
   "outputs": [
    {
     "data": {
      "text/plain": [
       "12001"
      ]
     },
     "execution_count": 25,
     "metadata": {},
     "output_type": "execute_result"
    }
   ],
   "source": [
    "dfjanjul18 = dfjanmar18.append(dfapr18).append(dfmay18).append(dfjun18).append(dfjul18)\n",
    "len(dfjanjul18)"
   ]
  },
  {
   "cell_type": "code",
   "execution_count": 26,
   "metadata": {},
   "outputs": [],
   "source": [
    "dfjandec18 = dfjanjul18.append(dfaug18).append(dfsep18).append(dfoct18).append(dfnov18).append(dfdec18)"
   ]
  },
  {
   "cell_type": "code",
   "execution_count": 27,
   "metadata": {},
   "outputs": [
    {
     "data": {
      "text/plain": [
       "20737"
      ]
     },
     "execution_count": 27,
     "metadata": {},
     "output_type": "execute_result"
    }
   ],
   "source": [
    "len(dfjandec18)"
   ]
  },
  {
   "cell_type": "code",
   "execution_count": 28,
   "metadata": {},
   "outputs": [
    {
     "data": {
      "text/plain": [
       "39959"
      ]
     },
     "execution_count": 28,
     "metadata": {},
     "output_type": "execute_result"
    }
   ],
   "source": [
    "df1819 = dfjandec19.append(dfjandec18)\n",
    "len(df1819)"
   ]
  },
  {
   "cell_type": "code",
   "execution_count": 29,
   "metadata": {},
   "outputs": [
    {
     "data": {
      "text/html": [
       "<div>\n",
       "<style scoped>\n",
       "    .dataframe tbody tr th:only-of-type {\n",
       "        vertical-align: middle;\n",
       "    }\n",
       "\n",
       "    .dataframe tbody tr th {\n",
       "        vertical-align: top;\n",
       "    }\n",
       "\n",
       "    .dataframe thead th {\n",
       "        text-align: right;\n",
       "    }\n",
       "</style>\n",
       "<table border=\"1\" class=\"dataframe\">\n",
       "  <thead>\n",
       "    <tr style=\"text-align: right;\">\n",
       "      <th></th>\n",
       "      <th>Date</th>\n",
       "      <th>Time</th>\n",
       "      <th>Day</th>\n",
       "      <th>Station</th>\n",
       "      <th>Code</th>\n",
       "      <th>Min Delay</th>\n",
       "      <th>Min Gap</th>\n",
       "      <th>Bound</th>\n",
       "      <th>Line</th>\n",
       "      <th>Vehicle</th>\n",
       "    </tr>\n",
       "  </thead>\n",
       "  <tbody>\n",
       "    <tr>\n",
       "      <th>0</th>\n",
       "      <td>2019-01-01</td>\n",
       "      <td>01:08</td>\n",
       "      <td>Tuesday</td>\n",
       "      <td>YORK MILLS STATION</td>\n",
       "      <td>PUSI</td>\n",
       "      <td>0</td>\n",
       "      <td>0</td>\n",
       "      <td>S</td>\n",
       "      <td>YU</td>\n",
       "      <td>5766</td>\n",
       "    </tr>\n",
       "    <tr>\n",
       "      <th>1</th>\n",
       "      <td>2019-01-01</td>\n",
       "      <td>02:14</td>\n",
       "      <td>Tuesday</td>\n",
       "      <td>ST ANDREW STATION</td>\n",
       "      <td>PUMST</td>\n",
       "      <td>0</td>\n",
       "      <td>0</td>\n",
       "      <td>NaN</td>\n",
       "      <td>YU</td>\n",
       "      <td>0</td>\n",
       "    </tr>\n",
       "    <tr>\n",
       "      <th>2</th>\n",
       "      <td>2019-01-01</td>\n",
       "      <td>02:16</td>\n",
       "      <td>Tuesday</td>\n",
       "      <td>JANE STATION</td>\n",
       "      <td>TUSC</td>\n",
       "      <td>0</td>\n",
       "      <td>0</td>\n",
       "      <td>W</td>\n",
       "      <td>BD</td>\n",
       "      <td>5117</td>\n",
       "    </tr>\n",
       "    <tr>\n",
       "      <th>3</th>\n",
       "      <td>2019-01-01</td>\n",
       "      <td>02:27</td>\n",
       "      <td>Tuesday</td>\n",
       "      <td>BLOOR STATION</td>\n",
       "      <td>SUO</td>\n",
       "      <td>0</td>\n",
       "      <td>0</td>\n",
       "      <td>N</td>\n",
       "      <td>YU</td>\n",
       "      <td>5436</td>\n",
       "    </tr>\n",
       "    <tr>\n",
       "      <th>4</th>\n",
       "      <td>2019-01-01</td>\n",
       "      <td>03:03</td>\n",
       "      <td>Tuesday</td>\n",
       "      <td>DUPONT STATION</td>\n",
       "      <td>MUATC</td>\n",
       "      <td>11</td>\n",
       "      <td>16</td>\n",
       "      <td>N</td>\n",
       "      <td>YU</td>\n",
       "      <td>6061</td>\n",
       "    </tr>\n",
       "  </tbody>\n",
       "</table>\n",
       "</div>"
      ],
      "text/plain": [
       "        Date   Time      Day             Station   Code  Min Delay  Min Gap  \\\n",
       "0 2019-01-01  01:08  Tuesday  YORK MILLS STATION   PUSI          0        0   \n",
       "1 2019-01-01  02:14  Tuesday   ST ANDREW STATION  PUMST          0        0   \n",
       "2 2019-01-01  02:16  Tuesday        JANE STATION   TUSC          0        0   \n",
       "3 2019-01-01  02:27  Tuesday       BLOOR STATION    SUO          0        0   \n",
       "4 2019-01-01  03:03  Tuesday      DUPONT STATION  MUATC         11       16   \n",
       "\n",
       "  Bound Line  Vehicle  \n",
       "0     S   YU     5766  \n",
       "1   NaN   YU        0  \n",
       "2     W   BD     5117  \n",
       "3     N   YU     5436  \n",
       "4     N   YU     6061  "
      ]
     },
     "execution_count": 29,
     "metadata": {},
     "output_type": "execute_result"
    }
   ],
   "source": [
    "df1819.head()"
   ]
  },
  {
   "cell_type": "code",
   "execution_count": 30,
   "metadata": {},
   "outputs": [],
   "source": [
    "df1819 = df1819.rename(columns={\"Date\": \"date\", \"Time\": \"time\",\"Day\":\"day\",\"Station\":\"station\",\"Code\":\"code\",\"Min Delay\":\"min_delay\",\"Min Gap\":\"min_gap\",\"Bound\":\"bound\",\"Line\":\"line\",\"Vehicle\":\"vehicle\"})"
   ]
  },
  {
   "cell_type": "code",
   "execution_count": 31,
   "metadata": {},
   "outputs": [
    {
     "data": {
      "text/plain": [
       "Index(['date', 'time', 'day', 'station', 'code', 'min_delay', 'min_gap',\n",
       "       'bound', 'line', 'vehicle'],\n",
       "      dtype='object')"
      ]
     },
     "execution_count": 31,
     "metadata": {},
     "output_type": "execute_result"
    }
   ],
   "source": [
    "df1819.columns"
   ]
  },
  {
   "cell_type": "code",
   "execution_count": 32,
   "metadata": {},
   "outputs": [],
   "source": [
    "df1819.to_csv('Data20182019_Raw.csv', index=False)"
   ]
  },
  {
   "cell_type": "code",
   "execution_count": 33,
   "metadata": {},
   "outputs": [
    {
     "data": {
      "text/plain": [
       "13963"
      ]
     },
     "execution_count": 33,
     "metadata": {},
     "output_type": "execute_result"
    }
   ],
   "source": [
    "df1819_nozero = df1819.loc[df1819[\"min_delay\"] != 0]\n",
    "len(df1819_nozero)"
   ]
  },
  {
   "cell_type": "code",
   "execution_count": 34,
   "metadata": {},
   "outputs": [],
   "source": [
    "df1819_nozero.to_csv('Data20182019_NoZero.csv', index=False)"
   ]
  },
  {
   "cell_type": "code",
   "execution_count": 35,
   "metadata": {},
   "outputs": [
    {
     "data": {
      "text/plain": [
       "date         datetime64[ns]\n",
       "time                 object\n",
       "day                  object\n",
       "station              object\n",
       "code                 object\n",
       "min_delay             int64\n",
       "min_gap               int64\n",
       "bound                object\n",
       "line                 object\n",
       "vehicle               int64\n",
       "dtype: object"
      ]
     },
     "execution_count": 35,
     "metadata": {},
     "output_type": "execute_result"
    }
   ],
   "source": [
    "df1819_nozero.dtypes"
   ]
  },
  {
   "cell_type": "code",
   "execution_count": 36,
   "metadata": {},
   "outputs": [
    {
     "data": {
      "text/plain": [
       "array(['DUPONT STATION', 'EGLINTON WEST STATION', 'ST CLAIR WEST STATION',\n",
       "       'DAVISVILLE STATION', 'KEELE STATION', 'DONLANDS STATION',\n",
       "       'KIPLING STATION', 'KENNEDY BD STATION', 'GREENWOOD STATION',\n",
       "       'SHEPPARD WEST STATION', 'FINCH STATION', 'GLENCAIRN STATION',\n",
       "       'BATHURST STATION', 'COXWELL STATION', 'WARDEN STATION',\n",
       "       'CHRISTIE STATION', 'WILSON YARD', 'WILSON STATION',\n",
       "       'CASTLE FRANK STATION', 'DUNDAS STATION', 'YORK MILLS STATION',\n",
       "       'SCARB CTR STATION', 'ROSEDALE STATION', 'BESSARION STATION',\n",
       "       'SPADINA YUS STATION', 'ISLINGTON STATION', 'MUSEUM STATION',\n",
       "       'YONGE BD STATION', \"QUEEN'S PARK STATION\", 'LAWRENCE STATION',\n",
       "       'ELLESMERE STATION', 'ST GEORGE YUS STATION',\n",
       "       'ST GEORGE BD STATION', 'CHESTER STATION', 'UNION STATION',\n",
       "       'OLD MILL STATION', 'BLOOR STATION', 'SPADINA BD STATION',\n",
       "       'PAPE STATION', 'YORKDALE STATION', 'QUEEN STATION',\n",
       "       'SHEPPARD STATION', 'NORTH YORK CTR STATION',\n",
       "       'VICTORIA PARK STATION', 'HIGH PARK STATION', 'WELLESLEY STATION',\n",
       "       'EGLINTON STATION', 'VAUGHAN MC STATION', 'ROYAL YORK STATION',\n",
       "       'DUNDAS WEST STATION', 'LAWRENCE WEST STATION', 'WOODBINE STATION',\n",
       "       'OSSINGTON STATION', 'SHERBOURNE STATION', 'KING STATION',\n",
       "       'MCCOWAN STATION', 'SUMMERHILL STATION', 'DON MILLS STATION',\n",
       "       'BAY STATION', 'ST CLAIR STATION', 'DOWNSVIEW PARK STATION',\n",
       "       'COLLEGE STATION', 'KENNEDY SRT STATION', 'YORK UNIVERSITY STATIO',\n",
       "       'YONGE SHP STATION', 'OSGOODE STATION', 'DUFFERIN STATION',\n",
       "       'RUNNYMEDE STATION', 'LANSDOWNE STATION', 'WILSON HOSTLER',\n",
       "       'LAWRENCE EAST STATION', 'JANE STATION', 'ST PATRICK STATION',\n",
       "       'BROADVIEW STATION', 'HIGHWAY 407 STATION', 'ST ANDREW STATION',\n",
       "       'MAIN STREET STATION', 'BLOOR DANFORTH SUBWAY', 'LESLIE STATION',\n",
       "       'MIDLAND STATION', 'FINCH WEST STATION', 'SRT LINE',\n",
       "       'GREENWOOD PORTAL', 'DAVISVILLE BUILD UP', 'KEELE YARD',\n",
       "       'DAVISVILLE BUILD-UP', 'KIPLING TO KENNEDY', 'BAYVIEW STATION',\n",
       "       'GREENWOOD YARD', 'PIONEER VILLAGE STATIO',\n",
       "       'SCARBOROUGH RAPID TRAN', 'BATHUSRT STATION',\n",
       "       'YORK MILLS CENTRE TRAC', 'DAVISVILLE YARD', 'BROADVIEW TO YONGE',\n",
       "       'UNION STATION TO KING', 'SHEPPARD WEST TO DOWNS',\n",
       "       'YONGE BD STATION (LEAV', 'SCARBOROUGH CTR STATIO',\n",
       "       'DUPONT MIGRATION POINT', 'SHEPPARD-YONGE STATION',\n",
       "       'UNION TO KING', 'FINCH STATION TO DUPON',\n",
       "       'UNION STATION (TO KING', 'SYSTEMWIDE', 'BLOOR VIA DUCT',\n",
       "       'WARDEN TO VICTORIA PAR', 'UNION TO ST ANDREW',\n",
       "       'KIPLING TO HIGH PARK', 'KIPLING TO KENNEDY STN',\n",
       "       'KIPLING TO COXWELL', 'YORKDALE TO FINCH STAT',\n",
       "       'UNION STATION TO ST AN', 'WILSON TO SHEPPARD WES',\n",
       "       'UNION TO FINCH', 'S/O EGLINTON TO ST CLA',\n",
       "       \"QUEEN'S PARK TO ST CLA\", 'KENNEDY TO KIPLING STA',\n",
       "       'KENNEDY TO KIPLING', 'DAVISVILLE BUID-UP', 'MCCOWAN YARD',\n",
       "       'WILSON STATION TO YORK', 'BLOOR SATION', 'DAVISVILLE HOSTLER',\n",
       "       'WILSON STATION- HOSTLE', 'BROADVIEW TO KIPLING S',\n",
       "       'UNION TO KING STATION', 'E13', 'UNION STATION (TO ST A',\n",
       "       'YONGE STATION', 'KING TO UNION', 'KEELE TO DUNDAS WEST',\n",
       "       'UNION TO FINCH STATION', 'CHESTER TO WARDEN',\n",
       "       'YONGE TO COXWELL STATI', 'KIPLING TO KENNEDY STA',\n",
       "       'QUEENS PARK STATION', 'CHURCH EMERGENCY EXIT',\n",
       "       'WILSON YARD - NORTH HO', 'W/O CASTLE FRANK TO GR',\n",
       "       'CHESTER TO YONGE STATI', 'SCARBORUGH RAPID TRANS',\n",
       "       'WARDEN AND KENNEDY', 'UNION STATION (KING)', 'BLOOR TO ST.CLAIR',\n",
       "       'VMC STATION TO SHEPPAR', 'BLOOR TO UNION',\n",
       "       'ALLEN RD (N OF EGLINTO', 'SPADINA YUS STATION (L',\n",
       "       'FINCH TO NORTH YORK CT', 'KENNEDY TO LAWRENCE EA',\n",
       "       'FINCH TO VAUGHAN METRO', 'KIPLING STATION TO KEN',\n",
       "       'KENNEDY STATION TO KIP', 'TYSSE LINE', 'SHEPPARD WEST MIGRATI',\n",
       "       'UNION TO ST GEORGE', 'LAWRENCE EAST TO ELLES',\n",
       "       'EGLINTON WEST TO VMC', 'UNION STATION TO FINCH',\n",
       "       'LEAVING LAWRENCE EAST', 'MCCOWAN TO KENNEDY STA',\n",
       "       'DUFFERIN TO LANSDOWNE', 'WILSON TO EGLINTON',\n",
       "       'SHEPPARD WEST PORTAL', 'GREENWOOD WYE', 'TRANSIT CONTROL CENTRE',\n",
       "       'ST CLAIR WEST TO EGLIN', 'SHEPPARD WEST MIGRATIO',\n",
       "       'ST CLAIR WEST TO DUPON', 'OLD MILL TO ISLINGTON',\n",
       "       'KIPLING TO ROYAL YORK', 'SHEPPARD LINE', 'SHEPPARD WEST TO WILSO',\n",
       "       'VMC TO SHEPPARD WEST', 'ATC FAILURE', 'OSGOODE POCKET',\n",
       "       'SYSTEM WIDE', 'WILSON HOSLTER', 'SHEPPARD YONGE STATION',\n",
       "       'SPADINA STATION', 'SOUTH OF LAWRENCE SRT', 'SOUTH OF MIDLAND SRT',\n",
       "       'UNION (TO ST ANDREW)', 'BESSARIAN STATION',\n",
       "       'LAWRENCE TO EGLINTON S', 'FINCH TO UNION STATION',\n",
       "       'YONGE UNIVERSITY LINE', 'YUS/BD/SHEPPARD SUBWAY', 'ATC TERRITORY',\n",
       "       'LAWRENCE WEST TO EGLIN'], dtype=object)"
      ]
     },
     "execution_count": 36,
     "metadata": {},
     "output_type": "execute_result"
    }
   ],
   "source": [
    "df1819_nozero[\"station\"].unique()"
   ]
  }
 ],
 "metadata": {
  "kernelspec": {
   "display_name": "Python 3",
   "language": "python",
   "name": "python3"
  },
  "language_info": {
   "codemirror_mode": {
    "name": "ipython",
    "version": 3
   },
   "file_extension": ".py",
   "mimetype": "text/x-python",
   "name": "python",
   "nbconvert_exporter": "python",
   "pygments_lexer": "ipython3",
   "version": "3.7.4"
  }
 },
 "nbformat": 4,
 "nbformat_minor": 2
}
