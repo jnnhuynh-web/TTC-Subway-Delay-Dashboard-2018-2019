{
 "cells": [
  {
   "cell_type": "code",
   "execution_count": 396,
   "metadata": {},
   "outputs": [],
   "source": [
    "import pandas as pd\n",
    "import numpy as np"
   ]
  },
  {
   "cell_type": "code",
   "execution_count": 397,
   "metadata": {},
   "outputs": [
    {
     "data": {
      "text/plain": [
       "13727"
      ]
     },
     "execution_count": 397,
     "metadata": {},
     "output_type": "execute_result"
    }
   ],
   "source": [
    "df1819_midway = pd.read_csv('Data20182019_No0_CleanPart1.csv')\n",
    "len(df1819_midway)"
   ]
  },
  {
   "cell_type": "code",
   "execution_count": 398,
   "metadata": {},
   "outputs": [
    {
     "data": {
      "text/html": [
       "<div>\n",
       "<style scoped>\n",
       "    .dataframe tbody tr th:only-of-type {\n",
       "        vertical-align: middle;\n",
       "    }\n",
       "\n",
       "    .dataframe tbody tr th {\n",
       "        vertical-align: top;\n",
       "    }\n",
       "\n",
       "    .dataframe thead th {\n",
       "        text-align: right;\n",
       "    }\n",
       "</style>\n",
       "<table border=\"1\" class=\"dataframe\">\n",
       "  <thead>\n",
       "    <tr style=\"text-align: right;\">\n",
       "      <th></th>\n",
       "      <th>date</th>\n",
       "      <th>time</th>\n",
       "      <th>day</th>\n",
       "      <th>station</th>\n",
       "      <th>code</th>\n",
       "      <th>min_delay</th>\n",
       "      <th>min_gap</th>\n",
       "      <th>bound</th>\n",
       "      <th>line</th>\n",
       "      <th>vehicle</th>\n",
       "    </tr>\n",
       "  </thead>\n",
       "  <tbody>\n",
       "    <tr>\n",
       "      <th>0</th>\n",
       "      <td>2019-01-01</td>\n",
       "      <td>03:03</td>\n",
       "      <td>Tuesday</td>\n",
       "      <td>DUPONT STATION</td>\n",
       "      <td>MUATC</td>\n",
       "      <td>11</td>\n",
       "      <td>16</td>\n",
       "      <td>N</td>\n",
       "      <td>YU</td>\n",
       "      <td>6061</td>\n",
       "    </tr>\n",
       "    <tr>\n",
       "      <th>1</th>\n",
       "      <td>2019-01-01</td>\n",
       "      <td>03:08</td>\n",
       "      <td>Tuesday</td>\n",
       "      <td>EGLINTON WEST STATION</td>\n",
       "      <td>EUATC</td>\n",
       "      <td>11</td>\n",
       "      <td>16</td>\n",
       "      <td>S</td>\n",
       "      <td>YU</td>\n",
       "      <td>5656</td>\n",
       "    </tr>\n",
       "    <tr>\n",
       "      <th>2</th>\n",
       "      <td>2019-01-01</td>\n",
       "      <td>03:09</td>\n",
       "      <td>Tuesday</td>\n",
       "      <td>DUPONT STATION</td>\n",
       "      <td>EUATC</td>\n",
       "      <td>6</td>\n",
       "      <td>11</td>\n",
       "      <td>N</td>\n",
       "      <td>YU</td>\n",
       "      <td>5381</td>\n",
       "    </tr>\n",
       "    <tr>\n",
       "      <th>3</th>\n",
       "      <td>2019-01-01</td>\n",
       "      <td>03:26</td>\n",
       "      <td>Tuesday</td>\n",
       "      <td>ST CLAIR WEST STATION</td>\n",
       "      <td>EUATC</td>\n",
       "      <td>4</td>\n",
       "      <td>9</td>\n",
       "      <td>N</td>\n",
       "      <td>YU</td>\n",
       "      <td>5571</td>\n",
       "    </tr>\n",
       "    <tr>\n",
       "      <th>4</th>\n",
       "      <td>2019-01-01</td>\n",
       "      <td>08:04</td>\n",
       "      <td>Tuesday</td>\n",
       "      <td>DAVISVILLE STATION</td>\n",
       "      <td>MUNOA</td>\n",
       "      <td>5</td>\n",
       "      <td>10</td>\n",
       "      <td>S</td>\n",
       "      <td>YU</td>\n",
       "      <td>0</td>\n",
       "    </tr>\n",
       "  </tbody>\n",
       "</table>\n",
       "</div>"
      ],
      "text/plain": [
       "         date   time      day                station   code  min_delay  \\\n",
       "0  2019-01-01  03:03  Tuesday         DUPONT STATION  MUATC         11   \n",
       "1  2019-01-01  03:08  Tuesday  EGLINTON WEST STATION  EUATC         11   \n",
       "2  2019-01-01  03:09  Tuesday         DUPONT STATION  EUATC          6   \n",
       "3  2019-01-01  03:26  Tuesday  ST CLAIR WEST STATION  EUATC          4   \n",
       "4  2019-01-01  08:04  Tuesday     DAVISVILLE STATION  MUNOA          5   \n",
       "\n",
       "   min_gap bound line  vehicle  \n",
       "0       16     N   YU     6061  \n",
       "1       16     S   YU     5656  \n",
       "2       11     N   YU     5381  \n",
       "3        9     N   YU     5571  \n",
       "4       10     S   YU        0  "
      ]
     },
     "execution_count": 398,
     "metadata": {},
     "output_type": "execute_result"
    }
   ],
   "source": [
    "df1819_midway.head()"
   ]
  },
  {
   "cell_type": "markdown",
   "metadata": {},
   "source": [
    "CHANGE STATION: SHEPPARD"
   ]
  },
  {
   "cell_type": "code",
   "execution_count": 399,
   "metadata": {},
   "outputs": [
    {
     "data": {
      "text/plain": [
       "array(['SHEPPARD WEST STATION', 'SHEPPARD STATION',\n",
       "       'SHEPPARD-YONGE STATION', 'SHEPPARD YONGE STATION'], dtype=object)"
      ]
     },
     "execution_count": 399,
     "metadata": {},
     "output_type": "execute_result"
    }
   ],
   "source": [
    "df1819_no0_stations = df1819_midway[df1819_midway[\"station\"].str.contains('SHEPPARD')]\n",
    "df1819_no0_stations[\"station\"].unique()"
   ]
  },
  {
   "cell_type": "code",
   "execution_count": 400,
   "metadata": {},
   "outputs": [
    {
     "data": {
      "text/plain": [
       "array(['SHP'], dtype=object)"
      ]
     },
     "execution_count": 400,
     "metadata": {},
     "output_type": "execute_result"
    }
   ],
   "source": [
    "df1819_no0_stations = df1819_midway[df1819_midway[\"station\"].str.contains('SHEPPARD YONGE STATION')]\n",
    "df1819_no0_stations[\"line\"].unique()"
   ]
  },
  {
   "cell_type": "code",
   "execution_count": 401,
   "metadata": {},
   "outputs": [
    {
     "data": {
      "text/plain": [
       "array(['SHP'], dtype=object)"
      ]
     },
     "execution_count": 401,
     "metadata": {},
     "output_type": "execute_result"
    }
   ],
   "source": [
    "df1819_no0_stations = df1819_midway[df1819_midway[\"station\"].str.contains('SHEPPARD-YONGE STATION')]\n",
    "df1819_no0_stations[\"line\"].unique()"
   ]
  },
  {
   "cell_type": "code",
   "execution_count": 402,
   "metadata": {},
   "outputs": [
    {
     "data": {
      "text/plain": [
       "array(['SHEPPARD WEST STATION', 'SHEPPARD-YONGE YUS STATION',\n",
       "       'SHEPPARD-YONGE SHP STATION'], dtype=object)"
      ]
     },
     "execution_count": 402,
     "metadata": {},
     "output_type": "execute_result"
    }
   ],
   "source": [
    "df1819_midway[\"station\"] = df1819_midway[\"station\"].replace(\n",
    "    {'SHEPPARD YONGE STATION': 'SHEPPARD-YONGE SHP STATION','SHEPPARD-YONGE STATION': 'SHEPPARD-YONGE SHP STATION',\n",
    "    'SHEPPARD STATION': 'SHEPPARD-YONGE YUS STATION'})\n",
    "df1819_no0_stations = df1819_midway[df1819_midway[\"station\"].str.contains('SHEPPARD')]\n",
    "df1819_no0_stations[\"station\"].unique()"
   ]
  },
  {
   "cell_type": "code",
   "execution_count": 403,
   "metadata": {},
   "outputs": [
    {
     "data": {
      "text/plain": [
       "13727"
      ]
     },
     "execution_count": 403,
     "metadata": {},
     "output_type": "execute_result"
    }
   ],
   "source": [
    "len(df1819_midway)"
   ]
  },
  {
   "cell_type": "code",
   "execution_count": 404,
   "metadata": {},
   "outputs": [],
   "source": [
    "df1819_midway.to_csv('Data20182019_No0_CleanPart2.csv', index=False)"
   ]
  },
  {
   "cell_type": "markdown",
   "metadata": {},
   "source": [
    "START FROM HERE TO REFRESH DATA"
   ]
  },
  {
   "cell_type": "code",
   "execution_count": 405,
   "metadata": {},
   "outputs": [],
   "source": [
    "#df1819_midway = pd.read_csv('Data20182019_No0_CleanPart2.csv')"
   ]
  },
  {
   "cell_type": "code",
   "execution_count": 406,
   "metadata": {},
   "outputs": [
    {
     "data": {
      "text/plain": [
       "YU     159\n",
       "SHP      1\n",
       "Name: line, dtype: int64"
      ]
     },
     "execution_count": 406,
     "metadata": {},
     "output_type": "execute_result"
    }
   ],
   "source": [
    "df1819_no0_stations = df1819_midway[df1819_midway[\"station\"].str.contains('SHEPPARD-YONGE YUS')]\n",
    "df1819_no0_stations['line'].value_counts()"
   ]
  },
  {
   "cell_type": "code",
   "execution_count": 407,
   "metadata": {},
   "outputs": [],
   "source": [
    "#df1819_midway[\"new_line\"] = np.where(((df1819_midway[\"station\"]==\"COXWELL STATION\")&\n",
    "#                                     (df1819_midway[\"line\"]==\"YU\")),\"BD\",\"\")\n",
    "#df1819_no0_stations = df1819_midway[df1819_midway[\"station\"].str.contains('STATION')]\n",
    "#df1819_no0_stations['new_line'].value_counts()"
   ]
  },
  {
   "cell_type": "markdown",
   "metadata": {},
   "source": [
    "CHECKING SPADINA"
   ]
  },
  {
   "cell_type": "code",
   "execution_count": 408,
   "metadata": {},
   "outputs": [
    {
     "data": {
      "text/plain": [
       "array(['SPADINA YUS STATION', 'SPADINA BD STATION',\n",
       "       'SPADINA YUS STATION (L', 'SPADINA STATION'], dtype=object)"
      ]
     },
     "execution_count": 408,
     "metadata": {},
     "output_type": "execute_result"
    }
   ],
   "source": [
    "df1819_no0_stations = df1819_midway[df1819_midway[\"station\"].str.contains('SPADINA')]\n",
    "df1819_no0_stations[\"station\"].unique()"
   ]
  },
  {
   "cell_type": "code",
   "execution_count": 409,
   "metadata": {},
   "outputs": [
    {
     "data": {
      "text/plain": [
       "array(['SPADINA YUS STATION', 'SPADINA BD STATION', 'SPADINA STATION'],\n",
       "      dtype=object)"
      ]
     },
     "execution_count": 409,
     "metadata": {},
     "output_type": "execute_result"
    }
   ],
   "source": [
    "df1819_midway[\"station\"] = df1819_midway[\"station\"].replace(\n",
    "    {'SPADINA YUS STATION (L': 'SPADINA YUS STATION'})\n",
    "df1819_no0_stations = df1819_midway[df1819_midway[\"station\"].str.contains('SPADINA')]\n",
    "df1819_no0_stations[\"station\"].unique()"
   ]
  },
  {
   "cell_type": "code",
   "execution_count": 410,
   "metadata": {},
   "outputs": [
    {
     "data": {
      "text/plain": [
       "YU    1\n",
       "BD    1\n",
       "Name: line, dtype: int64"
      ]
     },
     "execution_count": 410,
     "metadata": {},
     "output_type": "execute_result"
    }
   ],
   "source": [
    "df1819_no0_stations = df1819_midway[df1819_midway[\"station\"].str.contains('SPADINA STATION')]\n",
    "df1819_no0_stations[\"line\"].value_counts()"
   ]
  },
  {
   "cell_type": "code",
   "execution_count": 411,
   "metadata": {},
   "outputs": [
    {
     "data": {
      "text/plain": [
       "YU    103\n",
       "BD      1\n",
       "Name: line, dtype: int64"
      ]
     },
     "execution_count": 411,
     "metadata": {},
     "output_type": "execute_result"
    }
   ],
   "source": [
    "df1819_midway[\"station\"] = df1819_midway[\"station\"].replace(\n",
    "    {'SPADINA STATION': 'SPADINA YUS STATION'})\n",
    "df1819_no0_stations = df1819_midway[df1819_midway[\"station\"].str.contains('SPADINA Y')]\n",
    "df1819_no0_stations[\"line\"].value_counts()"
   ]
  },
  {
   "cell_type": "code",
   "execution_count": 412,
   "metadata": {},
   "outputs": [
    {
     "data": {
      "text/plain": [
       "array(['BD'], dtype=object)"
      ]
     },
     "execution_count": 412,
     "metadata": {},
     "output_type": "execute_result"
    }
   ],
   "source": [
    "df1819_no0_stations = df1819_midway[df1819_midway[\"station\"].str.contains('SPADINA BD STATION')]\n",
    "df1819_no0_stations[\"line\"].unique()"
   ]
  },
  {
   "cell_type": "markdown",
   "metadata": {},
   "source": [
    "CHECKING YONGE"
   ]
  },
  {
   "cell_type": "code",
   "execution_count": 413,
   "metadata": {},
   "outputs": [
    {
     "data": {
      "text/plain": [
       "array(['YONGE BD STATION', 'SHEPPARD-YONGE YUS STATION',\n",
       "       'YONGE SHP STATION', 'YONGE BD STATION (LEAV',\n",
       "       'SHEPPARD-YONGE SHP STATION', 'YONGE STATION'], dtype=object)"
      ]
     },
     "execution_count": 413,
     "metadata": {},
     "output_type": "execute_result"
    }
   ],
   "source": [
    "df1819_no0_stations = df1819_midway[df1819_midway[\"station\"].str.contains('YONGE')]\n",
    "df1819_no0_stations[\"station\"].unique()"
   ]
  },
  {
   "cell_type": "code",
   "execution_count": 414,
   "metadata": {},
   "outputs": [
    {
     "data": {
      "text/plain": [
       "BD    1\n",
       "Name: line, dtype: int64"
      ]
     },
     "execution_count": 414,
     "metadata": {},
     "output_type": "execute_result"
    }
   ],
   "source": [
    "df1819_no0_stations = df1819_midway[df1819_midway[\"station\"].str.contains('YONGE STATION')]\n",
    "df1819_no0_stations['line'].value_counts()"
   ]
  },
  {
   "cell_type": "code",
   "execution_count": 415,
   "metadata": {},
   "outputs": [
    {
     "data": {
      "text/plain": [
       "array(['YONGE BLOOR BD STATION', 'SHEPPARD-YONGE YUS STATION',\n",
       "       'SHEPPARD-YONGE SHP STATION'], dtype=object)"
      ]
     },
     "execution_count": 415,
     "metadata": {},
     "output_type": "execute_result"
    }
   ],
   "source": [
    "df1819_midway[\"station\"] = df1819_midway[\"station\"].replace(\n",
    "    {'YONGE BD STATION': 'YONGE BLOOR BD STATION','YONGE STATION': 'YONGE BLOOR BD STATION',\n",
    "     'YONGE BD STATION (LEAV' :'YONGE BLOOR BD STATION','YONGE SHP STATION': 'SHEPPARD-YONGE SHP STATION'})\n",
    "df1819_no0_stations = df1819_midway[df1819_midway[\"station\"].str.contains('YONGE')]\n",
    "df1819_no0_stations[\"station\"].unique()"
   ]
  },
  {
   "cell_type": "code",
   "execution_count": 416,
   "metadata": {},
   "outputs": [
    {
     "data": {
      "text/plain": [
       "BD    276\n",
       "YU      1\n",
       "Name: line, dtype: int64"
      ]
     },
     "execution_count": 416,
     "metadata": {},
     "output_type": "execute_result"
    }
   ],
   "source": [
    "df1819_no0_stations = df1819_midway[df1819_midway[\"station\"].str.contains('YONGE BLOOR BD STATION')]\n",
    "df1819_no0_stations['line'].value_counts()"
   ]
  },
  {
   "cell_type": "code",
   "execution_count": 417,
   "metadata": {},
   "outputs": [
    {
     "data": {
      "text/plain": [
       "YU    334\n",
       "Name: line, dtype: int64"
      ]
     },
     "execution_count": 417,
     "metadata": {},
     "output_type": "execute_result"
    }
   ],
   "source": [
    "df1819_no0_stations = df1819_midway[df1819_midway[\"station\"].str.contains('BLOOR S')]\n",
    "df1819_no0_stations['line'].value_counts()"
   ]
  },
  {
   "cell_type": "code",
   "execution_count": 418,
   "metadata": {},
   "outputs": [
    {
     "data": {
      "text/plain": [
       "BLOOR STATION             334\n",
       "YONGE BLOOR BD STATION    277\n",
       "Name: station, dtype: int64"
      ]
     },
     "execution_count": 418,
     "metadata": {},
     "output_type": "execute_result"
    }
   ],
   "source": [
    "df1819_no0_stations = df1819_midway[df1819_midway[\"station\"].str.contains('BLOOR')]\n",
    "df1819_no0_stations[\"station\"].value_counts()"
   ]
  },
  {
   "cell_type": "code",
   "execution_count": 419,
   "metadata": {},
   "outputs": [
    {
     "data": {
      "text/plain": [
       "array(['YONGE BLOOR BD STATION', 'YONGE BLOOR YUS STATION'], dtype=object)"
      ]
     },
     "execution_count": 419,
     "metadata": {},
     "output_type": "execute_result"
    }
   ],
   "source": [
    "df1819_midway[\"station\"] = df1819_midway[\"station\"].replace(\n",
    "    {'BLOOR STATION': 'YONGE BLOOR YUS STATION'})\n",
    "df1819_no0_stations = df1819_midway[df1819_midway[\"station\"].str.contains('BLOOR')]\n",
    "df1819_no0_stations[\"station\"].unique()"
   ]
  },
  {
   "cell_type": "code",
   "execution_count": 420,
   "metadata": {},
   "outputs": [
    {
     "data": {
      "text/plain": [
       "YU    335\n",
       "BD    276\n",
       "Name: line, dtype: int64"
      ]
     },
     "execution_count": 420,
     "metadata": {},
     "output_type": "execute_result"
    }
   ],
   "source": [
    "df1819_no0_stations = df1819_midway[df1819_midway[\"station\"].str.contains('BLOOR')]\n",
    "df1819_no0_stations[\"line\"].value_counts()"
   ]
  },
  {
   "cell_type": "markdown",
   "metadata": {},
   "source": [
    "CLEAN BATHURST STATION"
   ]
  },
  {
   "cell_type": "code",
   "execution_count": 421,
   "metadata": {},
   "outputs": [
    {
     "data": {
      "text/plain": [
       "BATHURST STATION    117\n",
       "BATHUSRT STATION      1\n",
       "Name: station, dtype: int64"
      ]
     },
     "execution_count": 421,
     "metadata": {},
     "output_type": "execute_result"
    }
   ],
   "source": [
    "df1819_no0_stations = df1819_midway[df1819_midway[\"station\"].str.contains('BATH')]\n",
    "df1819_no0_stations[\"station\"].value_counts()"
   ]
  },
  {
   "cell_type": "code",
   "execution_count": 423,
   "metadata": {},
   "outputs": [
    {
     "data": {
      "text/plain": [
       "array(['BATHURST STATION'], dtype=object)"
      ]
     },
     "execution_count": 423,
     "metadata": {},
     "output_type": "execute_result"
    }
   ],
   "source": [
    "df1819_midway[\"station\"] = df1819_midway[\"station\"].replace(\n",
    "    {'BATHUSRT STATION': 'BATHURST STATION'})\n",
    "df1819_no0_stations = df1819_midway[df1819_midway[\"station\"].str.contains('BATHURST STATION')]\n",
    "df1819_no0_stations[\"station\"].unique()"
   ]
  },
  {
   "cell_type": "code",
   "execution_count": 424,
   "metadata": {},
   "outputs": [
    {
     "data": {
      "text/plain": [
       "BD    118\n",
       "Name: line, dtype: int64"
      ]
     },
     "execution_count": 424,
     "metadata": {},
     "output_type": "execute_result"
    }
   ],
   "source": [
    "df1819_no0_stations = df1819_midway[df1819_midway[\"station\"].str.contains('BATHURST')]\n",
    "df1819_no0_stations['line'].value_counts()"
   ]
  },
  {
   "cell_type": "markdown",
   "metadata": {},
   "source": [
    "SAVE TO FILE"
   ]
  },
  {
   "cell_type": "code",
   "execution_count": 425,
   "metadata": {},
   "outputs": [
    {
     "data": {
      "text/plain": [
       "13727"
      ]
     },
     "execution_count": 425,
     "metadata": {},
     "output_type": "execute_result"
    }
   ],
   "source": [
    "len(df1819_midway)"
   ]
  },
  {
   "cell_type": "code",
   "execution_count": 426,
   "metadata": {},
   "outputs": [],
   "source": [
    "df1819_midway.to_csv('Data20182019_No0_CleanPart3.csv', index=False)"
   ]
  },
  {
   "cell_type": "code",
   "execution_count": 427,
   "metadata": {},
   "outputs": [
    {
     "data": {
      "text/plain": [
       "ST GEORGE BD STATION     215\n",
       "ST GEORGE YUS STATION    211\n",
       "Name: station, dtype: int64"
      ]
     },
     "execution_count": 427,
     "metadata": {},
     "output_type": "execute_result"
    }
   ],
   "source": [
    "df1819_no0_stations = df1819_midway[df1819_midway[\"station\"].str.contains('GEORGE')]\n",
    "df1819_no0_stations['station'].value_counts()"
   ]
  },
  {
   "cell_type": "code",
   "execution_count": 428,
   "metadata": {},
   "outputs": [
    {
     "data": {
      "text/plain": [
       "BD    213\n",
       "YU      2\n",
       "Name: line, dtype: int64"
      ]
     },
     "execution_count": 428,
     "metadata": {},
     "output_type": "execute_result"
    }
   ],
   "source": [
    "df1819_no0_stations = df1819_midway[df1819_midway[\"station\"].str.contains('GEORGE BD')]\n",
    "df1819_no0_stations['line'].value_counts()"
   ]
  },
  {
   "cell_type": "code",
   "execution_count": 429,
   "metadata": {},
   "outputs": [
    {
     "data": {
      "text/plain": [
       "YU    209\n",
       "BD      2\n",
       "Name: line, dtype: int64"
      ]
     },
     "execution_count": 429,
     "metadata": {},
     "output_type": "execute_result"
    }
   ],
   "source": [
    "df1819_no0_stations = df1819_midway[df1819_midway[\"station\"].str.contains('GEORGE YU')]\n",
    "df1819_no0_stations['line'].value_counts()"
   ]
  },
  {
   "cell_type": "code",
   "execution_count": 430,
   "metadata": {},
   "outputs": [
    {
     "data": {
      "text/plain": [
       "YONGE BLOOR YUS STATION    334\n",
       "YONGE BLOOR BD STATION     277\n",
       "Name: station, dtype: int64"
      ]
     },
     "execution_count": 430,
     "metadata": {},
     "output_type": "execute_result"
    }
   ],
   "source": [
    "df1819_no0_stations = df1819_midway[df1819_midway[\"station\"].str.contains('BLOOR')]\n",
    "df1819_no0_stations['station'].value_counts()"
   ]
  },
  {
   "cell_type": "code",
   "execution_count": 431,
   "metadata": {},
   "outputs": [
    {
     "data": {
      "text/plain": [
       "YU    334\n",
       "Name: line, dtype: int64"
      ]
     },
     "execution_count": 431,
     "metadata": {},
     "output_type": "execute_result"
    }
   ],
   "source": [
    "df1819_no0_stations = df1819_midway[df1819_midway[\"station\"].str.contains('BLOOR YU')]\n",
    "df1819_no0_stations['line'].value_counts()"
   ]
  },
  {
   "cell_type": "code",
   "execution_count": 432,
   "metadata": {},
   "outputs": [
    {
     "data": {
      "text/plain": [
       "BD    276\n",
       "YU      1\n",
       "Name: line, dtype: int64"
      ]
     },
     "execution_count": 432,
     "metadata": {},
     "output_type": "execute_result"
    }
   ],
   "source": [
    "df1819_no0_stations = df1819_midway[df1819_midway[\"station\"].str.contains('BLOOR BD')]\n",
    "df1819_no0_stations['line'].value_counts()"
   ]
  },
  {
   "cell_type": "code",
   "execution_count": 433,
   "metadata": {},
   "outputs": [
    {
     "data": {
      "text/plain": [
       "KENNEDY BD STATION     625\n",
       "KENNEDY SRT STATION    170\n",
       "Name: station, dtype: int64"
      ]
     },
     "execution_count": 433,
     "metadata": {},
     "output_type": "execute_result"
    }
   ],
   "source": [
    "df1819_no0_stations = df1819_midway[df1819_midway[\"station\"].str.contains('KENN')]\n",
    "df1819_no0_stations['station'].value_counts()"
   ]
  },
  {
   "cell_type": "code",
   "execution_count": 434,
   "metadata": {},
   "outputs": [
    {
     "data": {
      "text/plain": [
       "BD    624\n",
       "YU      1\n",
       "Name: line, dtype: int64"
      ]
     },
     "execution_count": 434,
     "metadata": {},
     "output_type": "execute_result"
    }
   ],
   "source": [
    "df1819_no0_stations = df1819_midway[df1819_midway[\"station\"].str.contains('KENNEDY BD')]\n",
    "df1819_no0_stations['line'].value_counts()"
   ]
  },
  {
   "cell_type": "code",
   "execution_count": 435,
   "metadata": {},
   "outputs": [
    {
     "data": {
      "text/plain": [
       "SRT    170\n",
       "Name: line, dtype: int64"
      ]
     },
     "execution_count": 435,
     "metadata": {},
     "output_type": "execute_result"
    }
   ],
   "source": [
    "df1819_no0_stations = df1819_midway[df1819_midway[\"station\"].str.contains('KENNEDY S')]\n",
    "df1819_no0_stations['line'].value_counts()"
   ]
  },
  {
   "cell_type": "markdown",
   "metadata": {},
   "source": [
    "# Need Change in Line"
   ]
  },
  {
   "cell_type": "code",
   "execution_count": 436,
   "metadata": {},
   "outputs": [],
   "source": [
    "#df1819_midway = pd.read_csv('Data20182019_No0_CleanPart3.csv')"
   ]
  },
  {
   "cell_type": "code",
   "execution_count": 437,
   "metadata": {},
   "outputs": [
    {
     "data": {
      "text/plain": [
       "13727"
      ]
     },
     "execution_count": 437,
     "metadata": {},
     "output_type": "execute_result"
    }
   ],
   "source": [
    "len(df1819_midway)"
   ]
  },
  {
   "cell_type": "code",
   "execution_count": 438,
   "metadata": {},
   "outputs": [
    {
     "data": {
      "text/plain": [
       "8"
      ]
     },
     "execution_count": 438,
     "metadata": {},
     "output_type": "execute_result"
    }
   ],
   "source": [
    "column_line = df1819_midway.columns.get_loc(\"line\")\n",
    "column_line"
   ]
  },
  {
   "cell_type": "code",
   "execution_count": 439,
   "metadata": {},
   "outputs": [
    {
     "data": {
      "text/plain": [
       "YU     159\n",
       "SHP      1\n",
       "Name: line, dtype: int64"
      ]
     },
     "execution_count": 439,
     "metadata": {},
     "output_type": "execute_result"
    }
   ],
   "source": [
    "line_temp = df1819_midway[df1819_midway[\"station\"].str.contains('SHEPPARD-YONGE YU')]\n",
    "#right_line = line_temp['line'].loc(line_temp['line'].value_counts() == 1)\n",
    "line_calc = line_temp['line'].value_counts()\n",
    "#line_calc[0] == 1\n",
    "line_temp['line'].value_counts()"
   ]
  },
  {
   "cell_type": "code",
   "execution_count": 440,
   "metadata": {},
   "outputs": [
    {
     "data": {
      "text/plain": [
       "'SHEPPARD-YONGE YUS STATION'"
      ]
     },
     "execution_count": 440,
     "metadata": {},
     "output_type": "execute_result"
    }
   ],
   "source": [
    "df1819_no0_stations = df1819_midway[df1819_midway[\"station\"].str.contains('SHEPPARD-YONGE YU')]\n",
    "df1819_no0_stations['station'].unique()[0]"
   ]
  },
  {
   "cell_type": "code",
   "execution_count": 441,
   "metadata": {},
   "outputs": [
    {
     "data": {
      "text/plain": [
       "4054"
      ]
     },
     "execution_count": 441,
     "metadata": {},
     "output_type": "execute_result"
    }
   ],
   "source": [
    "index = np.where((df1819_midway['station'] == df1819_no0_stations['station'].unique()[0]) \n",
    "                 & (df1819_midway['line'] == 'SHP'))\n",
    "index[0][0]"
   ]
  },
  {
   "cell_type": "code",
   "execution_count": 442,
   "metadata": {},
   "outputs": [
    {
     "data": {
      "text/html": [
       "<div>\n",
       "<style scoped>\n",
       "    .dataframe tbody tr th:only-of-type {\n",
       "        vertical-align: middle;\n",
       "    }\n",
       "\n",
       "    .dataframe tbody tr th {\n",
       "        vertical-align: top;\n",
       "    }\n",
       "\n",
       "    .dataframe thead th {\n",
       "        text-align: right;\n",
       "    }\n",
       "</style>\n",
       "<table border=\"1\" class=\"dataframe\">\n",
       "  <thead>\n",
       "    <tr style=\"text-align: right;\">\n",
       "      <th></th>\n",
       "      <th>date</th>\n",
       "      <th>time</th>\n",
       "      <th>day</th>\n",
       "      <th>station</th>\n",
       "      <th>code</th>\n",
       "      <th>min_delay</th>\n",
       "      <th>min_gap</th>\n",
       "      <th>bound</th>\n",
       "      <th>line</th>\n",
       "      <th>vehicle</th>\n",
       "    </tr>\n",
       "  </thead>\n",
       "  <tbody>\n",
       "    <tr>\n",
       "      <th>4054</th>\n",
       "      <td>2019-07-31</td>\n",
       "      <td>20:58</td>\n",
       "      <td>Wednesday</td>\n",
       "      <td>SHEPPARD-YONGE YUS STATION</td>\n",
       "      <td>SUO</td>\n",
       "      <td>22</td>\n",
       "      <td>27</td>\n",
       "      <td>W</td>\n",
       "      <td>SHP</td>\n",
       "      <td>6186</td>\n",
       "    </tr>\n",
       "  </tbody>\n",
       "</table>\n",
       "</div>"
      ],
      "text/plain": [
       "            date   time        day                     station code  \\\n",
       "4054  2019-07-31  20:58  Wednesday  SHEPPARD-YONGE YUS STATION  SUO   \n",
       "\n",
       "      min_delay  min_gap bound line  vehicle  \n",
       "4054         22       27     W  SHP     6186  "
      ]
     },
     "execution_count": 442,
     "metadata": {},
     "output_type": "execute_result"
    }
   ],
   "source": [
    "df1819_midway.loc[(df1819_midway['station'] == 'SHEPPARD-YONGE YUS STATION') & (df1819_midway['line'] == 'SHP')]"
   ]
  },
  {
   "cell_type": "code",
   "execution_count": 443,
   "metadata": {},
   "outputs": [],
   "source": [
    "df1819_midway.iloc[index[0][0], column_line] = 'YU'"
   ]
  },
  {
   "cell_type": "code",
   "execution_count": 444,
   "metadata": {},
   "outputs": [
    {
     "data": {
      "text/plain": [
       "date                         2019-07-31\n",
       "time                              20:58\n",
       "day                           Wednesday\n",
       "station      SHEPPARD-YONGE YUS STATION\n",
       "code                                SUO\n",
       "min_delay                            22\n",
       "min_gap                              27\n",
       "bound                                 W\n",
       "line                                 YU\n",
       "vehicle                            6186\n",
       "Name: 4054, dtype: object"
      ]
     },
     "execution_count": 444,
     "metadata": {},
     "output_type": "execute_result"
    }
   ],
   "source": [
    "df1819_midway.loc[index[0][0],:]"
   ]
  },
  {
   "cell_type": "markdown",
   "metadata": {},
   "source": [
    "FIX LINE FOR COXWELL STATION"
   ]
  },
  {
   "cell_type": "code",
   "execution_count": 445,
   "metadata": {},
   "outputs": [
    {
     "data": {
      "text/plain": [
       "BD    352\n",
       "YU      1\n",
       "Name: line, dtype: int64"
      ]
     },
     "execution_count": 445,
     "metadata": {},
     "output_type": "execute_result"
    }
   ],
   "source": [
    "df1819_no0_stations = df1819_midway[df1819_midway[\"station\"].str.contains('COX')]\n",
    "df1819_no0_stations['line'].value_counts()"
   ]
  },
  {
   "cell_type": "code",
   "execution_count": 446,
   "metadata": {},
   "outputs": [
    {
     "data": {
      "text/plain": [
       "date              2018-07-08\n",
       "time                   22:25\n",
       "day                   Sunday\n",
       "station      COXWELL STATION\n",
       "code                   MUNOA\n",
       "min_delay                  4\n",
       "min_gap                    8\n",
       "bound                    NaN\n",
       "line                      YU\n",
       "vehicle                    0\n",
       "Name: 10338, dtype: object"
      ]
     },
     "execution_count": 446,
     "metadata": {},
     "output_type": "execute_result"
    }
   ],
   "source": [
    "df1819_no0_stations = df1819_midway[df1819_midway[\"station\"].str.contains('COX')]\n",
    "df1819_no0_stations['station'].unique()[0]\n",
    "index = np.where((df1819_midway['station'] == df1819_no0_stations['station'].unique()[0]) \n",
    "                 & (df1819_midway['line'] == 'YU'))\n",
    "df1819_midway.loc[index[0][0],:]"
   ]
  },
  {
   "cell_type": "code",
   "execution_count": 447,
   "metadata": {},
   "outputs": [
    {
     "data": {
      "text/plain": [
       "date              2018-07-08\n",
       "time                   22:25\n",
       "day                   Sunday\n",
       "station      COXWELL STATION\n",
       "code                   MUNOA\n",
       "min_delay                  4\n",
       "min_gap                    8\n",
       "bound                    NaN\n",
       "line                      BD\n",
       "vehicle                    0\n",
       "Name: 10338, dtype: object"
      ]
     },
     "execution_count": 447,
     "metadata": {},
     "output_type": "execute_result"
    }
   ],
   "source": [
    "df1819_midway.iloc[index[0][0], column_line] = 'BD'\n",
    "df1819_midway.loc[index[0][0],:]"
   ]
  },
  {
   "cell_type": "code",
   "execution_count": 448,
   "metadata": {},
   "outputs": [
    {
     "data": {
      "text/plain": [
       "date              2018-07-08\n",
       "time                   22:25\n",
       "day                   Sunday\n",
       "station      COXWELL STATION\n",
       "code                   MUNOA\n",
       "min_delay                  4\n",
       "min_gap                    8\n",
       "bound                    NaN\n",
       "line                      BD\n",
       "vehicle                    0\n",
       "Name: 10338, dtype: object"
      ]
     },
     "execution_count": 448,
     "metadata": {},
     "output_type": "execute_result"
    }
   ],
   "source": [
    "df1819_midway.iloc[10338, :]"
   ]
  },
  {
   "cell_type": "markdown",
   "metadata": {},
   "source": [
    "FIX LINE FOR SPADINA"
   ]
  },
  {
   "cell_type": "code",
   "execution_count": 449,
   "metadata": {},
   "outputs": [
    {
     "data": {
      "text/plain": [
       "YU    103\n",
       "BD      1\n",
       "Name: line, dtype: int64"
      ]
     },
     "execution_count": 449,
     "metadata": {},
     "output_type": "execute_result"
    }
   ],
   "source": [
    "df1819_no0_stations = df1819_midway[df1819_midway[\"station\"].str.contains('SPADINA Y')]\n",
    "df1819_no0_stations[\"line\"].value_counts()"
   ]
  },
  {
   "cell_type": "code",
   "execution_count": 450,
   "metadata": {},
   "outputs": [
    {
     "data": {
      "text/plain": [
       "date                  2018-08-20\n",
       "time                       18:05\n",
       "day                       Monday\n",
       "station      SPADINA YUS STATION\n",
       "code                        MUIS\n",
       "min_delay                     10\n",
       "min_gap                       13\n",
       "bound                          E\n",
       "line                          BD\n",
       "vehicle                     5335\n",
       "Name: 11326, dtype: object"
      ]
     },
     "execution_count": 450,
     "metadata": {},
     "output_type": "execute_result"
    }
   ],
   "source": [
    "df1819_no0_stations = df1819_midway[df1819_midway[\"station\"].str.contains('SPADINA Y')]\n",
    "df1819_no0_stations['station'].unique()[0]\n",
    "index = np.where((df1819_midway['station'] == df1819_no0_stations['station'].unique()[0]) \n",
    "                 & (df1819_midway['line'] == 'BD'))\n",
    "df1819_midway.loc[index[0][0],:]"
   ]
  },
  {
   "cell_type": "code",
   "execution_count": 451,
   "metadata": {},
   "outputs": [
    {
     "data": {
      "text/plain": [
       "date                  2018-08-20\n",
       "time                       18:05\n",
       "day                       Monday\n",
       "station      SPADINA YUS STATION\n",
       "code                        MUIS\n",
       "min_delay                     10\n",
       "min_gap                       13\n",
       "bound                          E\n",
       "line                          YU\n",
       "vehicle                     5335\n",
       "Name: 11326, dtype: object"
      ]
     },
     "execution_count": 451,
     "metadata": {},
     "output_type": "execute_result"
    }
   ],
   "source": [
    "df1819_midway.iloc[index[0][0], column_line] = 'YU'\n",
    "df1819_midway.loc[index[0][0],:]"
   ]
  },
  {
   "cell_type": "markdown",
   "metadata": {},
   "source": [
    "FIX LINE FOR YONGE BLOOR BD STATION"
   ]
  },
  {
   "cell_type": "code",
   "execution_count": 453,
   "metadata": {},
   "outputs": [
    {
     "data": {
      "text/plain": [
       "BD    276\n",
       "YU      1\n",
       "Name: line, dtype: int64"
      ]
     },
     "execution_count": 453,
     "metadata": {},
     "output_type": "execute_result"
    }
   ],
   "source": [
    "df1819_no0_stations = df1819_midway[df1819_midway[\"station\"].str.contains('YONGE BLOOR BD STATION')]\n",
    "df1819_no0_stations['line'].value_counts()"
   ]
  },
  {
   "cell_type": "code",
   "execution_count": 454,
   "metadata": {},
   "outputs": [
    {
     "data": {
      "text/plain": [
       "date                     2018-07-16\n",
       "time                          10:57\n",
       "day                          Monday\n",
       "station      YONGE BLOOR BD STATION\n",
       "code                            SUO\n",
       "min_delay                        16\n",
       "min_gap                          19\n",
       "bound                             W\n",
       "line                             YU\n",
       "vehicle                        5163\n",
       "Name: 10515, dtype: object"
      ]
     },
     "execution_count": 454,
     "metadata": {},
     "output_type": "execute_result"
    }
   ],
   "source": [
    "df1819_no0_stations = df1819_midway[df1819_midway[\"station\"].str.contains('YONGE BLOOR BD STATION')]\n",
    "df1819_no0_stations['station'].unique()[0]\n",
    "index = np.where((df1819_midway['station'] == df1819_no0_stations['station'].unique()[0]) \n",
    "                 & (df1819_midway['line'] == 'YU'))\n",
    "df1819_midway.loc[index[0][0],:]"
   ]
  },
  {
   "cell_type": "code",
   "execution_count": 455,
   "metadata": {},
   "outputs": [
    {
     "data": {
      "text/plain": [
       "date                     2018-07-16\n",
       "time                          10:57\n",
       "day                          Monday\n",
       "station      YONGE BLOOR BD STATION\n",
       "code                            SUO\n",
       "min_delay                        16\n",
       "min_gap                          19\n",
       "bound                             W\n",
       "line                             BD\n",
       "vehicle                        5163\n",
       "Name: 10515, dtype: object"
      ]
     },
     "execution_count": 455,
     "metadata": {},
     "output_type": "execute_result"
    }
   ],
   "source": [
    "df1819_midway.iloc[index[0][0], column_line] = 'BD'\n",
    "df1819_midway.loc[index[0][0],:]"
   ]
  },
  {
   "cell_type": "code",
   "execution_count": 456,
   "metadata": {},
   "outputs": [
    {
     "data": {
      "text/plain": [
       "BD    277\n",
       "Name: line, dtype: int64"
      ]
     },
     "execution_count": 456,
     "metadata": {},
     "output_type": "execute_result"
    }
   ],
   "source": [
    "df1819_no0_stations = df1819_midway[df1819_midway[\"station\"].str.contains('YONGE BLOOR BD STATION')]\n",
    "df1819_no0_stations['line'].value_counts()"
   ]
  },
  {
   "cell_type": "markdown",
   "metadata": {},
   "source": [
    "FIX LINE FOR KENNEDY BD"
   ]
  },
  {
   "cell_type": "code",
   "execution_count": 457,
   "metadata": {},
   "outputs": [
    {
     "data": {
      "text/plain": [
       "BD    624\n",
       "YU      1\n",
       "Name: line, dtype: int64"
      ]
     },
     "execution_count": 457,
     "metadata": {},
     "output_type": "execute_result"
    }
   ],
   "source": [
    "df1819_no0_stations = df1819_midway[df1819_midway[\"station\"].str.contains('KENNEDY BD')]\n",
    "df1819_no0_stations['line'].value_counts()"
   ]
  },
  {
   "cell_type": "code",
   "execution_count": 458,
   "metadata": {},
   "outputs": [
    {
     "data": {
      "text/plain": [
       "date                 2018-08-15\n",
       "time                      18:10\n",
       "day                   Wednesday\n",
       "station      KENNEDY BD STATION\n",
       "code                      MUNOA\n",
       "min_delay                     3\n",
       "min_gap                       6\n",
       "bound                         W\n",
       "line                         YU\n",
       "vehicle                       0\n",
       "Name: 11234, dtype: object"
      ]
     },
     "execution_count": 458,
     "metadata": {},
     "output_type": "execute_result"
    }
   ],
   "source": [
    "df1819_no0_stations = df1819_midway[df1819_midway[\"station\"].str.contains('KENNEDY BD')]\n",
    "df1819_no0_stations['station'].unique()[0]\n",
    "index = np.where((df1819_midway['station'] == df1819_no0_stations['station'].unique()[0]) \n",
    "                 & (df1819_midway['line'] == 'YU'))\n",
    "df1819_midway.loc[index[0][0],:]"
   ]
  },
  {
   "cell_type": "code",
   "execution_count": 459,
   "metadata": {},
   "outputs": [
    {
     "data": {
      "text/plain": [
       "date                 2018-08-15\n",
       "time                      18:10\n",
       "day                   Wednesday\n",
       "station      KENNEDY BD STATION\n",
       "code                      MUNOA\n",
       "min_delay                     3\n",
       "min_gap                       6\n",
       "bound                         W\n",
       "line                         BD\n",
       "vehicle                       0\n",
       "Name: 11234, dtype: object"
      ]
     },
     "execution_count": 459,
     "metadata": {},
     "output_type": "execute_result"
    }
   ],
   "source": [
    "df1819_midway.iloc[index[0][0], column_line] = 'BD'\n",
    "df1819_midway.loc[index[0][0],:]"
   ]
  },
  {
   "cell_type": "code",
   "execution_count": 460,
   "metadata": {},
   "outputs": [
    {
     "data": {
      "text/plain": [
       "BD    625\n",
       "Name: line, dtype: int64"
      ]
     },
     "execution_count": 460,
     "metadata": {},
     "output_type": "execute_result"
    }
   ],
   "source": [
    "df1819_no0_stations = df1819_midway[df1819_midway[\"station\"].str.contains('KENNEDY BD')]\n",
    "df1819_no0_stations['line'].value_counts()"
   ]
  },
  {
   "cell_type": "markdown",
   "metadata": {},
   "source": [
    "FIX LINE FOR SUMMER"
   ]
  },
  {
   "cell_type": "code",
   "execution_count": 461,
   "metadata": {},
   "outputs": [
    {
     "data": {
      "text/plain": [
       "YU    127\n",
       "BD      1\n",
       "Name: line, dtype: int64"
      ]
     },
     "execution_count": 461,
     "metadata": {},
     "output_type": "execute_result"
    }
   ],
   "source": [
    "df1819_no0_stations = df1819_midway[df1819_midway[\"station\"].str.contains('SUMMER')]\n",
    "df1819_no0_stations['line'].value_counts()"
   ]
  },
  {
   "cell_type": "code",
   "execution_count": 462,
   "metadata": {},
   "outputs": [
    {
     "data": {
      "text/plain": [
       "date                 2019-12-02\n",
       "time                      00:32\n",
       "day                      Monday\n",
       "station      SUMMERHILL STATION\n",
       "code                       SUDP\n",
       "min_delay                     6\n",
       "min_gap                      11\n",
       "bound                         S\n",
       "line                         BD\n",
       "vehicle                    5696\n",
       "Name: 6120, dtype: object"
      ]
     },
     "execution_count": 462,
     "metadata": {},
     "output_type": "execute_result"
    }
   ],
   "source": [
    "df1819_no0_stations = df1819_midway[df1819_midway[\"station\"].str.contains('SUMMER')]\n",
    "df1819_no0_stations['station'].unique()[0]\n",
    "index = np.where((df1819_midway['station'] == df1819_no0_stations['station'].unique()[0]) \n",
    "                 & (df1819_midway['line'] == 'BD'))\n",
    "df1819_midway.loc[index[0][0],:]"
   ]
  },
  {
   "cell_type": "code",
   "execution_count": 463,
   "metadata": {},
   "outputs": [
    {
     "data": {
      "text/plain": [
       "date                 2019-12-02\n",
       "time                      00:32\n",
       "day                      Monday\n",
       "station      SUMMERHILL STATION\n",
       "code                       SUDP\n",
       "min_delay                     6\n",
       "min_gap                      11\n",
       "bound                         S\n",
       "line                         YU\n",
       "vehicle                    5696\n",
       "Name: 6120, dtype: object"
      ]
     },
     "execution_count": 463,
     "metadata": {},
     "output_type": "execute_result"
    }
   ],
   "source": [
    "df1819_midway.iloc[index[0][0], column_line] = 'YU'\n",
    "df1819_midway.loc[index[0][0],:]"
   ]
  },
  {
   "cell_type": "code",
   "execution_count": 464,
   "metadata": {},
   "outputs": [
    {
     "data": {
      "text/plain": [
       "YU    128\n",
       "Name: line, dtype: int64"
      ]
     },
     "execution_count": 464,
     "metadata": {},
     "output_type": "execute_result"
    }
   ],
   "source": [
    "df1819_no0_stations = df1819_midway[df1819_midway[\"station\"].str.contains('SUMMER')]\n",
    "df1819_no0_stations['line'].value_counts()"
   ]
  },
  {
   "cell_type": "markdown",
   "metadata": {},
   "source": [
    "FIX LINE FOR CLAIR WEST"
   ]
  },
  {
   "cell_type": "code",
   "execution_count": 465,
   "metadata": {},
   "outputs": [
    {
     "data": {
      "text/plain": [
       "YU    226\n",
       "BD      1\n",
       "Name: line, dtype: int64"
      ]
     },
     "execution_count": 465,
     "metadata": {},
     "output_type": "execute_result"
    }
   ],
   "source": [
    "df1819_no0_stations = df1819_midway[df1819_midway[\"station\"].str.contains('CLAIR W')]\n",
    "df1819_no0_stations['line'].value_counts()"
   ]
  },
  {
   "cell_type": "code",
   "execution_count": 467,
   "metadata": {},
   "outputs": [
    {
     "data": {
      "text/plain": [
       "date                    2018-11-02\n",
       "time                         01:35\n",
       "day                         Friday\n",
       "station      ST CLAIR WEST STATION\n",
       "code                          MUIR\n",
       "min_delay                       11\n",
       "min_gap                         16\n",
       "bound                            N\n",
       "line                            BD\n",
       "vehicle                       5771\n",
       "Name: 12677, dtype: object"
      ]
     },
     "execution_count": 467,
     "metadata": {},
     "output_type": "execute_result"
    }
   ],
   "source": [
    "df1819_no0_stations = df1819_midway[df1819_midway[\"station\"].str.contains('CLAIR W')]\n",
    "df1819_no0_stations['station'].unique()[0]\n",
    "index = np.where((df1819_midway['station'] == df1819_no0_stations['station'].unique()[0]) \n",
    "                 & (df1819_midway['line'] == 'BD'))\n",
    "df1819_midway.loc[index[0][0],:]"
   ]
  },
  {
   "cell_type": "code",
   "execution_count": 468,
   "metadata": {},
   "outputs": [
    {
     "data": {
      "text/plain": [
       "YU    227\n",
       "Name: line, dtype: int64"
      ]
     },
     "execution_count": 468,
     "metadata": {},
     "output_type": "execute_result"
    }
   ],
   "source": [
    "df1819_midway.iloc[index[0][0], column_line] = 'YU'\n",
    "df1819_no0_stations = df1819_midway[df1819_midway[\"station\"].str.contains('CLAIR W')]\n",
    "df1819_no0_stations['line'].value_counts()"
   ]
  },
  {
   "cell_type": "code",
   "execution_count": 469,
   "metadata": {},
   "outputs": [
    {
     "data": {
      "text/plain": [
       "13727"
      ]
     },
     "execution_count": 469,
     "metadata": {},
     "output_type": "execute_result"
    }
   ],
   "source": [
    "len(df1819_midway)"
   ]
  },
  {
   "cell_type": "code",
   "execution_count": 470,
   "metadata": {},
   "outputs": [],
   "source": [
    "df1819_midway.to_csv('Data20182019_No0_CleanPart4.csv', index=False)"
   ]
  },
  {
   "cell_type": "markdown",
   "metadata": {},
   "source": [
    "FIX LINE FOR YORK U"
   ]
  },
  {
   "cell_type": "code",
   "execution_count": 530,
   "metadata": {},
   "outputs": [],
   "source": [
    "df1819_midway = pd.read_csv('Data20182019_No0_CleanPart4.csv')"
   ]
  },
  {
   "cell_type": "code",
   "execution_count": 531,
   "metadata": {},
   "outputs": [
    {
     "data": {
      "text/plain": [
       "YU    36\n",
       "BD     1\n",
       "Name: line, dtype: int64"
      ]
     },
     "execution_count": 531,
     "metadata": {},
     "output_type": "execute_result"
    }
   ],
   "source": [
    "df1819_no0_stations = df1819_midway[df1819_midway[\"station\"].str.contains('YORK U')]\n",
    "df1819_no0_stations['line'].value_counts()"
   ]
  },
  {
   "cell_type": "code",
   "execution_count": 532,
   "metadata": {},
   "outputs": [
    {
     "data": {
      "text/plain": [
       "date                      2019-12-02\n",
       "time                           00:13\n",
       "day                           Monday\n",
       "station      YORK UNIVERSITY STATION\n",
       "code                           MUATC\n",
       "min_delay                         13\n",
       "min_gap                           17\n",
       "bound                              N\n",
       "line                              BD\n",
       "vehicle                         6056\n",
       "Name: 6119, dtype: object"
      ]
     },
     "execution_count": 532,
     "metadata": {},
     "output_type": "execute_result"
    }
   ],
   "source": [
    "df1819_no0_stations = df1819_midway[df1819_midway[\"station\"].str.contains('YORK U')]\n",
    "df1819_no0_stations['station'].unique()[0]\n",
    "index = np.where((df1819_midway['station'] == df1819_no0_stations['station'].unique()[0]) \n",
    "                 & (df1819_midway['line'] == 'BD'))\n",
    "df1819_midway.loc[index[0][0],:]"
   ]
  },
  {
   "cell_type": "code",
   "execution_count": 533,
   "metadata": {},
   "outputs": [
    {
     "data": {
      "text/plain": [
       "YU    37\n",
       "Name: line, dtype: int64"
      ]
     },
     "execution_count": 533,
     "metadata": {},
     "output_type": "execute_result"
    }
   ],
   "source": [
    "df1819_midway.iloc[index[0][0], column_line] = 'YU'\n",
    "df1819_no0_stations = df1819_midway[df1819_midway[\"station\"].str.contains('YORK U')]\n",
    "df1819_no0_stations['line'].value_counts()"
   ]
  },
  {
   "cell_type": "markdown",
   "metadata": {},
   "source": [
    "FIX LINE FOR BLOOR BD"
   ]
  },
  {
   "cell_type": "code",
   "execution_count": 534,
   "metadata": {},
   "outputs": [
    {
     "data": {
      "text/plain": [
       "BD    277\n",
       "Name: line, dtype: int64"
      ]
     },
     "execution_count": 534,
     "metadata": {},
     "output_type": "execute_result"
    }
   ],
   "source": [
    "df1819_no0_stations = df1819_midway[df1819_midway[\"station\"].str.contains('BLOOR BD')]\n",
    "df1819_no0_stations['line'].value_counts()"
   ]
  },
  {
   "cell_type": "code",
   "execution_count": 508,
   "metadata": {},
   "outputs": [
    {
     "ename": "IndexError",
     "evalue": "index 0 is out of bounds for axis 0 with size 0",
     "output_type": "error",
     "traceback": [
      "\u001b[1;31m---------------------------------------------------------------------------\u001b[0m",
      "\u001b[1;31mIndexError\u001b[0m                                Traceback (most recent call last)",
      "\u001b[1;32m<ipython-input-508-9e9758cf1e89>\u001b[0m in \u001b[0;36m<module>\u001b[1;34m\u001b[0m\n\u001b[0;32m      3\u001b[0m index = np.where((df1819_midway['station'] == df1819_no0_stations['station'].unique()[0]) \n\u001b[0;32m      4\u001b[0m                  & (df1819_midway['line'] == 'YU'))\n\u001b[1;32m----> 5\u001b[1;33m \u001b[0mdf1819_midway\u001b[0m\u001b[1;33m.\u001b[0m\u001b[0mloc\u001b[0m\u001b[1;33m[\u001b[0m\u001b[0mindex\u001b[0m\u001b[1;33m[\u001b[0m\u001b[1;36m0\u001b[0m\u001b[1;33m]\u001b[0m\u001b[1;33m[\u001b[0m\u001b[1;36m0\u001b[0m\u001b[1;33m]\u001b[0m\u001b[1;33m,\u001b[0m\u001b[1;33m:\u001b[0m\u001b[1;33m]\u001b[0m\u001b[1;33m\u001b[0m\u001b[1;33m\u001b[0m\u001b[0m\n\u001b[0m",
      "\u001b[1;31mIndexError\u001b[0m: index 0 is out of bounds for axis 0 with size 0"
     ]
    }
   ],
   "source": [
    "df1819_no0_stations = df1819_midway[df1819_midway[\"station\"].str.contains('YONGE BLOOR BD STATION')]\n",
    "df1819_no0_stations['station'].unique()[0]\n",
    "index = np.where((df1819_midway['station'] == df1819_no0_stations['station'].unique()[0]) \n",
    "                 & (df1819_midway['line'] == 'YU'))\n",
    "df1819_midway.loc[index[0][0],:]"
   ]
  },
  {
   "cell_type": "code",
   "execution_count": 509,
   "metadata": {},
   "outputs": [
    {
     "ename": "IndexError",
     "evalue": "index 0 is out of bounds for axis 0 with size 0",
     "output_type": "error",
     "traceback": [
      "\u001b[1;31m---------------------------------------------------------------------------\u001b[0m",
      "\u001b[1;31mIndexError\u001b[0m                                Traceback (most recent call last)",
      "\u001b[1;32m<ipython-input-509-5b03fa90c0db>\u001b[0m in \u001b[0;36m<module>\u001b[1;34m\u001b[0m\n\u001b[1;32m----> 1\u001b[1;33m \u001b[0mdf1819_midway\u001b[0m\u001b[1;33m.\u001b[0m\u001b[0miloc\u001b[0m\u001b[1;33m[\u001b[0m\u001b[0mindex\u001b[0m\u001b[1;33m[\u001b[0m\u001b[1;36m0\u001b[0m\u001b[1;33m]\u001b[0m\u001b[1;33m[\u001b[0m\u001b[1;36m0\u001b[0m\u001b[1;33m]\u001b[0m\u001b[1;33m,\u001b[0m \u001b[0mcolumn_line\u001b[0m\u001b[1;33m]\u001b[0m \u001b[1;33m=\u001b[0m \u001b[1;34m'BD'\u001b[0m\u001b[1;33m\u001b[0m\u001b[1;33m\u001b[0m\u001b[0m\n\u001b[0m\u001b[0;32m      2\u001b[0m \u001b[0mdf1819_no0_stations\u001b[0m \u001b[1;33m=\u001b[0m \u001b[0mdf1819_midway\u001b[0m\u001b[1;33m[\u001b[0m\u001b[0mdf1819_midway\u001b[0m\u001b[1;33m[\u001b[0m\u001b[1;34m\"station\"\u001b[0m\u001b[1;33m]\u001b[0m\u001b[1;33m.\u001b[0m\u001b[0mstr\u001b[0m\u001b[1;33m.\u001b[0m\u001b[0mcontains\u001b[0m\u001b[1;33m(\u001b[0m\u001b[1;34m'BLOOR BD'\u001b[0m\u001b[1;33m)\u001b[0m\u001b[1;33m]\u001b[0m\u001b[1;33m\u001b[0m\u001b[1;33m\u001b[0m\u001b[0m\n\u001b[0;32m      3\u001b[0m \u001b[0mdf1819_no0_stations\u001b[0m\u001b[1;33m[\u001b[0m\u001b[1;34m'line'\u001b[0m\u001b[1;33m]\u001b[0m\u001b[1;33m.\u001b[0m\u001b[0mvalue_counts\u001b[0m\u001b[1;33m(\u001b[0m\u001b[1;33m)\u001b[0m\u001b[1;33m\u001b[0m\u001b[1;33m\u001b[0m\u001b[0m\n",
      "\u001b[1;31mIndexError\u001b[0m: index 0 is out of bounds for axis 0 with size 0"
     ]
    }
   ],
   "source": [
    "df1819_midway.iloc[index[0][0], column_line] = 'BD'\n",
    "df1819_no0_stations = df1819_midway[df1819_midway[\"station\"].str.contains('BLOOR BD')]\n",
    "df1819_no0_stations['line'].value_counts()"
   ]
  },
  {
   "cell_type": "markdown",
   "metadata": {},
   "source": [
    "FIX LINE FOR GEORGE BD"
   ]
  },
  {
   "cell_type": "code",
   "execution_count": 535,
   "metadata": {},
   "outputs": [
    {
     "data": {
      "text/plain": [
       "BD    213\n",
       "YU      2\n",
       "Name: line, dtype: int64"
      ]
     },
     "execution_count": 535,
     "metadata": {},
     "output_type": "execute_result"
    }
   ],
   "source": [
    "df1819_no0_stations = df1819_midway[df1819_midway[\"station\"].str.contains('GEORGE BD')]\n",
    "df1819_no0_stations['line'].value_counts()"
   ]
  },
  {
   "cell_type": "code",
   "execution_count": 536,
   "metadata": {},
   "outputs": [
    {
     "data": {
      "text/plain": [
       "ST GEORGE BD STATION    215\n",
       "Name: station, dtype: int64"
      ]
     },
     "execution_count": 536,
     "metadata": {},
     "output_type": "execute_result"
    }
   ],
   "source": [
    "df1819_no0_stations = df1819_midway[df1819_midway[\"station\"].str.contains('GEORGE BD')]\n",
    "df1819_no0_stations['station'].value_counts()"
   ]
  },
  {
   "cell_type": "code",
   "execution_count": 537,
   "metadata": {},
   "outputs": [
    {
     "data": {
      "text/plain": [
       "(array([  52, 2079], dtype=int64),)"
      ]
     },
     "execution_count": 537,
     "metadata": {},
     "output_type": "execute_result"
    }
   ],
   "source": [
    "df1819_no0_stations = df1819_midway[df1819_midway[\"station\"].str.contains('GEORGE BD')]\n",
    "df1819_no0_stations['station'].unique()[0]\n",
    "index = np.where((df1819_midway['station'] == df1819_no0_stations['station'].unique()[0]) \n",
    "                 & (df1819_midway['line'] == 'YU'))\n",
    "index"
   ]
  },
  {
   "cell_type": "code",
   "execution_count": 538,
   "metadata": {},
   "outputs": [
    {
     "data": {
      "text/html": [
       "<div>\n",
       "<style scoped>\n",
       "    .dataframe tbody tr th:only-of-type {\n",
       "        vertical-align: middle;\n",
       "    }\n",
       "\n",
       "    .dataframe tbody tr th {\n",
       "        vertical-align: top;\n",
       "    }\n",
       "\n",
       "    .dataframe thead th {\n",
       "        text-align: right;\n",
       "    }\n",
       "</style>\n",
       "<table border=\"1\" class=\"dataframe\">\n",
       "  <thead>\n",
       "    <tr style=\"text-align: right;\">\n",
       "      <th></th>\n",
       "      <th>date</th>\n",
       "      <th>time</th>\n",
       "      <th>day</th>\n",
       "      <th>station</th>\n",
       "      <th>code</th>\n",
       "      <th>min_delay</th>\n",
       "      <th>min_gap</th>\n",
       "      <th>bound</th>\n",
       "      <th>line</th>\n",
       "      <th>vehicle</th>\n",
       "    </tr>\n",
       "  </thead>\n",
       "  <tbody>\n",
       "    <tr>\n",
       "      <th>52</th>\n",
       "      <td>2019-01-03</td>\n",
       "      <td>06:29</td>\n",
       "      <td>Thursday</td>\n",
       "      <td>ST GEORGE BD STATION</td>\n",
       "      <td>PUTIJ</td>\n",
       "      <td>7</td>\n",
       "      <td>12</td>\n",
       "      <td>N</td>\n",
       "      <td>YU</td>\n",
       "      <td>5486</td>\n",
       "    </tr>\n",
       "    <tr>\n",
       "      <th>2079</th>\n",
       "      <td>2019-04-20</td>\n",
       "      <td>13:08</td>\n",
       "      <td>Saturday</td>\n",
       "      <td>ST GEORGE BD STATION</td>\n",
       "      <td>SUUT</td>\n",
       "      <td>21</td>\n",
       "      <td>25</td>\n",
       "      <td>S</td>\n",
       "      <td>YU</td>\n",
       "      <td>5831</td>\n",
       "    </tr>\n",
       "  </tbody>\n",
       "</table>\n",
       "</div>"
      ],
      "text/plain": [
       "            date   time       day               station   code  min_delay  \\\n",
       "52    2019-01-03  06:29  Thursday  ST GEORGE BD STATION  PUTIJ          7   \n",
       "2079  2019-04-20  13:08  Saturday  ST GEORGE BD STATION   SUUT         21   \n",
       "\n",
       "      min_gap bound line  vehicle  \n",
       "52         12     N   YU     5486  \n",
       "2079       25     S   YU     5831  "
      ]
     },
     "execution_count": 538,
     "metadata": {},
     "output_type": "execute_result"
    }
   ],
   "source": [
    "df1819_midway.loc[(df1819_midway['station'] == 'ST GEORGE BD STATION') & (df1819_midway['line'] == 'YU')]"
   ]
  },
  {
   "cell_type": "code",
   "execution_count": 539,
   "metadata": {},
   "outputs": [
    {
     "data": {
      "text/html": [
       "<div>\n",
       "<style scoped>\n",
       "    .dataframe tbody tr th:only-of-type {\n",
       "        vertical-align: middle;\n",
       "    }\n",
       "\n",
       "    .dataframe tbody tr th {\n",
       "        vertical-align: top;\n",
       "    }\n",
       "\n",
       "    .dataframe thead th {\n",
       "        text-align: right;\n",
       "    }\n",
       "</style>\n",
       "<table border=\"1\" class=\"dataframe\">\n",
       "  <thead>\n",
       "    <tr style=\"text-align: right;\">\n",
       "      <th></th>\n",
       "      <th>date</th>\n",
       "      <th>time</th>\n",
       "      <th>day</th>\n",
       "      <th>station</th>\n",
       "      <th>code</th>\n",
       "      <th>min_delay</th>\n",
       "      <th>min_gap</th>\n",
       "      <th>bound</th>\n",
       "      <th>line</th>\n",
       "      <th>vehicle</th>\n",
       "    </tr>\n",
       "  </thead>\n",
       "  <tbody>\n",
       "  </tbody>\n",
       "</table>\n",
       "</div>"
      ],
      "text/plain": [
       "Empty DataFrame\n",
       "Columns: [date, time, day, station, code, min_delay, min_gap, bound, line, vehicle]\n",
       "Index: []"
      ]
     },
     "execution_count": 539,
     "metadata": {},
     "output_type": "execute_result"
    }
   ],
   "source": [
    "df1819_midway.iloc[index[0][0], column_line] = 'BD'\n",
    "df1819_midway.iloc[index[0][1], column_line] = 'BD'\n",
    "df1819_midway.loc[(df1819_midway['station'] == 'ST GEORGE BD STATION') & (df1819_midway['line'] == 'YU')]"
   ]
  },
  {
   "cell_type": "markdown",
   "metadata": {},
   "source": [
    "FIX LINE FOR GEORGE YU"
   ]
  },
  {
   "cell_type": "code",
   "execution_count": 540,
   "metadata": {},
   "outputs": [
    {
     "data": {
      "text/plain": [
       "YU    209\n",
       "BD      2\n",
       "Name: line, dtype: int64"
      ]
     },
     "execution_count": 540,
     "metadata": {},
     "output_type": "execute_result"
    }
   ],
   "source": [
    "df1819_no0_stations = df1819_midway[df1819_midway[\"station\"].str.contains('GEORGE YU')]\n",
    "df1819_no0_stations['line'].value_counts()"
   ]
  },
  {
   "cell_type": "code",
   "execution_count": 541,
   "metadata": {},
   "outputs": [
    {
     "data": {
      "text/plain": [
       "ST GEORGE YUS STATION    211\n",
       "Name: station, dtype: int64"
      ]
     },
     "execution_count": 541,
     "metadata": {},
     "output_type": "execute_result"
    }
   ],
   "source": [
    "df1819_no0_stations = df1819_midway[df1819_midway[\"station\"].str.contains('GEORGE YU')]\n",
    "df1819_no0_stations['station'].value_counts()"
   ]
  },
  {
   "cell_type": "code",
   "execution_count": 542,
   "metadata": {},
   "outputs": [
    {
     "data": {
      "text/plain": [
       "(array([ 6873, 10711], dtype=int64),)"
      ]
     },
     "execution_count": 542,
     "metadata": {},
     "output_type": "execute_result"
    }
   ],
   "source": [
    "df1819_no0_stations = df1819_midway[df1819_midway[\"station\"].str.contains('GEORGE YU')]\n",
    "df1819_no0_stations['station'].unique()[0]\n",
    "index = np.where((df1819_midway['station'] == df1819_no0_stations['station'].unique()[0]) \n",
    "                 & (df1819_midway['line'] == 'BD'))\n",
    "index"
   ]
  },
  {
   "cell_type": "code",
   "execution_count": 543,
   "metadata": {},
   "outputs": [
    {
     "data": {
      "text/html": [
       "<div>\n",
       "<style scoped>\n",
       "    .dataframe tbody tr th:only-of-type {\n",
       "        vertical-align: middle;\n",
       "    }\n",
       "\n",
       "    .dataframe tbody tr th {\n",
       "        vertical-align: top;\n",
       "    }\n",
       "\n",
       "    .dataframe thead th {\n",
       "        text-align: right;\n",
       "    }\n",
       "</style>\n",
       "<table border=\"1\" class=\"dataframe\">\n",
       "  <thead>\n",
       "    <tr style=\"text-align: right;\">\n",
       "      <th></th>\n",
       "      <th>date</th>\n",
       "      <th>time</th>\n",
       "      <th>day</th>\n",
       "      <th>station</th>\n",
       "      <th>code</th>\n",
       "      <th>min_delay</th>\n",
       "      <th>min_gap</th>\n",
       "      <th>bound</th>\n",
       "      <th>line</th>\n",
       "      <th>vehicle</th>\n",
       "    </tr>\n",
       "  </thead>\n",
       "  <tbody>\n",
       "  </tbody>\n",
       "</table>\n",
       "</div>"
      ],
      "text/plain": [
       "Empty DataFrame\n",
       "Columns: [date, time, day, station, code, min_delay, min_gap, bound, line, vehicle]\n",
       "Index: []"
      ]
     },
     "execution_count": 543,
     "metadata": {},
     "output_type": "execute_result"
    }
   ],
   "source": [
    "df1819_midway.loc[(df1819_midway['station'] == 'ST GEORGE YU STATION') & (df1819_midway['line'] == 'BD')]"
   ]
  },
  {
   "cell_type": "code",
   "execution_count": 544,
   "metadata": {},
   "outputs": [
    {
     "data": {
      "text/html": [
       "<div>\n",
       "<style scoped>\n",
       "    .dataframe tbody tr th:only-of-type {\n",
       "        vertical-align: middle;\n",
       "    }\n",
       "\n",
       "    .dataframe tbody tr th {\n",
       "        vertical-align: top;\n",
       "    }\n",
       "\n",
       "    .dataframe thead th {\n",
       "        text-align: right;\n",
       "    }\n",
       "</style>\n",
       "<table border=\"1\" class=\"dataframe\">\n",
       "  <thead>\n",
       "    <tr style=\"text-align: right;\">\n",
       "      <th></th>\n",
       "      <th>date</th>\n",
       "      <th>time</th>\n",
       "      <th>day</th>\n",
       "      <th>station</th>\n",
       "      <th>code</th>\n",
       "      <th>min_delay</th>\n",
       "      <th>min_gap</th>\n",
       "      <th>bound</th>\n",
       "      <th>line</th>\n",
       "      <th>vehicle</th>\n",
       "    </tr>\n",
       "  </thead>\n",
       "  <tbody>\n",
       "  </tbody>\n",
       "</table>\n",
       "</div>"
      ],
      "text/plain": [
       "Empty DataFrame\n",
       "Columns: [date, time, day, station, code, min_delay, min_gap, bound, line, vehicle]\n",
       "Index: []"
      ]
     },
     "execution_count": 544,
     "metadata": {},
     "output_type": "execute_result"
    }
   ],
   "source": [
    "df1819_midway.iloc[index[0][0], column_line] = 'YU'\n",
    "df1819_midway.iloc[index[0][1], column_line] = 'YU'\n",
    "df1819_midway.loc[(df1819_midway['station'] == 'ST GEORGE YU STATION') & (df1819_midway['line'] == 'BD')]"
   ]
  },
  {
   "cell_type": "markdown",
   "metadata": {},
   "source": [
    "FIXING NAN LINE"
   ]
  },
  {
   "cell_type": "code",
   "execution_count": 545,
   "metadata": {},
   "outputs": [
    {
     "data": {
      "text/html": [
       "<div>\n",
       "<style scoped>\n",
       "    .dataframe tbody tr th:only-of-type {\n",
       "        vertical-align: middle;\n",
       "    }\n",
       "\n",
       "    .dataframe tbody tr th {\n",
       "        vertical-align: top;\n",
       "    }\n",
       "\n",
       "    .dataframe thead th {\n",
       "        text-align: right;\n",
       "    }\n",
       "</style>\n",
       "<table border=\"1\" class=\"dataframe\">\n",
       "  <thead>\n",
       "    <tr style=\"text-align: right;\">\n",
       "      <th></th>\n",
       "      <th>date</th>\n",
       "      <th>time</th>\n",
       "      <th>day</th>\n",
       "      <th>station</th>\n",
       "      <th>code</th>\n",
       "      <th>min_delay</th>\n",
       "      <th>min_gap</th>\n",
       "      <th>bound</th>\n",
       "      <th>line</th>\n",
       "      <th>vehicle</th>\n",
       "    </tr>\n",
       "  </thead>\n",
       "  <tbody>\n",
       "    <tr>\n",
       "      <th>11146</th>\n",
       "      <td>2018-08-11</td>\n",
       "      <td>18:07</td>\n",
       "      <td>Saturday</td>\n",
       "      <td>GREENWOOD STATION</td>\n",
       "      <td>MUI</td>\n",
       "      <td>6</td>\n",
       "      <td>10</td>\n",
       "      <td>E</td>\n",
       "      <td>NaN</td>\n",
       "      <td>5258</td>\n",
       "    </tr>\n",
       "  </tbody>\n",
       "</table>\n",
       "</div>"
      ],
      "text/plain": [
       "             date   time       day            station code  min_delay  \\\n",
       "11146  2018-08-11  18:07  Saturday  GREENWOOD STATION  MUI          6   \n",
       "\n",
       "       min_gap bound line  vehicle  \n",
       "11146       10     E  NaN     5258  "
      ]
     },
     "execution_count": 545,
     "metadata": {},
     "output_type": "execute_result"
    }
   ],
   "source": [
    "index_lineNaN = df1819_midway.loc[df1819_midway['line'].isnull()]\n",
    "index_lineNaN"
   ]
  },
  {
   "cell_type": "code",
   "execution_count": 546,
   "metadata": {},
   "outputs": [
    {
     "data": {
      "text/plain": [
       "BD    263\n",
       "Name: line, dtype: int64"
      ]
     },
     "execution_count": 546,
     "metadata": {},
     "output_type": "execute_result"
    }
   ],
   "source": [
    "df1819_no0_stations = df1819_midway[df1819_midway[\"station\"].str.contains('GREEN')]\n",
    "df1819_no0_stations['line'].value_counts()"
   ]
  },
  {
   "cell_type": "code",
   "execution_count": 547,
   "metadata": {},
   "outputs": [],
   "source": [
    "df1819_midway.iloc[11146, column_line] = 'BD'"
   ]
  },
  {
   "cell_type": "code",
   "execution_count": 548,
   "metadata": {},
   "outputs": [
    {
     "data": {
      "text/html": [
       "<div>\n",
       "<style scoped>\n",
       "    .dataframe tbody tr th:only-of-type {\n",
       "        vertical-align: middle;\n",
       "    }\n",
       "\n",
       "    .dataframe tbody tr th {\n",
       "        vertical-align: top;\n",
       "    }\n",
       "\n",
       "    .dataframe thead th {\n",
       "        text-align: right;\n",
       "    }\n",
       "</style>\n",
       "<table border=\"1\" class=\"dataframe\">\n",
       "  <thead>\n",
       "    <tr style=\"text-align: right;\">\n",
       "      <th></th>\n",
       "      <th>date</th>\n",
       "      <th>time</th>\n",
       "      <th>day</th>\n",
       "      <th>station</th>\n",
       "      <th>code</th>\n",
       "      <th>min_delay</th>\n",
       "      <th>min_gap</th>\n",
       "      <th>bound</th>\n",
       "      <th>line</th>\n",
       "      <th>vehicle</th>\n",
       "    </tr>\n",
       "  </thead>\n",
       "  <tbody>\n",
       "  </tbody>\n",
       "</table>\n",
       "</div>"
      ],
      "text/plain": [
       "Empty DataFrame\n",
       "Columns: [date, time, day, station, code, min_delay, min_gap, bound, line, vehicle]\n",
       "Index: []"
      ]
     },
     "execution_count": 548,
     "metadata": {},
     "output_type": "execute_result"
    }
   ],
   "source": [
    "index_lineNaN = df1819_midway.loc[df1819_midway['line'].isnull()]\n",
    "index_lineNaN"
   ]
  },
  {
   "cell_type": "code",
   "execution_count": 549,
   "metadata": {},
   "outputs": [
    {
     "data": {
      "text/plain": [
       "13727"
      ]
     },
     "execution_count": 549,
     "metadata": {},
     "output_type": "execute_result"
    }
   ],
   "source": [
    "len(df1819_midway)"
   ]
  },
  {
   "cell_type": "code",
   "execution_count": 550,
   "metadata": {},
   "outputs": [],
   "source": [
    "df1819_midway.to_csv('Data20182019_No0_CleanFinal.csv', index=False)"
   ]
  },
  {
   "cell_type": "code",
   "execution_count": null,
   "metadata": {},
   "outputs": [],
   "source": []
  }
 ],
 "metadata": {
  "kernelspec": {
   "display_name": "Python 3",
   "language": "python",
   "name": "python3"
  },
  "language_info": {
   "codemirror_mode": {
    "name": "ipython",
    "version": 3
   },
   "file_extension": ".py",
   "mimetype": "text/x-python",
   "name": "python",
   "nbconvert_exporter": "python",
   "pygments_lexer": "ipython3",
   "version": "3.7.4"
  }
 },
 "nbformat": 4,
 "nbformat_minor": 2
}
