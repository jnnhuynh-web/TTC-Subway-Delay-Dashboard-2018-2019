{
 "cells": [
  {
   "cell_type": "code",
   "execution_count": 3,
   "metadata": {},
   "outputs": [],
   "source": [
    "# Dependencies\n",
    "import pandas as pd"
   ]
  },
  {
   "cell_type": "code",
   "execution_count": 4,
   "metadata": {},
   "outputs": [],
   "source": [
    "# Store filepath in a variable\n",
    "file_one = \"../Data/ttc_subway_delay_2018_2019.csv\""
   ]
  },
  {
   "cell_type": "code",
   "execution_count": 5,
   "metadata": {},
   "outputs": [
    {
     "data": {
      "text/html": [
       "<div>\n",
       "<style scoped>\n",
       "    .dataframe tbody tr th:only-of-type {\n",
       "        vertical-align: middle;\n",
       "    }\n",
       "\n",
       "    .dataframe tbody tr th {\n",
       "        vertical-align: top;\n",
       "    }\n",
       "\n",
       "    .dataframe thead th {\n",
       "        text-align: right;\n",
       "    }\n",
       "</style>\n",
       "<table border=\"1\" class=\"dataframe\">\n",
       "  <thead>\n",
       "    <tr style=\"text-align: right;\">\n",
       "      <th></th>\n",
       "      <th>id</th>\n",
       "      <th>date</th>\n",
       "      <th>time</th>\n",
       "      <th>day</th>\n",
       "      <th>station</th>\n",
       "      <th>code</th>\n",
       "      <th>min_delay</th>\n",
       "      <th>min_gap</th>\n",
       "      <th>bound</th>\n",
       "      <th>line</th>\n",
       "      <th>vehicle</th>\n",
       "      <th>code_info</th>\n",
       "      <th>latitude</th>\n",
       "      <th>longitude</th>\n",
       "      <th>line_name</th>\n",
       "      <th>month</th>\n",
       "      <th>time_range</th>\n",
       "      <th>month_number</th>\n",
       "      <th>hour</th>\n",
       "      <th>year</th>\n",
       "    </tr>\n",
       "  </thead>\n",
       "  <tbody>\n",
       "    <tr>\n",
       "      <th>13722</th>\n",
       "      <td>13767</td>\n",
       "      <td>2018-12-31</td>\n",
       "      <td>19:20</td>\n",
       "      <td>Monday</td>\n",
       "      <td>DONLANDS STATION</td>\n",
       "      <td>MUNOA</td>\n",
       "      <td>3</td>\n",
       "      <td>7</td>\n",
       "      <td>E</td>\n",
       "      <td>BD</td>\n",
       "      <td>0</td>\n",
       "      <td>No Operator Immediately Available - Not E.S.A....</td>\n",
       "      <td>43.681111</td>\n",
       "      <td>-79.337778</td>\n",
       "      <td>Bloor Danforth</td>\n",
       "      <td>December</td>\n",
       "      <td>6-9PM</td>\n",
       "      <td>12</td>\n",
       "      <td>19</td>\n",
       "      <td>2018</td>\n",
       "    </tr>\n",
       "    <tr>\n",
       "      <th>13723</th>\n",
       "      <td>13768</td>\n",
       "      <td>2018-12-31</td>\n",
       "      <td>20:19</td>\n",
       "      <td>Monday</td>\n",
       "      <td>SHERBOURNE STATION</td>\n",
       "      <td>TUOS</td>\n",
       "      <td>3</td>\n",
       "      <td>7</td>\n",
       "      <td>E</td>\n",
       "      <td>BD</td>\n",
       "      <td>5058</td>\n",
       "      <td>Operator Overshot Platform</td>\n",
       "      <td>43.672222</td>\n",
       "      <td>-79.376389</td>\n",
       "      <td>Bloor Danforth</td>\n",
       "      <td>December</td>\n",
       "      <td>6-9PM</td>\n",
       "      <td>12</td>\n",
       "      <td>20</td>\n",
       "      <td>2018</td>\n",
       "    </tr>\n",
       "    <tr>\n",
       "      <th>13724</th>\n",
       "      <td>13769</td>\n",
       "      <td>2018-12-31</td>\n",
       "      <td>21:29</td>\n",
       "      <td>Monday</td>\n",
       "      <td>SCARBOROUGH CTR STATION</td>\n",
       "      <td>MRTO</td>\n",
       "      <td>5</td>\n",
       "      <td>10</td>\n",
       "      <td>N</td>\n",
       "      <td>SRT</td>\n",
       "      <td>3011</td>\n",
       "      <td>Timeout</td>\n",
       "      <td>43.774444</td>\n",
       "      <td>-79.257778</td>\n",
       "      <td>Scarborough Rail Transit</td>\n",
       "      <td>December</td>\n",
       "      <td>9PM-1:30AM</td>\n",
       "      <td>12</td>\n",
       "      <td>21</td>\n",
       "      <td>2018</td>\n",
       "    </tr>\n",
       "    <tr>\n",
       "      <th>13725</th>\n",
       "      <td>13770</td>\n",
       "      <td>2018-12-31</td>\n",
       "      <td>21:49</td>\n",
       "      <td>Monday</td>\n",
       "      <td>SPADINA YUS STATION</td>\n",
       "      <td>PUSTC</td>\n",
       "      <td>5</td>\n",
       "      <td>10</td>\n",
       "      <td>N</td>\n",
       "      <td>YU</td>\n",
       "      <td>5601</td>\n",
       "      <td>Signals - Track Circuit Problems</td>\n",
       "      <td>43.667220</td>\n",
       "      <td>-79.403890</td>\n",
       "      <td>Yonge University Spadina</td>\n",
       "      <td>December</td>\n",
       "      <td>9PM-1:30AM</td>\n",
       "      <td>12</td>\n",
       "      <td>21</td>\n",
       "      <td>2018</td>\n",
       "    </tr>\n",
       "    <tr>\n",
       "      <th>13726</th>\n",
       "      <td>13771</td>\n",
       "      <td>2018-12-31</td>\n",
       "      <td>22:36</td>\n",
       "      <td>Monday</td>\n",
       "      <td>DUNDAS STATION</td>\n",
       "      <td>SUDP</td>\n",
       "      <td>3</td>\n",
       "      <td>6</td>\n",
       "      <td>N</td>\n",
       "      <td>YU</td>\n",
       "      <td>5881</td>\n",
       "      <td>Disorderly Patron</td>\n",
       "      <td>43.656389</td>\n",
       "      <td>-79.380833</td>\n",
       "      <td>Yonge University Spadina</td>\n",
       "      <td>December</td>\n",
       "      <td>9PM-1:30AM</td>\n",
       "      <td>12</td>\n",
       "      <td>22</td>\n",
       "      <td>2018</td>\n",
       "    </tr>\n",
       "  </tbody>\n",
       "</table>\n",
       "</div>"
      ],
      "text/plain": [
       "          id        date   time     day                  station   code  \\\n",
       "13722  13767  2018-12-31  19:20  Monday         DONLANDS STATION  MUNOA   \n",
       "13723  13768  2018-12-31  20:19  Monday       SHERBOURNE STATION   TUOS   \n",
       "13724  13769  2018-12-31  21:29  Monday  SCARBOROUGH CTR STATION   MRTO   \n",
       "13725  13770  2018-12-31  21:49  Monday      SPADINA YUS STATION  PUSTC   \n",
       "13726  13771  2018-12-31  22:36  Monday           DUNDAS STATION   SUDP   \n",
       "\n",
       "       min_delay  min_gap bound line  vehicle  \\\n",
       "13722          3        7     E   BD        0   \n",
       "13723          3        7     E   BD     5058   \n",
       "13724          5       10     N  SRT     3011   \n",
       "13725          5       10     N   YU     5601   \n",
       "13726          3        6     N   YU     5881   \n",
       "\n",
       "                                               code_info   latitude  \\\n",
       "13722  No Operator Immediately Available - Not E.S.A....  43.681111   \n",
       "13723                         Operator Overshot Platform  43.672222   \n",
       "13724                                            Timeout  43.774444   \n",
       "13725                   Signals - Track Circuit Problems  43.667220   \n",
       "13726                                  Disorderly Patron  43.656389   \n",
       "\n",
       "       longitude                 line_name     month  time_range  \\\n",
       "13722 -79.337778            Bloor Danforth  December       6-9PM   \n",
       "13723 -79.376389            Bloor Danforth  December       6-9PM   \n",
       "13724 -79.257778  Scarborough Rail Transit  December  9PM-1:30AM   \n",
       "13725 -79.403890  Yonge University Spadina  December  9PM-1:30AM   \n",
       "13726 -79.380833  Yonge University Spadina  December  9PM-1:30AM   \n",
       "\n",
       "       month_number  hour  year  \n",
       "13722            12    19  2018  \n",
       "13723            12    20  2018  \n",
       "13724            12    21  2018  \n",
       "13725            12    21  2018  \n",
       "13726            12    22  2018  "
      ]
     },
     "execution_count": 5,
     "metadata": {},
     "output_type": "execute_result"
    }
   ],
   "source": [
    "# Read our Data file with the pandas library\n",
    "# Not every CSV requires an encoding, but be aware this can come up\n",
    "subway_data_df = pd.read_csv(file_one, encoding=\"ISO-8859-1\")\n",
    "subway_data_df.tail()"
   ]
  },
  {
   "cell_type": "code",
   "execution_count": 6,
   "metadata": {},
   "outputs": [
    {
     "data": {
      "text/plain": [
       "13727"
      ]
     },
     "execution_count": 6,
     "metadata": {},
     "output_type": "execute_result"
    }
   ],
   "source": [
    "len(subway_data_df)"
   ]
  },
  {
   "cell_type": "code",
   "execution_count": 7,
   "metadata": {},
   "outputs": [],
   "source": [
    "For_ML = subway_data_df.loc[(subway_data_df['min_delay'] <= 30)]"
   ]
  },
  {
   "cell_type": "code",
   "execution_count": 8,
   "metadata": {},
   "outputs": [
    {
     "data": {
      "text/plain": [
       "13513"
      ]
     },
     "execution_count": 8,
     "metadata": {},
     "output_type": "execute_result"
    }
   ],
   "source": [
    "len(For_ML)"
   ]
  },
  {
   "cell_type": "code",
   "execution_count": null,
   "metadata": {},
   "outputs": [],
   "source": [
    "# Store filepath in a variable\n",
    "file_tw = \"../Data/ttc_subway_delay_2018_2019.csv\""
   ]
  },
  {
   "cell_type": "code",
   "execution_count": null,
   "metadata": {},
   "outputs": [],
   "source": [
    "For_ML.to_csv"
   ]
  }
 ],
 "metadata": {
  "kernelspec": {
   "display_name": "Python 3",
   "language": "python",
   "name": "python3"
  },
  "language_info": {
   "codemirror_mode": {
    "name": "ipython",
    "version": 3
   },
   "file_extension": ".py",
   "mimetype": "text/x-python",
   "name": "python",
   "nbconvert_exporter": "python",
   "pygments_lexer": "ipython3",
   "version": "3.7.3"
  }
 },
 "nbformat": 4,
 "nbformat_minor": 2
}
