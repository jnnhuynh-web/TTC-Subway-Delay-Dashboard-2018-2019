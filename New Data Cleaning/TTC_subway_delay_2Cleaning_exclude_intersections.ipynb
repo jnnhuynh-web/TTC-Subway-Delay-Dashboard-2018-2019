{
 "cells": [
  {
   "cell_type": "code",
   "execution_count": 33,
   "metadata": {},
   "outputs": [],
   "source": [
    "import pandas as pd\n",
    "import numpy as np"
   ]
  },
  {
   "cell_type": "code",
   "execution_count": 34,
   "metadata": {},
   "outputs": [],
   "source": [
    "df1819_nozero = pd.read_csv('Data20182019_NoZero.csv')"
   ]
  },
  {
   "cell_type": "code",
   "execution_count": 35,
   "metadata": {},
   "outputs": [
    {
     "data": {
      "text/plain": [
       "date         object\n",
       "time         object\n",
       "day          object\n",
       "station      object\n",
       "code         object\n",
       "min_delay     int64\n",
       "min_gap       int64\n",
       "bound        object\n",
       "line         object\n",
       "vehicle       int64\n",
       "dtype: object"
      ]
     },
     "execution_count": 35,
     "metadata": {},
     "output_type": "execute_result"
    }
   ],
   "source": [
    "df1819_nozero.dtypes"
   ]
  },
  {
   "cell_type": "code",
   "execution_count": 36,
   "metadata": {},
   "outputs": [
    {
     "data": {
      "text/plain": [
       "13963"
      ]
     },
     "execution_count": 36,
     "metadata": {},
     "output_type": "execute_result"
    }
   ],
   "source": [
    "len(df1819_nozero)"
   ]
  },
  {
   "cell_type": "code",
   "execution_count": 37,
   "metadata": {},
   "outputs": [
    {
     "data": {
      "text/plain": [
       "array(['DUPONT STATION', 'EGLINTON WEST STATION', 'ST CLAIR WEST STATION',\n",
       "       'DAVISVILLE STATION', 'KEELE STATION', 'DONLANDS STATION',\n",
       "       'KIPLING STATION', 'KENNEDY BD STATION', 'GREENWOOD STATION',\n",
       "       'SHEPPARD WEST STATION', 'FINCH STATION', 'GLENCAIRN STATION',\n",
       "       'BATHURST STATION', 'COXWELL STATION', 'WARDEN STATION',\n",
       "       'CHRISTIE STATION', 'WILSON YARD', 'WILSON STATION',\n",
       "       'CASTLE FRANK STATION', 'DUNDAS STATION', 'YORK MILLS STATION',\n",
       "       'SCARB CTR STATION', 'ROSEDALE STATION', 'BESSARION STATION',\n",
       "       'SPADINA YUS STATION', 'ISLINGTON STATION', 'MUSEUM STATION',\n",
       "       'YONGE BD STATION', \"QUEEN'S PARK STATION\", 'LAWRENCE STATION',\n",
       "       'ELLESMERE STATION', 'ST GEORGE YUS STATION',\n",
       "       'ST GEORGE BD STATION', 'CHESTER STATION', 'UNION STATION',\n",
       "       'OLD MILL STATION', 'BLOOR STATION', 'SPADINA BD STATION',\n",
       "       'PAPE STATION', 'YORKDALE STATION', 'QUEEN STATION',\n",
       "       'SHEPPARD STATION', 'NORTH YORK CTR STATION',\n",
       "       'VICTORIA PARK STATION', 'HIGH PARK STATION', 'WELLESLEY STATION',\n",
       "       'EGLINTON STATION', 'VAUGHAN MC STATION', 'ROYAL YORK STATION',\n",
       "       'DUNDAS WEST STATION', 'LAWRENCE WEST STATION', 'WOODBINE STATION',\n",
       "       'OSSINGTON STATION', 'SHERBOURNE STATION', 'KING STATION',\n",
       "       'MCCOWAN STATION', 'SUMMERHILL STATION', 'DON MILLS STATION',\n",
       "       'BAY STATION', 'ST CLAIR STATION', 'DOWNSVIEW PARK STATION',\n",
       "       'COLLEGE STATION', 'KENNEDY SRT STATION', 'YORK UNIVERSITY STATIO',\n",
       "       'YONGE SHP STATION', 'OSGOODE STATION', 'DUFFERIN STATION',\n",
       "       'RUNNYMEDE STATION', 'LANSDOWNE STATION', 'WILSON HOSTLER',\n",
       "       'LAWRENCE EAST STATION', 'JANE STATION', 'ST PATRICK STATION',\n",
       "       'BROADVIEW STATION', 'HIGHWAY 407 STATION', 'ST ANDREW STATION',\n",
       "       'MAIN STREET STATION', 'BLOOR DANFORTH SUBWAY', 'LESLIE STATION',\n",
       "       'MIDLAND STATION', 'FINCH WEST STATION', 'SRT LINE',\n",
       "       'GREENWOOD PORTAL', 'DAVISVILLE BUILD UP', 'KEELE YARD',\n",
       "       'DAVISVILLE BUILD-UP', 'KIPLING TO KENNEDY', 'BAYVIEW STATION',\n",
       "       'GREENWOOD YARD', 'PIONEER VILLAGE STATIO',\n",
       "       'SCARBOROUGH RAPID TRAN', 'BATHUSRT STATION',\n",
       "       'YORK MILLS CENTRE TRAC', 'DAVISVILLE YARD', 'BROADVIEW TO YONGE',\n",
       "       'UNION STATION TO KING', 'SHEPPARD WEST TO DOWNS',\n",
       "       'YONGE BD STATION (LEAV', 'SCARBOROUGH CTR STATIO',\n",
       "       'DUPONT MIGRATION POINT', 'SHEPPARD-YONGE STATION',\n",
       "       'UNION TO KING', 'FINCH STATION TO DUPON',\n",
       "       'UNION STATION (TO KING', 'SYSTEMWIDE', 'BLOOR VIA DUCT',\n",
       "       'WARDEN TO VICTORIA PAR', 'UNION TO ST ANDREW',\n",
       "       'KIPLING TO HIGH PARK', 'KIPLING TO KENNEDY STN',\n",
       "       'KIPLING TO COXWELL', 'YORKDALE TO FINCH STAT',\n",
       "       'UNION STATION TO ST AN', 'WILSON TO SHEPPARD WES',\n",
       "       'UNION TO FINCH', 'S/O EGLINTON TO ST CLA',\n",
       "       \"QUEEN'S PARK TO ST CLA\", 'KENNEDY TO KIPLING STA',\n",
       "       'KENNEDY TO KIPLING', 'DAVISVILLE BUID-UP', 'MCCOWAN YARD',\n",
       "       'WILSON STATION TO YORK', 'BLOOR SATION', 'DAVISVILLE HOSTLER',\n",
       "       'WILSON STATION- HOSTLE', 'BROADVIEW TO KIPLING S',\n",
       "       'UNION TO KING STATION', 'E13', 'UNION STATION (TO ST A',\n",
       "       'YONGE STATION', 'KING TO UNION', 'KEELE TO DUNDAS WEST',\n",
       "       'UNION TO FINCH STATION', 'CHESTER TO WARDEN',\n",
       "       'YONGE TO COXWELL STATI', 'KIPLING TO KENNEDY STA',\n",
       "       'QUEENS PARK STATION', 'CHURCH EMERGENCY EXIT',\n",
       "       'WILSON YARD - NORTH HO', 'W/O CASTLE FRANK TO GR',\n",
       "       'CHESTER TO YONGE STATI', 'SCARBORUGH RAPID TRANS',\n",
       "       'WARDEN AND KENNEDY', 'UNION STATION (KING)', 'BLOOR TO ST.CLAIR',\n",
       "       'VMC STATION TO SHEPPAR', 'BLOOR TO UNION',\n",
       "       'ALLEN RD (N OF EGLINTO', 'SPADINA YUS STATION (L',\n",
       "       'FINCH TO NORTH YORK CT', 'KENNEDY TO LAWRENCE EA',\n",
       "       'FINCH TO VAUGHAN METRO', 'KIPLING STATION TO KEN',\n",
       "       'KENNEDY STATION TO KIP', 'TYSSE LINE', 'SHEPPARD WEST MIGRATI',\n",
       "       'UNION TO ST GEORGE', 'LAWRENCE EAST TO ELLES',\n",
       "       'EGLINTON WEST TO VMC', 'UNION STATION TO FINCH',\n",
       "       'LEAVING LAWRENCE EAST', 'MCCOWAN TO KENNEDY STA',\n",
       "       'DUFFERIN TO LANSDOWNE', 'WILSON TO EGLINTON',\n",
       "       'SHEPPARD WEST PORTAL', 'GREENWOOD WYE', 'TRANSIT CONTROL CENTRE',\n",
       "       'ST CLAIR WEST TO EGLIN', 'SHEPPARD WEST MIGRATIO',\n",
       "       'ST CLAIR WEST TO DUPON', 'OLD MILL TO ISLINGTON',\n",
       "       'KIPLING TO ROYAL YORK', 'SHEPPARD LINE', 'SHEPPARD WEST TO WILSO',\n",
       "       'VMC TO SHEPPARD WEST', 'ATC FAILURE', 'OSGOODE POCKET',\n",
       "       'SYSTEM WIDE', 'WILSON HOSLTER', 'SHEPPARD YONGE STATION',\n",
       "       'SPADINA STATION', 'SOUTH OF LAWRENCE SRT', 'SOUTH OF MIDLAND SRT',\n",
       "       'UNION (TO ST ANDREW)', 'BESSARIAN STATION',\n",
       "       'LAWRENCE TO EGLINTON S', 'FINCH TO UNION STATION',\n",
       "       'YONGE UNIVERSITY LINE', 'YUS/BD/SHEPPARD SUBWAY', 'ATC TERRITORY',\n",
       "       'LAWRENCE WEST TO EGLIN'], dtype=object)"
      ]
     },
     "execution_count": 37,
     "metadata": {},
     "output_type": "execute_result"
    }
   ],
   "source": [
    "df1819_nozero[\"station\"].unique()"
   ]
  },
  {
   "cell_type": "code",
   "execution_count": 38,
   "metadata": {},
   "outputs": [
    {
     "data": {
      "text/plain": [
       "69"
      ]
     },
     "execution_count": 38,
     "metadata": {},
     "output_type": "execute_result"
    }
   ],
   "source": [
    "Clean1 = df1819_nozero.station.str.contains(' TO ')\n",
    "len(df1819_nozero[Clean1])"
   ]
  },
  {
   "cell_type": "code",
   "execution_count": 39,
   "metadata": {},
   "outputs": [
    {
     "data": {
      "text/plain": [
       "13894"
      ]
     },
     "execution_count": 39,
     "metadata": {},
     "output_type": "execute_result"
    }
   ],
   "source": [
    "df1819_nozero_Clean1 = df1819_nozero[~df1819_nozero[\"station\"].str.contains(' TO ')]\n",
    "len(df1819_nozero_Clean1)"
   ]
  },
  {
   "cell_type": "code",
   "execution_count": 40,
   "metadata": {},
   "outputs": [
    {
     "data": {
      "text/plain": [
       "13784"
      ]
     },
     "execution_count": 40,
     "metadata": {},
     "output_type": "execute_result"
    }
   ],
   "source": [
    "df1819_nozero_Clean2 = df1819_nozero_Clean1[~df1819_nozero_Clean1[\"station\"].str.contains('ATC')]\n",
    "df1819_nozero_Clean3 = df1819_nozero_Clean2[~df1819_nozero_Clean2[\"station\"].str.contains('YARD')]\n",
    "df1819_nozero_Clean4 = df1819_nozero_Clean3[~df1819_nozero_Clean3[\"station\"].str.contains('HOSTLER')]\n",
    "len(df1819_nozero_Clean4)"
   ]
  },
  {
   "cell_type": "code",
   "execution_count": 41,
   "metadata": {},
   "outputs": [
    {
     "data": {
      "text/plain": [
       "date         13784\n",
       "time         13784\n",
       "day          13784\n",
       "station      13784\n",
       "code         13784\n",
       "min_delay    13784\n",
       "min_gap      13784\n",
       "bound        13639\n",
       "line         13783\n",
       "vehicle      13784\n",
       "dtype: int64"
      ]
     },
     "execution_count": 41,
     "metadata": {},
     "output_type": "execute_result"
    }
   ],
   "source": [
    "df1819_nozero_Clean4.count()"
   ]
  },
  {
   "cell_type": "code",
   "execution_count": 42,
   "metadata": {},
   "outputs": [
    {
     "data": {
      "text/plain": [
       "13775"
      ]
     },
     "execution_count": 42,
     "metadata": {},
     "output_type": "execute_result"
    }
   ],
   "source": [
    "df1819_nozero_Clean5 = df1819_nozero_Clean4[~df1819_nozero_Clean4[\"station\"].str.contains('SHEPPARD WEST MIGRA')]\n",
    "len(df1819_nozero_Clean5)"
   ]
  },
  {
   "cell_type": "code",
   "execution_count": 43,
   "metadata": {},
   "outputs": [
    {
     "data": {
      "text/plain": [
       "13758"
      ]
     },
     "execution_count": 43,
     "metadata": {},
     "output_type": "execute_result"
    }
   ],
   "source": [
    "df1819_nozero_Clean6 = df1819_nozero_Clean5[~df1819_nozero_Clean5[\"station\"].str.contains('DAVISVILLE BU')]\n",
    "df1819_nozero_Clean6 = df1819_nozero_Clean6[~df1819_nozero_Clean6[\"station\"].str.contains('SYSTEM')]\n",
    "df1819_nozero_Clean6 = df1819_nozero_Clean6[~df1819_nozero_Clean6[\"station\"].str.contains('POCKET')]\n",
    "df1819_nozero_Clean6 = df1819_nozero_Clean6[~df1819_nozero_Clean6[\"station\"].str.contains('HOSLTER')]\n",
    "df1819_nozero_Clean6 = df1819_nozero_Clean6[~df1819_nozero_Clean6[\"station\"].str.contains('PORTAL')]\n",
    "df1819_nozero_Clean6 = df1819_nozero_Clean6[~df1819_nozero_Clean6[\"station\"].str.contains('SYSTEM')]\n",
    "len(df1819_nozero_Clean6)"
   ]
  },
  {
   "cell_type": "code",
   "execution_count": 44,
   "metadata": {},
   "outputs": [
    {
     "data": {
      "text/plain": [
       "13727"
      ]
     },
     "execution_count": 44,
     "metadata": {},
     "output_type": "execute_result"
    }
   ],
   "source": [
    "df1819_nozero_Clean6 = df1819_nozero_Clean6[~df1819_nozero_Clean6[\"station\"].str.contains('BLOOR VIA DUCT')]\n",
    "df1819_nozero_Clean6 = df1819_nozero_Clean6[~df1819_nozero_Clean6[\"station\"].str.contains('WARDEN AND')]\n",
    "df1819_nozero_Clean6 = df1819_nozero_Clean6[~df1819_nozero_Clean6[\"station\"].str.contains('SOUTH OF MIDLAND')]\n",
    "df1819_nozero_Clean6 = df1819_nozero_Clean6[~df1819_nozero_Clean6[\"station\"].str.contains('ALLEN RD')]\n",
    "df1819_nozero_Clean6 = df1819_nozero_Clean6[~df1819_nozero_Clean6[\"station\"].str.contains('LEAVING LAWRENCE')]\n",
    "df1819_nozero_Clean6 = df1819_nozero_Clean6[~df1819_nozero_Clean6[\"station\"].str.contains('TRANSIT')]\n",
    "df1819_nozero_Clean6 = df1819_nozero_Clean6[~df1819_nozero_Clean6[\"station\"].str.contains('SOUTH OF LAWRENCE')]\n",
    "df1819_nozero_Clean6 = df1819_nozero_Clean6[~df1819_nozero_Clean6[\"station\"].str.contains('TYSSE LINE')]\n",
    "df1819_nozero_Clean6 = df1819_nozero_Clean6[~df1819_nozero_Clean6[\"station\"].str.contains('E13')]\n",
    "df1819_nozero_Clean6 = df1819_nozero_Clean6[~df1819_nozero_Clean6[\"station\"].str.contains('GREENWOOD WYE')]\n",
    "df1819_nozero_Clean6 = df1819_nozero_Clean6[~df1819_nozero_Clean6[\"station\"].str.contains('SHEPPARD LINE')]\n",
    "df1819_nozero_Clean6 = df1819_nozero_Clean6[~df1819_nozero_Clean6[\"station\"].str.contains('DUPONT MIGRATION')]\n",
    "df1819_nozero_Clean6 = df1819_nozero_Clean6[~df1819_nozero_Clean6[\"station\"].str.contains('YUS/BD/SHEPPARD')]\n",
    "df1819_nozero_Clean6 = df1819_nozero_Clean6[~df1819_nozero_Clean6[\"station\"].str.contains('YONGE UNIVERSITY LINE')]\n",
    "df1819_nozero_Clean6 = df1819_nozero_Clean6[~df1819_nozero_Clean6[\"station\"].str.contains('SCARBORUGH RAPID TRANS')]\n",
    "df1819_nozero_Clean6 = df1819_nozero_Clean6[~df1819_nozero_Clean6[\"station\"].str.contains('EXIT')]\n",
    "df1819_nozero_Clean6 = df1819_nozero_Clean6[~df1819_nozero_Clean6[\"station\"].str.contains('BLOOR DANFORTH SUBWAY')]\n",
    "df1819_nozero_Clean6 = df1819_nozero_Clean6[~df1819_nozero_Clean6[\"station\"].str.contains('SRT LINE')]\n",
    "df1819_nozero_Clean6 = df1819_nozero_Clean6[~df1819_nozero_Clean6[\"station\"].str.contains('YORK MILLS CENTRE TRAC')]\n",
    "len(df1819_nozero_Clean6)"
   ]
  },
  {
   "cell_type": "code",
   "execution_count": 45,
   "metadata": {},
   "outputs": [
    {
     "data": {
      "text/plain": [
       "UNION STATION             172\n",
       "UNION STATION (TO KING      3\n",
       "UNION (TO ST ANDREW)        2\n",
       "UNION STATION (TO ST A      2\n",
       "UNION STATION (KING)        1\n",
       "Name: station, dtype: int64"
      ]
     },
     "execution_count": 45,
     "metadata": {},
     "output_type": "execute_result"
    }
   ],
   "source": [
    "df1819_nozero_drop = df1819_nozero_Clean6[df1819_nozero_Clean6[\"station\"].str.contains('UNION')]\n",
    "df1819_nozero_drop['station'].value_counts()"
   ]
  },
  {
   "cell_type": "code",
   "execution_count": 46,
   "metadata": {},
   "outputs": [],
   "source": [
    "df1819_nozero_Clean6[\"station\"] = df1819_nozero_Clean6[\"station\"].replace(\n",
    "    {'UNION STATION (TO KING': 'UNION STATION', 'UNION STATION (TO ST A':'UNION STATION', 'UNION STATION (KING)':'UNION STATION'})"
   ]
  },
  {
   "cell_type": "code",
   "execution_count": 47,
   "metadata": {},
   "outputs": [
    {
     "data": {
      "text/plain": [
       "PIONEER VILLAGE STATIO    44\n",
       "YORK UNIVERSITY STATIO    37\n",
       "SCARBOROUGH CTR STATIO    28\n",
       "SCARBOROUGH RAPID TRAN     5\n",
       "UNION (TO ST ANDREW)       2\n",
       "BLOOR SATION               1\n",
       "Name: station, dtype: int64"
      ]
     },
     "execution_count": 47,
     "metadata": {},
     "output_type": "execute_result"
    }
   ],
   "source": [
    "df1819_nozero_drop = df1819_nozero_Clean6[~df1819_nozero_Clean6[\"station\"].str.contains('STATION')]\n",
    "df1819_nozero_drop['station'].value_counts()"
   ]
  },
  {
   "cell_type": "code",
   "execution_count": 48,
   "metadata": {},
   "outputs": [],
   "source": [
    "df1819_nozero_Clean6[\"station\"] = df1819_nozero_Clean6[\"station\"].replace(\n",
    "    {'PIONEER VILLAGE STATIO': 'PIONEER VILLAGE STATION', 'YORK UNIVERSITY STATIO': 'YORK UNIVERSITY STATION', 'SCARBOROUGH CTR STATIO':'SCARBOROUGH CTR STATION'})"
   ]
  },
  {
   "cell_type": "code",
   "execution_count": 49,
   "metadata": {},
   "outputs": [],
   "source": [
    "df1819_nozero_Clean6[\"station\"] = df1819_nozero_Clean6[\"station\"].replace(\n",
    "    {'UNION (TO ST ANDREW)': 'UNION STATION', 'SCARBOROUGH RAPID TRAN':'SCARBOROUGH CTR STATION','BLOOR SATION':'BLOOR STATION'})"
   ]
  },
  {
   "cell_type": "code",
   "execution_count": 50,
   "metadata": {},
   "outputs": [],
   "source": [
    "df1819_nozero_Clean6[\"station\"] = df1819_nozero_Clean6[\"station\"].replace(\n",
    "    {'BESSARIAN STATION': 'BESSARION STATION','WILSON STATION- HOSTLE': 'WILSON STATION'})"
   ]
  },
  {
   "cell_type": "code",
   "execution_count": 51,
   "metadata": {},
   "outputs": [
    {
     "data": {
      "text/plain": [
       "Series([], Name: station, dtype: int64)"
      ]
     },
     "execution_count": 51,
     "metadata": {},
     "output_type": "execute_result"
    }
   ],
   "source": [
    "df1819_nozero_drop = df1819_nozero_Clean6[~df1819_nozero_Clean6[\"station\"].str.contains('STATION')]\n",
    "df1819_nozero_drop['station'].value_counts()"
   ]
  },
  {
   "cell_type": "code",
   "execution_count": 52,
   "metadata": {},
   "outputs": [
    {
     "data": {
      "text/plain": [
       "array(['DUPONT STATION', 'EGLINTON WEST STATION', 'ST CLAIR WEST STATION',\n",
       "       'DAVISVILLE STATION', 'KEELE STATION', 'DONLANDS STATION',\n",
       "       'KIPLING STATION', 'KENNEDY BD STATION', 'GREENWOOD STATION',\n",
       "       'SHEPPARD WEST STATION', 'FINCH STATION', 'GLENCAIRN STATION',\n",
       "       'BATHURST STATION', 'COXWELL STATION', 'WARDEN STATION',\n",
       "       'CHRISTIE STATION', 'WILSON STATION', 'CASTLE FRANK STATION',\n",
       "       'DUNDAS STATION', 'YORK MILLS STATION', 'SCARB CTR STATION',\n",
       "       'ROSEDALE STATION', 'BESSARION STATION', 'SPADINA YUS STATION',\n",
       "       'ISLINGTON STATION', 'MUSEUM STATION', 'YONGE BD STATION',\n",
       "       \"QUEEN'S PARK STATION\", 'LAWRENCE STATION', 'ELLESMERE STATION',\n",
       "       'ST GEORGE YUS STATION', 'ST GEORGE BD STATION', 'CHESTER STATION',\n",
       "       'UNION STATION', 'OLD MILL STATION', 'BLOOR STATION',\n",
       "       'SPADINA BD STATION', 'PAPE STATION', 'YORKDALE STATION',\n",
       "       'QUEEN STATION', 'SHEPPARD STATION', 'NORTH YORK CTR STATION',\n",
       "       'VICTORIA PARK STATION', 'HIGH PARK STATION', 'WELLESLEY STATION',\n",
       "       'EGLINTON STATION', 'VAUGHAN MC STATION', 'ROYAL YORK STATION',\n",
       "       'DUNDAS WEST STATION', 'LAWRENCE WEST STATION', 'WOODBINE STATION',\n",
       "       'OSSINGTON STATION', 'SHERBOURNE STATION', 'KING STATION',\n",
       "       'MCCOWAN STATION', 'SUMMERHILL STATION', 'DON MILLS STATION',\n",
       "       'BAY STATION', 'ST CLAIR STATION', 'DOWNSVIEW PARK STATION',\n",
       "       'COLLEGE STATION', 'KENNEDY SRT STATION',\n",
       "       'YORK UNIVERSITY STATION', 'YONGE SHP STATION', 'OSGOODE STATION',\n",
       "       'DUFFERIN STATION', 'RUNNYMEDE STATION', 'LANSDOWNE STATION',\n",
       "       'LAWRENCE EAST STATION', 'JANE STATION', 'ST PATRICK STATION',\n",
       "       'BROADVIEW STATION', 'HIGHWAY 407 STATION', 'ST ANDREW STATION',\n",
       "       'MAIN STREET STATION', 'LESLIE STATION', 'MIDLAND STATION',\n",
       "       'FINCH WEST STATION', 'BAYVIEW STATION', 'PIONEER VILLAGE STATION',\n",
       "       'SCARBOROUGH CTR STATION', 'BATHUSRT STATION',\n",
       "       'YONGE BD STATION (LEAV', 'SHEPPARD-YONGE STATION',\n",
       "       'YONGE STATION', 'QUEENS PARK STATION', 'SPADINA YUS STATION (L',\n",
       "       'SHEPPARD YONGE STATION', 'SPADINA STATION'], dtype=object)"
      ]
     },
     "execution_count": 52,
     "metadata": {},
     "output_type": "execute_result"
    }
   ],
   "source": [
    "df1819_nozero_Clean6[\"station\"].unique()"
   ]
  },
  {
   "cell_type": "code",
   "execution_count": 53,
   "metadata": {},
   "outputs": [
    {
     "data": {
      "text/plain": [
       "array(['SCARB CTR STATION', 'SCARBOROUGH CTR STATION'], dtype=object)"
      ]
     },
     "execution_count": 53,
     "metadata": {},
     "output_type": "execute_result"
    }
   ],
   "source": [
    "df1819_no0_stations = df1819_nozero_Clean6[df1819_nozero_Clean6[\"station\"].str.contains('SCAR')]\n",
    "df1819_no0_stations[\"station\"].unique()"
   ]
  },
  {
   "cell_type": "code",
   "execution_count": 54,
   "metadata": {},
   "outputs": [
    {
     "data": {
      "text/plain": [
       "array(['SCARBOROUGH CTR STATION'], dtype=object)"
      ]
     },
     "execution_count": 54,
     "metadata": {},
     "output_type": "execute_result"
    }
   ],
   "source": [
    "df1819_nozero_Clean6[\"station\"] = df1819_nozero_Clean6[\"station\"].replace(\n",
    "    {'SCARB CTR STATION': 'SCARBOROUGH CTR STATION'})\n",
    "df1819_no0_stations = df1819_nozero_Clean6[df1819_nozero_Clean6[\"station\"].str.contains('SCAR')]\n",
    "df1819_no0_stations[\"station\"].unique()"
   ]
  },
  {
   "cell_type": "code",
   "execution_count": 55,
   "metadata": {},
   "outputs": [
    {
     "data": {
      "text/plain": [
       "array([\"QUEEN'S PARK STATION\", 'QUEENS PARK STATION'], dtype=object)"
      ]
     },
     "execution_count": 55,
     "metadata": {},
     "output_type": "execute_result"
    }
   ],
   "source": [
    "df1819_no0_stations = df1819_nozero_Clean6[df1819_nozero_Clean6[\"station\"].str.contains('S PARK')]\n",
    "df1819_no0_stations[\"station\"].unique()"
   ]
  },
  {
   "cell_type": "code",
   "execution_count": 56,
   "metadata": {},
   "outputs": [
    {
     "data": {
      "text/plain": [
       "array([\"QUEEN'S PARK STATION\"], dtype=object)"
      ]
     },
     "execution_count": 56,
     "metadata": {},
     "output_type": "execute_result"
    }
   ],
   "source": [
    "df1819_nozero_Clean6[\"station\"] = df1819_nozero_Clean6[\"station\"].replace(\n",
    "    {'QUEENS PARK STATION': \"QUEEN'S PARK STATION\"})\n",
    "df1819_no0_stations = df1819_nozero_Clean6[df1819_nozero_Clean6[\"station\"].str.contains('S PARK')]\n",
    "df1819_no0_stations[\"station\"].unique()"
   ]
  },
  {
   "cell_type": "code",
   "execution_count": 57,
   "metadata": {},
   "outputs": [],
   "source": [
    "df1819_nozero_Clean6.to_csv('Data20182019_No0_CleanPart1.csv', index=False)"
   ]
  },
  {
   "cell_type": "code",
   "execution_count": 58,
   "metadata": {},
   "outputs": [
    {
     "data": {
      "text/plain": [
       "13727"
      ]
     },
     "execution_count": 58,
     "metadata": {},
     "output_type": "execute_result"
    }
   ],
   "source": [
    "len(df1819_nozero_Clean6)"
   ]
  },
  {
   "cell_type": "code",
   "execution_count": null,
   "metadata": {},
   "outputs": [],
   "source": []
  }
 ],
 "metadata": {
  "kernelspec": {
   "display_name": "Python 3",
   "language": "python",
   "name": "python3"
  },
  "language_info": {
   "codemirror_mode": {
    "name": "ipython",
    "version": 3
   },
   "file_extension": ".py",
   "mimetype": "text/x-python",
   "name": "python",
   "nbconvert_exporter": "python",
   "pygments_lexer": "ipython3",
   "version": "3.7.3"
  }
 },
 "nbformat": 4,
 "nbformat_minor": 2
}
